{
 "cells": [
  {
   "cell_type": "markdown",
   "metadata": {},
   "source": [
    "### Estimation of exchange interactions between spins by baysian method"
   ]
  },
  {
   "cell_type": "markdown",
   "metadata": {},
   "source": [
    "reference : https://arxiv.org/abs/1701.09063"
   ]
  },
  {
   "cell_type": "code",
   "execution_count": 51,
   "metadata": {},
   "outputs": [],
   "source": [
    "import numpy as np\n",
    "import matplotlib.pyplot as plt"
   ]
  },
  {
   "cell_type": "code",
   "execution_count": 4,
   "metadata": {},
   "outputs": [],
   "source": [
    "J = np.array([\n",
    "    1,\n",
    "    4,\n",
    "    5,\n",
    "    6,\n",
    "    0,\n",
    "    0,\n",
    "    0\n",
    "])"
   ]
  },
  {
   "cell_type": "code",
   "execution_count": 2,
   "metadata": {},
   "outputs": [],
   "source": [
    "b = 0.1"
   ]
  },
  {
   "cell_type": "code",
   "execution_count": 31,
   "metadata": {},
   "outputs": [],
   "source": [
    "interactions = np.array([\n",
    "    [0,    J[0], J[1], J[3], 0,    0,    0,    0,    0,    0,    0,    0,    0],  # spin 1\n",
    "    [J[0], 0,    J[2], J[0], 0, J[5],    0,    0,    0,    0,    0,    0,    0],  # spin 2\n",
    "    [J[1], J[2], 0,    J[1], 0, J[4],    0,    0,    0,    0,    0,    0,    0],  # spin 3\n",
    "    [J[3], J[0], J[1], 0,    J[1], J[0], J[3], 0,    0,    0,    0,    0,    0],  # spin 4\n",
    "    [0,    0,    J[6], J[2], 0,    J[2], J[1], 0,    J[6], 0,    0,    0,    0],  # spin 5\n",
    "    [0,    J[5], J[4], J[0], J[2], 0,    J[0], J[5], 0,    0,    0,    0,    0],  # spin 6\n",
    "    [0,    0,    0,    J[3], J[1], J[0], 0,    J[0], J[1], J[3], 0,    0,    0],  # spin 7\n",
    "    [0,    0,    0,    0,    0,    J[5], J[0], 0,    J[2], J[0], 0,    J[5], 0],  # spin 8\n",
    "    [0,    0,    0,    0, J[6],    J[4], J[1], J[2], 0,    J[1], J[6], J[4], 0],  # spin 9\n",
    "    [0,    0,    0,    0,    0,    0,    J[3], J[0], J[1], 0,    J[1], J[0], J[3]],  # spin 10\n",
    "    [0,    0,    0,    0,    0,    0,    0,    0,    J[6], J[1], 0,    J[2], J[1]],  # spin 11\n",
    "    [0,    0,    0,    0,    0,    0,    0,    J[5], J[4], J[0], J[2], 0,    J[0]],  # spin 12\n",
    "    [0,    0,    0,    0,    0,    0,    0,    0,    0,    J[3], J[1], J[0], 0],  # spin 13\n",
    "])"
   ]
  },
  {
   "cell_type": "code",
   "execution_count": 56,
   "metadata": {},
   "outputs": [],
   "source": [
    "def spin_hamiltonian(spins, interactions, b, h=0.0):\n",
    "    energy = 0.\n",
    "    for i, s1 in enumerate(spins):\n",
    "        for j, s2 in enumerate(spins):\n",
    "            energy += interactions[i][j]*(s1*s2 + b*(s1*s2)**2)\n",
    "    energy *= 0.5\n",
    "    for s in spins:\n",
    "        energy -= h*s\n",
    "    return energy"
   ]
  },
  {
   "cell_type": "code",
   "execution_count": 60,
   "metadata": {},
   "outputs": [],
   "source": [
    "spins = np.random.randint(0, 2, 13) - 0.5"
   ]
  },
  {
   "cell_type": "code",
   "execution_count": 61,
   "metadata": {},
   "outputs": [
    {
     "data": {
      "text/plain": [
       "array([-0.5, -0.5, -0.5,  0.5, -0.5, -0.5, -0.5,  0.5,  0.5,  0.5,  0.5,\n",
       "        0.5, -0.5])"
      ]
     },
     "execution_count": 61,
     "metadata": {},
     "output_type": "execute_result"
    }
   ],
   "source": [
    "spins"
   ]
  },
  {
   "cell_type": "code",
   "execution_count": 62,
   "metadata": {},
   "outputs": [
    {
     "data": {
      "text/plain": [
       "0.10312500000000013"
      ]
     },
     "execution_count": 62,
     "metadata": {},
     "output_type": "execute_result"
    }
   ],
   "source": [
    "spin_hamiltonian(spins, interactions, b, 1.4)"
   ]
  },
  {
   "cell_type": "code",
   "execution_count": 63,
   "metadata": {},
   "outputs": [
    {
     "name": "stdout",
     "output_type": "stream",
     "text": [
      "16384\n"
     ]
    }
   ],
   "source": [
    "print(2**14)"
   ]
  },
  {
   "cell_type": "code",
   "execution_count": 64,
   "metadata": {},
   "outputs": [],
   "source": [
    "def get_min_energy(interactions, b, h=0.0):\n",
    "    spins = []\n",
    "    min_energy = float('inf')\n",
    "    for s1 in (-0.5, 0.5):\n",
    "        for s2 in (-0.5, 0.5):\n",
    "            for s3 in (-0.5, 0.5):\n",
    "                for s4 in (-0.5, 0.5):\n",
    "                    for s5 in (-0.5, 0.5):\n",
    "                        for s6 in (-0.5, 0.5):\n",
    "                            for s7 in (-0.5, 0.5):\n",
    "                                for s8 in (-0.5, 0.5):\n",
    "                                    for s9 in (-0.5, 0.5):\n",
    "                                        for s10 in (-0.5, 0.5):\n",
    "                                            for s11 in (-0.5, 0.5):\n",
    "                                                for s12 in (-0.5, 0.5):\n",
    "                                                    for s13 in (-0.5, 0.5):\n",
    "                                                        s = [s1, s2, s3, s4, s5, s6, s7, s8, s9, s10, s11, s12, s13]\n",
    "                                                        energy = spin_hamiltonian(s, interactions, b, h)\n",
    "                                                        if energy < min_energy:\n",
    "                                                            spins = s.copy()\n",
    "                                                            min_energy = energy\n",
    "    return min_energy, spins"
   ]
  },
  {
   "cell_type": "code",
   "execution_count": 69,
   "metadata": {
    "scrolled": true
   },
   "outputs": [
    {
     "name": "stdout",
     "output_type": "stream",
     "text": [
      "h :  0\n",
      "m :  0.5\n",
      "h :  1\n",
      "m :  0.5\n",
      "h :  2\n",
      "m :  0.5\n",
      "h :  3\n",
      "m :  4.5\n",
      "h :  4\n",
      "m :  4.5\n",
      "h :  5\n",
      "m :  4.5\n",
      "h :  6\n",
      "m :  4.5\n",
      "h :  7\n",
      "m :  4.5\n",
      "h :  8\n",
      "m :  4.5\n",
      "h :  9\n",
      "m :  4.5\n",
      "h :  10\n",
      "m :  4.5\n",
      "h :  11\n",
      "m :  4.5\n",
      "h :  12\n",
      "m :  6.5\n",
      "h :  13\n",
      "m :  6.5\n",
      "h :  14\n",
      "m :  6.5\n",
      "h :  15\n",
      "m :  6.5\n",
      "h :  16\n",
      "m :  6.5\n",
      "h :  17\n",
      "m :  6.5\n",
      "h :  18\n",
      "m :  6.5\n",
      "h :  19\n",
      "m :  6.5\n"
     ]
    }
   ],
   "source": [
    "h_hist = []\n",
    "m_hist = []\n",
    "for h in range(20):\n",
    "    min_energy, spins = get_min_energy(interactions, b, h)\n",
    "    print('h : ', h)\n",
    "    print('m : ', abs(sum(spins)))\n",
    "    h_hist.append(h)\n",
    "    m_hist.append(abs(sum(spins))/(len(spins)*0.5))"
   ]
  },
  {
   "cell_type": "code",
   "execution_count": 70,
   "metadata": {},
   "outputs": [
    {
     "data": {
      "text/plain": [
       "[<matplotlib.lines.Line2D at 0x21eebce9550>]"
      ]
     },
     "execution_count": 70,
     "metadata": {},
     "output_type": "execute_result"
    },
    {
     "data": {
      "image/png": "[encoded data removed]",
      "text/plain": [
       "<Figure size 432x288 with 1 Axes>"
      ]
     },
     "metadata": {},
     "output_type": "display_data"
    }
   ],
   "source": [
    "plt.plot(h_hist, m_hist)"
   ]
  },
  {
   "cell_type": "code",
   "execution_count": null,
   "metadata": {},
   "outputs": [],
   "source": []
  }
 ],
 "metadata": {
  "kernelspec": {
   "display_name": "Python 3",
   "language": "python",
   "name": "python3"
  },
  "language_info": {
   "codemirror_mode": {
    "name": "ipython",
    "version": 3
   },
   "file_extension": ".py",
   "mimetype": "text/x-python",
   "name": "python",
   "nbconvert_exporter": "python",
   "pygments_lexer": "ipython3",
   "version": "3.5.0"
  }
 },
 "nbformat": 4,
 "nbformat_minor": 2
}
