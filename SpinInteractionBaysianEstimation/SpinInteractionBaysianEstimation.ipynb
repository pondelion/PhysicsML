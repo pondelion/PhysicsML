{
 "cells": [
  {
   "cell_type": "markdown",
   "metadata": {},
   "source": [
    "### Estimation of exchange interactions between spins by baysian method"
   ]
  },
  {
   "cell_type": "markdown",
   "metadata": {},
   "source": [
    "reference : https://arxiv.org/abs/1701.09063"
   ]
  },
  {
   "cell_type": "code",
   "execution_count": 3,
   "metadata": {},
   "outputs": [],
   "source": [
    "import numpy as np"
   ]
  },
  {
   "cell_type": "code",
   "execution_count": 4,
   "metadata": {},
   "outputs": [],
   "source": [
    "J = np.array([\n",
    "    1,\n",
    "    4,\n",
    "    5,\n",
    "    6,\n",
    "    0,\n",
    "    0,\n",
    "    0\n",
    "])"
   ]
  },
  {
   "cell_type": "code",
   "execution_count": 2,
   "metadata": {},
   "outputs": [],
   "source": [
    "b = 0.1"
   ]
  },
  {
   "cell_type": "code",
   "execution_count": null,
   "metadata": {},
   "outputs": [],
   "source": [
    "interactions = np.array([\n",
    "    [0,    J[0], J[1], J[3], 0,    0,    0,    0, 0,    0, 0, 0, 0],  # spin 1\n",
    "    [J[0], 0,    J[2], J[0], 0, J[5],    0,    0, 0,    0, 0, 0, 0],  # spin 2\n",
    "    [J[1], J[2], 0,    J[1], 0,    0,    0,    0, 0,    0, 0, 0, 0],  # spin 3\n",
    "    [J[3], J[0], J[1], 0,    J[1], J[0], 0,    0, 0,    0, 0, 0, 0],  # spin 4\n",
    "    [0,    0,    J[6], J[2], 0,    J[2], J[1], 0, J[6], 0, 0, 0, 0],  # spin 5\n",
    "    [0,    J[5], 0,    J[0], 0,    J[2], J[1], 0, J[6], 0, 0, 0, 0],  # spin 6\n",
    "])"
   ]
  }
 ],
 "metadata": {
  "kernelspec": {
   "display_name": "Python 3",
   "language": "python",
   "name": "python3"
  },
  "language_info": {
   "codemirror_mode": {
    "name": "ipython",
    "version": 3
   },
   "file_extension": ".py",
   "mimetype": "text/x-python",
   "name": "python",
   "nbconvert_exporter": "python",
   "pygments_lexer": "ipython3",
   "version": "3.5.0"
  }
 },
 "nbformat": 4,
 "nbformat_minor": 2
}
