{
 "cells": [
  {
   "cell_type": "markdown",
   "metadata": {},
   "source": [
    "### Estimation of exchange interactions between spins by baysian method"
   ]
  },
  {
   "cell_type": "markdown",
   "metadata": {},
   "source": [
    "reference : https://arxiv.org/abs/1701.09063"
   ]
  },
  {
   "cell_type": "code",
   "execution_count": 1,
   "metadata": {},
   "outputs": [],
   "source": [
    "import numpy as np\n",
    "import matplotlib.pyplot as plt"
   ]
  },
  {
   "cell_type": "code",
   "execution_count": 2,
   "metadata": {},
   "outputs": [],
   "source": [
    "J = np.array([\n",
    "    1,\n",
    "    4,\n",
    "    5,\n",
    "    6,\n",
    "    0,\n",
    "    0,\n",
    "    0\n",
    "])"
   ]
  },
  {
   "cell_type": "code",
   "execution_count": 3,
   "metadata": {},
   "outputs": [],
   "source": [
    "b = 0.1"
   ]
  },
  {
   "cell_type": "code",
   "execution_count": 4,
   "metadata": {},
   "outputs": [],
   "source": [
    "interactions = np.array([\n",
    "    [0,    J[0], J[1], J[3], 0,    0,    0,    0,    0,    0,    0,    0,    0],  # spin 1\n",
    "    [J[0], 0,    J[2], J[0], 0, J[5],    0,    0,    0,    0,    0,    0,    0],  # spin 2\n",
    "    [J[1], J[2], 0,    J[1], 0, J[4],    0,    0,    0,    0,    0,    0,    0],  # spin 3\n",
    "    [J[3], J[0], J[1], 0,    J[1], J[0], J[3], 0,    0,    0,    0,    0,    0],  # spin 4\n",
    "    [0,    0,    J[6], J[2], 0,    J[2], J[1], 0,    J[6], 0,    0,    0,    0],  # spin 5\n",
    "    [0,    J[5], J[4], J[0], J[2], 0,    J[0], J[5], 0,    0,    0,    0,    0],  # spin 6\n",
    "    [0,    0,    0,    J[3], J[1], J[0], 0,    J[0], J[1], J[3], 0,    0,    0],  # spin 7\n",
    "    [0,    0,    0,    0,    0,    J[5], J[0], 0,    J[2], J[0], 0,    J[5], 0],  # spin 8\n",
    "    [0,    0,    0,    0, J[6],    J[4], J[1], J[2], 0,    J[1], J[6], J[4], 0],  # spin 9\n",
    "    [0,    0,    0,    0,    0,    0,    J[3], J[0], J[1], 0,    J[1], J[0], J[3]],  # spin 10\n",
    "    [0,    0,    0,    0,    0,    0,    0,    0,    J[6], J[1], 0,    J[2], J[1]],  # spin 11\n",
    "    [0,    0,    0,    0,    0,    0,    0,    J[5], J[4], J[0], J[2], 0,    J[0]],  # spin 12\n",
    "    [0,    0,    0,    0,    0,    0,    0,    0,    0,    J[3], J[1], J[0], 0],  # spin 13\n",
    "])"
   ]
  },
  {
   "cell_type": "code",
   "execution_count": 5,
   "metadata": {},
   "outputs": [],
   "source": [
    "def spin_hamiltonian(spins, interactions, b, h=0.0):\n",
    "    energy = 0.\n",
    "    for i, s1 in enumerate(spins):\n",
    "        for j, s2 in enumerate(spins):\n",
    "            energy += interactions[i][j]*(s1*s2 + b*(s1*s2)**2)\n",
    "    energy *= 0.5\n",
    "    for s in spins:\n",
    "        energy -= h*s\n",
    "    return energy"
   ]
  },
  {
   "cell_type": "code",
   "execution_count": 6,
   "metadata": {},
   "outputs": [],
   "source": [
    "spins = np.random.randint(0, 2, 13) - 0.5"
   ]
  },
  {
   "cell_type": "code",
   "execution_count": 7,
   "metadata": {},
   "outputs": [
    {
     "data": {
      "text/plain": [
       "array([ 0.5, -0.5, -0.5, -0.5, -0.5,  0.5, -0.5, -0.5, -0.5, -0.5,  0.5,\n",
       "       -0.5, -0.5])"
      ]
     },
     "execution_count": 7,
     "metadata": {},
     "output_type": "execute_result"
    }
   ],
   "source": [
    "spins"
   ]
  },
  {
   "cell_type": "code",
   "execution_count": 8,
   "metadata": {},
   "outputs": [
    {
     "data": {
      "text/plain": [
       "11.053124999999996"
      ]
     },
     "execution_count": 8,
     "metadata": {},
     "output_type": "execute_result"
    }
   ],
   "source": [
    "spin_hamiltonian(spins, interactions, b, 1.4)"
   ]
  },
  {
   "cell_type": "code",
   "execution_count": 9,
   "metadata": {},
   "outputs": [
    {
     "name": "stdout",
     "output_type": "stream",
     "text": [
      "16384\n"
     ]
    }
   ],
   "source": [
    "print(2**14)"
   ]
  },
  {
   "cell_type": "code",
   "execution_count": 10,
   "metadata": {},
   "outputs": [],
   "source": [
    "def get_min_energy(interactions, b, h=0.0):\n",
    "    spins = []\n",
    "    min_energy = float('inf')\n",
    "    for s1 in (-0.5, 0.5):\n",
    "        for s2 in (-0.5, 0.5):\n",
    "            for s3 in (-0.5, 0.5):\n",
    "                for s4 in (-0.5, 0.5):\n",
    "                    for s5 in (-0.5, 0.5):\n",
    "                        for s6 in (-0.5, 0.5):\n",
    "                            for s7 in (-0.5, 0.5):\n",
    "                                for s8 in (-0.5, 0.5):\n",
    "                                    for s9 in (-0.5, 0.5):\n",
    "                                        for s10 in (-0.5, 0.5):\n",
    "                                            for s11 in (-0.5, 0.5):\n",
    "                                                for s12 in (-0.5, 0.5):\n",
    "                                                    for s13 in (-0.5, 0.5):\n",
    "                                                        s = [s1, s2, s3, s4, s5, s6, s7, s8, s9, s10, s11, s12, s13]\n",
    "                                                        energy = spin_hamiltonian(s, interactions, b, h)\n",
    "                                                        if energy < min_energy:\n",
    "                                                            spins = s.copy()\n",
    "                                                            min_energy = energy\n",
    "    return min_energy, spins"
   ]
  },
  {
   "cell_type": "code",
   "execution_count": 11,
   "metadata": {
    "scrolled": true
   },
   "outputs": [
    {
     "name": "stdout",
     "output_type": "stream",
     "text": [
      "h :  0\n",
      "m :  0.5\n",
      "h :  1\n",
      "m :  0.5\n",
      "h :  2\n",
      "m :  0.5\n",
      "h :  3\n",
      "m :  4.5\n",
      "h :  4\n",
      "m :  4.5\n",
      "h :  5\n",
      "m :  4.5\n",
      "h :  6\n",
      "m :  4.5\n",
      "h :  7\n",
      "m :  4.5\n",
      "h :  8\n",
      "m :  4.5\n",
      "h :  9\n",
      "m :  4.5\n",
      "h :  10\n",
      "m :  4.5\n",
      "h :  11\n",
      "m :  4.5\n",
      "h :  12\n",
      "m :  6.5\n",
      "h :  13\n",
      "m :  6.5\n",
      "h :  14\n",
      "m :  6.5\n",
      "h :  15\n",
      "m :  6.5\n",
      "h :  16\n",
      "m :  6.5\n",
      "h :  17\n",
      "m :  6.5\n",
      "h :  18\n",
      "m :  6.5\n",
      "h :  19\n",
      "m :  6.5\n"
     ]
    }
   ],
   "source": [
    "h_hist = []\n",
    "m_hist = []\n",
    "for h in range(20):\n",
    "    min_energy, spins = get_min_energy(interactions, b, h)\n",
    "    print('h : ', h)\n",
    "    print('m : ', abs(sum(spins)))\n",
    "    h_hist.append(h)\n",
    "    m_hist.append(abs(sum(spins))/(len(spins)*0.5))"
   ]
  },
  {
   "cell_type": "code",
   "execution_count": 12,
   "metadata": {},
   "outputs": [
    {
     "data": {
      "text/plain": [
       "[<matplotlib.lines.Line2D at 0x2694ca92a90>]"
      ]
     },
     "execution_count": 12,
     "metadata": {},
     "output_type": "execute_result"
    },
    {
     "data": {
      "image/png": "[encoded data removed]",
      "text/plain": [
       "<Figure size 432x288 with 1 Axes>"
      ]
     },
     "metadata": {},
     "output_type": "display_data"
    }
   ],
   "source": [
    "plt.plot(h_hist, m_hist)"
   ]
  },
  {
   "cell_type": "code",
   "execution_count": null,
   "metadata": {},
   "outputs": [],
   "source": []
  },
  {
   "cell_type": "code",
   "execution_count": null,
   "metadata": {},
   "outputs": [],
   "source": []
  },
  {
   "cell_type": "code",
   "execution_count": 50,
   "metadata": {},
   "outputs": [],
   "source": [
    "# {スピン種類番号: {相互作用するスピンの相対位置: 相互作用}}\n",
    "interactions = {\n",
    "    0: {-3: J[3], -2: J[1], -1: J[0], 1: J[0], 2: J[1]},\n",
    "    1: {-3: J[4], -2: J[5], -1: J[0], 1: J[2], 2: J[0], 4: J[5]},\n",
    "    2: {-4: J[6], -3: J[4], -2: J[1], -1: J[2], 1: J[1], 2: J[6], 3: J[4]},\n",
    "    3: {-3: J[3], -2: J[0], -1: J[1], 1: J[1], 2: J[0], 3: J[3]},\n",
    "    4: {-3: J[4], -3: J[6], -1: J[1], 1: J[2], 2: J[1], 3: J[4], 4: J[6]},\n",
    "    5: {-4: J[5], -3: J[4], -2: J[0], -1: J[2], 1: J[0], 2: J[1], 3: J[3]}\n",
    "}"
   ]
  },
  {
   "cell_type": "code",
   "execution_count": 51,
   "metadata": {},
   "outputs": [
    {
     "data": {
      "text/plain": [
       "{-3: 0, -2: 0, -1: 1, 1: 5, 2: 1, 4: 0}"
      ]
     },
     "execution_count": 51,
     "metadata": {},
     "output_type": "execute_result"
    }
   ],
   "source": [
    "interactions[1]"
   ]
  },
  {
   "cell_type": "code",
   "execution_count": 53,
   "metadata": {},
   "outputs": [],
   "source": [
    "N_SPIN = 100"
   ]
  },
  {
   "cell_type": "code",
   "execution_count": 54,
   "metadata": {},
   "outputs": [],
   "source": [
    "spins = np.random.randint(0, 2, N_SPIN) - 0.5"
   ]
  },
  {
   "cell_type": "code",
   "execution_count": 55,
   "metadata": {
    "scrolled": true
   },
   "outputs": [
    {
     "data": {
      "text/plain": [
       "array([-0.5,  0.5,  0.5, -0.5, -0.5,  0.5,  0.5, -0.5,  0.5,  0.5, -0.5,\n",
       "        0.5, -0.5,  0.5, -0.5, -0.5, -0.5,  0.5,  0.5,  0.5,  0.5,  0.5,\n",
       "        0.5,  0.5, -0.5,  0.5,  0.5, -0.5, -0.5,  0.5, -0.5, -0.5, -0.5,\n",
       "       -0.5,  0.5, -0.5,  0.5,  0.5,  0.5,  0.5, -0.5,  0.5, -0.5,  0.5,\n",
       "        0.5,  0.5, -0.5,  0.5, -0.5, -0.5, -0.5,  0.5,  0.5, -0.5, -0.5,\n",
       "       -0.5, -0.5, -0.5,  0.5, -0.5, -0.5, -0.5,  0.5, -0.5, -0.5, -0.5,\n",
       "       -0.5,  0.5,  0.5,  0.5, -0.5, -0.5,  0.5, -0.5,  0.5,  0.5,  0.5,\n",
       "        0.5, -0.5,  0.5, -0.5,  0.5,  0.5, -0.5,  0.5,  0.5, -0.5, -0.5,\n",
       "       -0.5, -0.5, -0.5,  0.5,  0.5,  0.5,  0.5,  0.5,  0.5, -0.5, -0.5,\n",
       "        0.5])"
      ]
     },
     "execution_count": 55,
     "metadata": {},
     "output_type": "execute_result"
    }
   ],
   "source": [
    "spins"
   ]
  },
  {
   "cell_type": "code",
   "execution_count": 56,
   "metadata": {},
   "outputs": [],
   "source": [
    "def spin_hamiltonian(spins, interactions, b, h=0.0):\n",
    "    energy = 0.\n",
    "    for i, s1 in enumerate(spins):\n",
    "        spin_no = i %  6\n",
    "        for relative_no, interaction in interactions[spin_no].items():\n",
    "            s2 = spins[(i+relative_no)%N_SPIN]\n",
    "            energy += interaction*(s1*s2 + b*(s1*s2)**2)\n",
    "    energy *= 0.5\n",
    "\n",
    "    for s in spins:\n",
    "        energy -= h*s\n",
    "    return energy"
   ]
  },
  {
   "cell_type": "code",
   "execution_count": 60,
   "metadata": {},
   "outputs": [
    {
     "data": {
      "text/plain": [
       "-182.91875"
      ]
     },
     "execution_count": 60,
     "metadata": {},
     "output_type": "execute_result"
    }
   ],
   "source": [
    "spin_hamiltonian(spins, interactions, b, h=100.0)"
   ]
  },
  {
   "cell_type": "code",
   "execution_count": 66,
   "metadata": {},
   "outputs": [],
   "source": [
    "N_FLIP = 2000"
   ]
  },
  {
   "cell_type": "code",
   "execution_count": null,
   "metadata": {},
   "outputs": [],
   "source": []
  },
  {
   "cell_type": "code",
   "execution_count": 67,
   "metadata": {},
   "outputs": [
    {
     "name": "stdout",
     "output_type": "stream",
     "text": [
      "Wall time: 7.82 s\n"
     ]
    }
   ],
   "source": [
    "%%time\n",
    "rand_idxs = np.random.randint(0, N_SPIN, N_FLIP)\n",
    "spins = np.random.randint(0, 2, N_SPIN) - 0.5\n",
    "for idx in rand_idxs:\n",
    "    cur_energy = spin_hamiltonian(spins, interactions, b, h=10.0)\n",
    "    spins[idx] *= -1.\n",
    "    flip_energy = spin_hamiltonian(spins, interactions, b, h=10.0)\n",
    "    if 0.01 > np.random.rand():\n",
    "        pass\n",
    "    elif flip_energy > cur_energy:\n",
    "        spins[idx] *= -1."
   ]
  },
  {
   "cell_type": "code",
   "execution_count": 68,
   "metadata": {},
   "outputs": [
    {
     "name": "stdout",
     "output_type": "stream",
     "text": [
      "49.0\n"
     ]
    }
   ],
   "source": [
    "print(sum(spins))"
   ]
  },
  {
   "cell_type": "code",
   "execution_count": 71,
   "metadata": {
    "scrolled": true
   },
   "outputs": [
    {
     "name": "stdout",
     "output_type": "stream",
     "text": [
      "h :  0.0\n",
      "m :  0.02\n",
      "h :  0.12578616352201258\n",
      "m :  0.02\n",
      "h :  0.25157232704402516\n",
      "m :  0.013333333333333334\n",
      "h :  0.37735849056603776\n",
      "m :  0.02\n",
      "h :  0.5031446540880503\n",
      "m :  0.02666666666666667\n",
      "h :  0.6289308176100629\n",
      "m :  0.02666666666666667\n",
      "h :  0.7547169811320755\n",
      "m :  0.02666666666666667\n",
      "h :  0.8805031446540881\n",
      "m :  0.006666666666666667\n",
      "h :  1.0062893081761006\n",
      "m :  0.04\n",
      "h :  1.1320754716981132\n",
      "m :  0.02666666666666667\n",
      "h :  1.2578616352201257\n",
      "m :  0.02\n",
      "h :  1.3836477987421383\n",
      "m :  0.03333333333333333\n",
      "h :  1.509433962264151\n",
      "m :  0.20000000000000004\n",
      "h :  1.6352201257861636\n",
      "m :  0.20000000000000004\n",
      "h :  1.7610062893081762\n",
      "m :  0.17333333333333334\n",
      "h :  1.8867924528301887\n",
      "m :  0.22666666666666666\n",
      "h :  2.0125786163522013\n",
      "m :  0.19333333333333336\n",
      "h :  2.138364779874214\n",
      "m :  0.2333333333333333\n",
      "h :  2.2641509433962264\n",
      "m :  0.22\n",
      "h :  2.389937106918239\n",
      "m :  0.20000000000000004\n",
      "h :  2.5157232704402515\n",
      "m :  0.3333333333333333\n",
      "h :  2.641509433962264\n",
      "m :  0.32666666666666666\n",
      "h :  2.7672955974842766\n",
      "m :  0.32\n",
      "h :  2.893081761006289\n",
      "m :  0.32000000000000006\n",
      "h :  3.018867924528302\n",
      "m :  0.32666666666666666\n",
      "h :  3.1446540880503147\n",
      "m :  0.3333333333333333\n",
      "h :  3.270440251572327\n",
      "m :  0.34\n",
      "h :  3.3962264150943398\n",
      "m :  0.32\n",
      "h :  3.5220125786163523\n",
      "m :  0.32666666666666666\n",
      "h :  3.647798742138365\n",
      "m :  0.3333333333333333\n",
      "h :  3.7735849056603774\n",
      "m :  0.3466666666666667\n",
      "h :  3.89937106918239\n",
      "m :  0.35333333333333333\n",
      "h :  4.0251572327044025\n",
      "m :  0.35333333333333333\n",
      "h :  4.150943396226415\n",
      "m :  0.37333333333333335\n",
      "h :  4.276729559748428\n",
      "m :  0.36000000000000004\n",
      "h :  4.40251572327044\n",
      "m :  0.34\n",
      "h :  4.528301886792453\n",
      "m :  0.37333333333333335\n",
      "h :  4.654088050314465\n",
      "m :  0.3933333333333333\n",
      "h :  4.779874213836478\n",
      "m :  0.37333333333333335\n",
      "h :  4.90566037735849\n",
      "m :  0.36000000000000004\n",
      "h :  5.031446540880503\n",
      "m :  0.5533333333333333\n",
      "h :  5.1572327044025155\n",
      "m :  0.5533333333333333\n",
      "h :  5.283018867924528\n",
      "m :  0.5733333333333334\n",
      "h :  5.408805031446541\n",
      "m :  0.54\n",
      "h :  5.534591194968553\n",
      "m :  0.4666666666666666\n",
      "h :  5.660377358490566\n",
      "m :  0.48\n",
      "h :  5.786163522012578\n",
      "m :  0.5266666666666667\n",
      "h :  5.911949685534591\n",
      "m :  0.48\n",
      "h :  6.037735849056604\n",
      "m :  0.45999999999999996\n",
      "h :  6.163522012578617\n",
      "m :  0.5\n",
      "h :  6.289308176100629\n",
      "m :  0.4466666666666667\n",
      "h :  6.415094339622642\n",
      "m :  0.44\n",
      "h :  6.540880503144654\n",
      "m :  0.66\n",
      "h :  6.666666666666667\n",
      "m :  0.6533333333333333\n",
      "h :  6.7924528301886795\n",
      "m :  0.6733333333333333\n",
      "h :  6.918238993710692\n",
      "m :  0.6466666666666666\n",
      "h :  7.044025157232705\n",
      "m :  0.6466666666666666\n",
      "h :  7.169811320754717\n",
      "m :  0.6466666666666666\n",
      "h :  7.29559748427673\n",
      "m :  0.66\n",
      "h :  7.421383647798742\n",
      "m :  0.6333333333333333\n",
      "h :  7.547169811320755\n",
      "m :  0.6533333333333333\n",
      "h :  7.672955974842767\n",
      "m :  0.6466666666666666\n",
      "h :  7.79874213836478\n",
      "m :  0.66\n",
      "h :  7.9245283018867925\n",
      "m :  0.6466666666666666\n",
      "h :  8.050314465408805\n",
      "m :  0.7200000000000001\n",
      "h :  8.176100628930818\n",
      "m :  0.7266666666666666\n",
      "h :  8.30188679245283\n",
      "m :  0.7066666666666667\n",
      "h :  8.427672955974844\n",
      "m :  0.68\n",
      "h :  8.553459119496855\n",
      "m :  0.7066666666666667\n",
      "h :  8.679245283018869\n",
      "m :  0.7000000000000001\n",
      "h :  8.80503144654088\n",
      "m :  0.7066666666666667\n",
      "h :  8.930817610062894\n",
      "m :  0.6866666666666666\n",
      "h :  9.056603773584905\n",
      "m :  0.7266666666666666\n",
      "h :  9.182389937106919\n",
      "m :  0.7133333333333333\n",
      "h :  9.30817610062893\n",
      "m :  0.6933333333333334\n",
      "h :  9.433962264150944\n",
      "m :  0.6933333333333334\n",
      "h :  9.559748427672956\n",
      "m :  0.9866666666666667\n",
      "h :  9.685534591194969\n",
      "m :  0.9733333333333333\n",
      "h :  9.81132075471698\n",
      "m :  0.98\n",
      "h :  9.937106918238994\n",
      "m :  0.96\n",
      "h :  10.062893081761006\n",
      "m :  0.9866666666666667\n",
      "h :  10.18867924528302\n",
      "m :  0.9933333333333333\n",
      "h :  10.314465408805031\n",
      "m :  0.9933333333333333\n",
      "h :  10.440251572327044\n",
      "m :  0.9666666666666667\n",
      "h :  10.566037735849056\n",
      "m :  0.9733333333333333\n",
      "h :  10.69182389937107\n",
      "m :  0.98\n",
      "h :  10.817610062893081\n",
      "m :  0.9666666666666667\n",
      "h :  10.943396226415095\n",
      "m :  0.9866666666666667\n",
      "h :  11.069182389937106\n",
      "m :  0.98\n",
      "h :  11.19496855345912\n",
      "m :  0.9666666666666667\n",
      "h :  11.320754716981131\n",
      "m :  0.98\n",
      "h :  11.446540880503145\n",
      "m :  0.98\n",
      "h :  11.572327044025156\n",
      "m :  0.98\n",
      "h :  11.69811320754717\n",
      "m :  0.9666666666666667\n",
      "h :  11.823899371069182\n",
      "m :  0.9933333333333333\n",
      "h :  11.949685534591195\n",
      "m :  0.9933333333333333\n",
      "h :  12.075471698113208\n",
      "m :  0.96\n",
      "h :  12.20125786163522\n",
      "m :  0.98\n",
      "h :  12.327044025157234\n",
      "m :  0.98\n",
      "h :  12.452830188679245\n",
      "m :  0.9533333333333333\n",
      "h :  12.578616352201259\n",
      "m :  0.9866666666666667\n",
      "h :  12.70440251572327\n",
      "m :  0.98\n",
      "h :  12.830188679245284\n",
      "m :  0.98\n",
      "h :  12.955974842767295\n",
      "m :  0.9666666666666667\n",
      "h :  13.081761006289309\n",
      "m :  0.9666666666666667\n",
      "h :  13.20754716981132\n",
      "m :  0.9933333333333333\n",
      "h :  13.333333333333334\n",
      "m :  0.9733333333333333\n",
      "h :  13.459119496855346\n",
      "m :  0.98\n",
      "h :  13.584905660377359\n",
      "m :  0.9733333333333333\n",
      "h :  13.71069182389937\n",
      "m :  0.9733333333333333\n",
      "h :  13.836477987421384\n",
      "m :  0.9733333333333333\n",
      "h :  13.962264150943396\n",
      "m :  0.98\n",
      "h :  14.08805031446541\n",
      "m :  0.9933333333333333\n",
      "h :  14.213836477987421\n",
      "m :  0.9866666666666667\n",
      "h :  14.339622641509434\n",
      "m :  0.9866666666666667\n",
      "h :  14.465408805031446\n",
      "m :  1.0\n",
      "h :  14.59119496855346\n",
      "m :  0.9733333333333333\n",
      "h :  14.716981132075471\n",
      "m :  0.9933333333333333\n",
      "h :  14.842767295597485\n",
      "m :  0.9866666666666667\n",
      "h :  14.968553459119496\n",
      "m :  0.98\n",
      "h :  15.09433962264151\n",
      "m :  0.9866666666666667\n",
      "h :  15.220125786163521\n",
      "m :  1.0\n",
      "h :  15.345911949685535\n",
      "m :  0.98\n",
      "h :  15.471698113207546\n",
      "m :  0.98\n",
      "h :  15.59748427672956\n",
      "m :  0.9866666666666667\n",
      "h :  15.723270440251572\n",
      "m :  0.9866666666666667\n",
      "h :  15.849056603773585\n",
      "m :  0.9866666666666667\n",
      "h :  15.974842767295597\n",
      "m :  0.9866666666666667\n",
      "h :  16.10062893081761\n",
      "m :  0.9933333333333333\n",
      "h :  16.22641509433962\n",
      "m :  0.98\n",
      "h :  16.352201257861637\n",
      "m :  0.9666666666666667\n",
      "h :  16.47798742138365\n",
      "m :  0.98\n",
      "h :  16.60377358490566\n",
      "m :  0.9866666666666667\n"
     ]
    },
    {
     "ename": "KeyboardInterrupt",
     "evalue": "",
     "output_type": "error",
     "traceback": [
      "\u001b[1;31m---------------------------------------------------------------------------\u001b[0m",
      "\u001b[1;31mKeyboardInterrupt\u001b[0m                         Traceback (most recent call last)",
      "\u001b[1;32m<timed exec>\u001b[0m in \u001b[0;36m<module>\u001b[1;34m()\u001b[0m\n",
      "\u001b[1;32m<ipython-input-56-dfd0d18328cc>\u001b[0m in \u001b[0;36mspin_hamiltonian\u001b[1;34m(spins, interactions, b, h)\u001b[0m\n\u001b[0;32m      5\u001b[0m         \u001b[1;32mfor\u001b[0m \u001b[0mrelative_no\u001b[0m\u001b[1;33m,\u001b[0m \u001b[0minteraction\u001b[0m \u001b[1;32min\u001b[0m \u001b[0minteractions\u001b[0m\u001b[1;33m[\u001b[0m\u001b[0mspin_no\u001b[0m\u001b[1;33m]\u001b[0m\u001b[1;33m.\u001b[0m\u001b[0mitems\u001b[0m\u001b[1;33m(\u001b[0m\u001b[1;33m)\u001b[0m\u001b[1;33m:\u001b[0m\u001b[1;33m\u001b[0m\u001b[0m\n\u001b[0;32m      6\u001b[0m             \u001b[0ms2\u001b[0m \u001b[1;33m=\u001b[0m \u001b[0mspins\u001b[0m\u001b[1;33m[\u001b[0m\u001b[1;33m(\u001b[0m\u001b[0mi\u001b[0m\u001b[1;33m+\u001b[0m\u001b[0mrelative_no\u001b[0m\u001b[1;33m)\u001b[0m\u001b[1;33m%\u001b[0m\u001b[0mN_SPIN\u001b[0m\u001b[1;33m]\u001b[0m\u001b[1;33m\u001b[0m\u001b[0m\n\u001b[1;32m----> 7\u001b[1;33m             \u001b[0menergy\u001b[0m \u001b[1;33m+=\u001b[0m \u001b[0minteraction\u001b[0m\u001b[1;33m*\u001b[0m\u001b[1;33m(\u001b[0m\u001b[0ms1\u001b[0m\u001b[1;33m*\u001b[0m\u001b[0ms2\u001b[0m \u001b[1;33m+\u001b[0m \u001b[0mb\u001b[0m\u001b[1;33m*\u001b[0m\u001b[1;33m(\u001b[0m\u001b[0ms1\u001b[0m\u001b[1;33m*\u001b[0m\u001b[0ms2\u001b[0m\u001b[1;33m)\u001b[0m\u001b[1;33m**\u001b[0m\u001b[1;36m2\u001b[0m\u001b[1;33m)\u001b[0m\u001b[1;33m\u001b[0m\u001b[0m\n\u001b[0m\u001b[0;32m      8\u001b[0m     \u001b[0menergy\u001b[0m \u001b[1;33m*=\u001b[0m \u001b[1;36m0.5\u001b[0m\u001b[1;33m\u001b[0m\u001b[0m\n\u001b[0;32m      9\u001b[0m \u001b[1;33m\u001b[0m\u001b[0m\n",
      "\u001b[1;31mKeyboardInterrupt\u001b[0m: "
     ]
    }
   ],
   "source": [
    "%%time\n",
    "h_hist = []\n",
    "m_hist = []\n",
    "for h in np.linspace(0, 20, 160):\n",
    "    m = []\n",
    "    for i in range(3):\n",
    "        rand_idxs = np.random.randint(0, N_SPIN, N_FLIP)\n",
    "        spins = np.random.randint(0, 2, N_SPIN) - 0.5\n",
    "        for idx in rand_idxs:\n",
    "            cur_energy = spin_hamiltonian(spins, interactions, b, h=h)\n",
    "            spins[idx] *= -1.\n",
    "            flip_energy = spin_hamiltonian(spins, interactions, b, h=h)\n",
    "            if 0.01 > np.random.rand():\n",
    "                pass\n",
    "            elif flip_energy > cur_energy:\n",
    "                spins[idx] *= -1.\n",
    "        m.append(abs(sum(spins))/(len(spins)*0.5))\n",
    "    print('h : ', h)\n",
    "    print('m : ', sum(m)/len(m))\n",
    "    h_hist.append(h)\n",
    "    m_hist.append(sum(m)/len(m))"
   ]
  },
  {
   "cell_type": "code",
   "execution_count": 72,
   "metadata": {},
   "outputs": [
    {
     "data": {
      "text/plain": [
       "[<matplotlib.lines.Line2D at 0x2694edad898>]"
      ]
     },
     "execution_count": 72,
     "metadata": {},
     "output_type": "execute_result"
    },
    {
     "data": {
      "image/png": "[encoded data removed]",
      "text/plain": [
       "<Figure size 432x288 with 1 Axes>"
      ]
     },
     "metadata": {},
     "output_type": "display_data"
    }
   ],
   "source": [
    "plt.xlabel('Magnetic Field')\n",
    "plt.ylabel('Magnetization')\n",
    "plt.plot(h_hist, m_hist)"
   ]
  },
  {
   "cell_type": "code",
   "execution_count": null,
   "metadata": {},
   "outputs": [],
   "source": []
  },
  {
   "cell_type": "code",
   "execution_count": null,
   "metadata": {},
   "outputs": [
    {
     "name": "stdout",
     "output_type": "stream",
     "text": [
      "h :  0.0\n",
      "m :  0.006666666666666667\n",
      "h :  0.10062893081761007\n",
      "m :  0.006666666666666667\n",
      "h :  0.20125786163522014\n",
      "m :  0.013333333333333334\n",
      "h :  0.30188679245283023\n",
      "m :  0.006666666666666667\n",
      "h :  0.4025157232704403\n",
      "m :  0.02666666666666667\n",
      "h :  0.5031446540880503\n",
      "m :  0.013333333333333334\n",
      "h :  0.6037735849056605\n",
      "m :  0.013333333333333334\n",
      "h :  0.7044025157232705\n",
      "m :  0.03333333333333333\n",
      "h :  0.8050314465408805\n",
      "m :  0.03333333333333333\n",
      "h :  0.9056603773584906\n",
      "m :  0.02\n",
      "h :  1.0062893081761006\n",
      "m :  0.013333333333333334\n",
      "h :  1.1069182389937107\n",
      "m :  0.013333333333333334\n",
      "h :  1.207547169811321\n",
      "m :  0.02666666666666667\n",
      "h :  1.308176100628931\n",
      "m :  0.04\n",
      "h :  1.408805031446541\n",
      "m :  0.02666666666666667\n",
      "h :  1.509433962264151\n",
      "m :  0.18666666666666668\n",
      "h :  1.610062893081761\n",
      "m :  0.20666666666666667\n",
      "h :  1.7106918238993711\n",
      "m :  0.19333333333333336\n",
      "h :  1.8113207547169812\n",
      "m :  0.22666666666666666\n",
      "h :  1.9119496855345912\n",
      "m :  0.24\n",
      "h :  2.0125786163522013\n",
      "m :  0.21333333333333335\n",
      "h :  2.1132075471698113\n",
      "m :  0.26\n",
      "h :  2.2138364779874213\n",
      "m :  0.22666666666666666\n",
      "h :  2.3144654088050314\n",
      "m :  0.22\n",
      "h :  2.415094339622642\n",
      "m :  0.2333333333333333\n",
      "h :  2.515723270440252\n",
      "m :  0.32\n",
      "h :  2.616352201257862\n",
      "m :  0.3066666666666667\n",
      "h :  2.716981132075472\n",
      "m :  0.30000000000000004\n",
      "h :  2.817610062893082\n",
      "m :  0.32666666666666666\n",
      "h :  2.918238993710692\n",
      "m :  0.3333333333333333\n",
      "h :  3.018867924528302\n",
      "m :  0.3133333333333333\n",
      "h :  3.119496855345912\n",
      "m :  0.32666666666666666\n",
      "h :  3.220125786163522\n",
      "m :  0.34\n",
      "h :  3.3207547169811322\n",
      "m :  0.3333333333333333\n",
      "h :  3.4213836477987423\n",
      "m :  0.34\n",
      "h :  3.5220125786163523\n",
      "m :  0.32666666666666666\n"
     ]
    }
   ],
   "source": [
    "%%time\n",
    "h_hist = []\n",
    "m_hist = []\n",
    "for h in np.linspace(0, 16, 160):\n",
    "    m = []\n",
    "    for i in range(3):\n",
    "        rand_idxs = np.random.randint(0, N_SPIN, N_FLIP)\n",
    "        # spins = np.random.randint(0, 2, N_SPIN) - 0.5\n",
    "        for idx in rand_idxs:\n",
    "            cur_energy = spin_hamiltonian(spins, interactions, b, h=h)\n",
    "            spins[idx] *= -1.\n",
    "            flip_energy = spin_hamiltonian(spins, interactions, b, h=h)\n",
    "            if 0.01 > np.random.rand():\n",
    "                pass\n",
    "            elif flip_energy > cur_energy:\n",
    "                spins[idx] *= -1.\n",
    "        m.append(abs(sum(spins))/(len(spins)*0.5))\n",
    "    print('h : ', h)\n",
    "    print('m : ', sum(m)/len(m))\n",
    "    h_hist.append(h)\n",
    "    m_hist.append(sum(m)/len(m))"
   ]
  },
  {
   "cell_type": "code",
   "execution_count": null,
   "metadata": {},
   "outputs": [],
   "source": []
  }
 ],
 "metadata": {
  "kernelspec": {
   "display_name": "Python 3",
   "language": "python",
   "name": "python3"
  },
  "language_info": {
   "codemirror_mode": {
    "name": "ipython",
    "version": 3
   },
   "file_extension": ".py",
   "mimetype": "text/x-python",
   "name": "python",
   "nbconvert_exporter": "python",
   "pygments_lexer": "ipython3",
   "version": "3.5.0"
  }
 },
 "nbformat": 4,
 "nbformat_minor": 2
}
