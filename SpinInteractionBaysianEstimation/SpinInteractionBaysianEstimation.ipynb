{
 "cells": [
  {
   "cell_type": "markdown",
   "metadata": {},
   "source": [
    "### Estimation of exchange interactions between spins by baysian method"
   ]
  },
  {
   "cell_type": "markdown",
   "metadata": {},
   "source": [
    "reference : https://arxiv.org/abs/1701.09063"
   ]
  },
  {
   "cell_type": "code",
   "execution_count": 1,
   "metadata": {},
   "outputs": [],
   "source": [
    "import numpy as np\n",
    "import matplotlib.pyplot as plt"
   ]
  },
  {
   "cell_type": "code",
   "execution_count": 2,
   "metadata": {},
   "outputs": [],
   "source": [
    "J = np.array([\n",
    "    1,\n",
    "    4,\n",
    "    5,\n",
    "    6,\n",
    "    0,\n",
    "    0,\n",
    "    0\n",
    "])"
   ]
  },
  {
   "cell_type": "code",
   "execution_count": 3,
   "metadata": {},
   "outputs": [],
   "source": [
    "b = 0.1"
   ]
  },
  {
   "cell_type": "code",
   "execution_count": 4,
   "metadata": {},
   "outputs": [],
   "source": [
    "interactions = np.array([\n",
    "    [0,    J[0], J[1], J[3], 0,    0,    0,    0,    0,    0,    0,    0,    0],  # spin 1\n",
    "    [J[0], 0,    J[2], J[0], 0, J[5],    0,    0,    0,    0,    0,    0,    0],  # spin 2\n",
    "    [J[1], J[2], 0,    J[1], 0, J[4],    0,    0,    0,    0,    0,    0,    0],  # spin 3\n",
    "    [J[3], J[0], J[1], 0,    J[1], J[0], J[3], 0,    0,    0,    0,    0,    0],  # spin 4\n",
    "    [0,    0,    J[6], J[2], 0,    J[2], J[1], 0,    J[6], 0,    0,    0,    0],  # spin 5\n",
    "    [0,    J[5], J[4], J[0], J[2], 0,    J[0], J[5], 0,    0,    0,    0,    0],  # spin 6\n",
    "    [0,    0,    0,    J[3], J[1], J[0], 0,    J[0], J[1], J[3], 0,    0,    0],  # spin 7\n",
    "    [0,    0,    0,    0,    0,    J[5], J[0], 0,    J[2], J[0], 0,    J[5], 0],  # spin 8\n",
    "    [0,    0,    0,    0, J[6],    J[4], J[1], J[2], 0,    J[1], J[6], J[4], 0],  # spin 9\n",
    "    [0,    0,    0,    0,    0,    0,    J[3], J[0], J[1], 0,    J[1], J[0], J[3]],  # spin 10\n",
    "    [0,    0,    0,    0,    0,    0,    0,    0,    J[6], J[1], 0,    J[2], J[1]],  # spin 11\n",
    "    [0,    0,    0,    0,    0,    0,    0,    J[5], J[4], J[0], J[2], 0,    J[0]],  # spin 12\n",
    "    [0,    0,    0,    0,    0,    0,    0,    0,    0,    J[3], J[1], J[0], 0],  # spin 13\n",
    "])"
   ]
  },
  {
   "cell_type": "code",
   "execution_count": 5,
   "metadata": {},
   "outputs": [],
   "source": [
    "def spin_hamiltonian(spins, interactions, b, h=0.0):\n",
    "    energy = 0.\n",
    "    for i, s1 in enumerate(spins):\n",
    "        for j, s2 in enumerate(spins):\n",
    "            energy += interactions[i][j]*(s1*s2 - b*interactions[i][j]*(s1*s2)**2)\n",
    "    energy *= 0.5\n",
    "    for s in spins:\n",
    "        energy -= h*s\n",
    "    return energy"
   ]
  },
  {
   "cell_type": "code",
   "execution_count": 6,
   "metadata": {},
   "outputs": [],
   "source": [
    "spins = np.random.randint(0, 2, 13) - 0.5"
   ]
  },
  {
   "cell_type": "code",
   "execution_count": 7,
   "metadata": {},
   "outputs": [
    {
     "data": {
      "text/plain": [
       "array([-0.5,  0.5, -0.5, -0.5, -0.5, -0.5, -0.5,  0.5,  0.5, -0.5,  0.5,\n",
       "       -0.5,  0.5])"
      ]
     },
     "execution_count": 7,
     "metadata": {},
     "output_type": "execute_result"
    }
   ],
   "source": [
    "spins"
   ]
  },
  {
   "cell_type": "code",
   "execution_count": 8,
   "metadata": {},
   "outputs": [
    {
     "data": {
      "text/plain": [
       "4.321875000000005"
      ]
     },
     "execution_count": 8,
     "metadata": {},
     "output_type": "execute_result"
    }
   ],
   "source": [
    "spin_hamiltonian(spins, interactions, b, 1.4)"
   ]
  },
  {
   "cell_type": "code",
   "execution_count": 9,
   "metadata": {},
   "outputs": [
    {
     "name": "stdout",
     "output_type": "stream",
     "text": [
      "16384\n"
     ]
    }
   ],
   "source": [
    "print(2**14)"
   ]
  },
  {
   "cell_type": "code",
   "execution_count": 10,
   "metadata": {},
   "outputs": [],
   "source": [
    "def get_min_energy(interactions, b, h=0.0):\n",
    "    spins = []\n",
    "    min_energy = float('inf')\n",
    "    for s1 in (-0.5, 0.5):\n",
    "        for s2 in (-0.5, 0.5):\n",
    "            for s3 in (-0.5, 0.5):\n",
    "                for s4 in (-0.5, 0.5):\n",
    "                    for s5 in (-0.5, 0.5):\n",
    "                        for s6 in (-0.5, 0.5):\n",
    "                            for s7 in (-0.5, 0.5):\n",
    "                                for s8 in (-0.5, 0.5):\n",
    "                                    for s9 in (-0.5, 0.5):\n",
    "                                        for s10 in (-0.5, 0.5):\n",
    "                                            for s11 in (-0.5, 0.5):\n",
    "                                                for s12 in (-0.5, 0.5):\n",
    "                                                    for s13 in (-0.5, 0.5):\n",
    "                                                        s = [s1, s2, s3, s4, s5, s6, s7, s8, s9, s10, s11, s12, s13]\n",
    "                                                        energy = spin_hamiltonian(s, interactions, b, h)\n",
    "                                                        if energy < min_energy:\n",
    "                                                            spins = s.copy()\n",
    "                                                            min_energy = energy\n",
    "    return min_energy, spins"
   ]
  },
  {
   "cell_type": "code",
   "execution_count": 11,
   "metadata": {
    "scrolled": true
   },
   "outputs": [
    {
     "name": "stdout",
     "output_type": "stream",
     "text": [
      "h :  0\n",
      "m :  0.5\n",
      "h :  1\n",
      "m :  0.5\n",
      "h :  2\n",
      "m :  0.5\n",
      "h :  3\n",
      "m :  4.5\n",
      "h :  4\n",
      "m :  4.5\n",
      "h :  5\n",
      "m :  4.5\n",
      "h :  6\n",
      "m :  4.5\n",
      "h :  7\n",
      "m :  4.5\n",
      "h :  8\n",
      "m :  4.5\n",
      "h :  9\n",
      "m :  4.5\n",
      "h :  10\n",
      "m :  4.5\n",
      "h :  11\n",
      "m :  4.5\n",
      "h :  12\n",
      "m :  6.5\n",
      "h :  13\n",
      "m :  6.5\n",
      "h :  14\n",
      "m :  6.5\n",
      "h :  15\n",
      "m :  6.5\n",
      "h :  16\n",
      "m :  6.5\n",
      "h :  17\n",
      "m :  6.5\n",
      "h :  18\n",
      "m :  6.5\n",
      "h :  19\n",
      "m :  6.5\n"
     ]
    }
   ],
   "source": [
    "h_hist = []\n",
    "m_hist = []\n",
    "for h in range(20):\n",
    "    min_energy, spins = get_min_energy(interactions, b, h)\n",
    "    print('h : ', h)\n",
    "    print('m : ', abs(sum(spins)))\n",
    "    h_hist.append(h)\n",
    "    m_hist.append(abs(sum(spins))/(len(spins)*0.5))"
   ]
  },
  {
   "cell_type": "code",
   "execution_count": 12,
   "metadata": {},
   "outputs": [
    {
     "data": {
      "text/plain": [
       "[<matplotlib.lines.Line2D at 0x2694ca92a90>]"
      ]
     },
     "execution_count": 12,
     "metadata": {},
     "output_type": "execute_result"
    },
    {
     "data": {
      "image/png": "[encoded data removed]",
      "text/plain": [
       "<Figure size 432x288 with 1 Axes>"
      ]
     },
     "metadata": {},
     "output_type": "display_data"
    }
   ],
   "source": [
    "plt.plot(h_hist, m_hist)"
   ]
  },
  {
   "cell_type": "code",
   "execution_count": null,
   "metadata": {},
   "outputs": [],
   "source": []
  },
  {
   "cell_type": "code",
   "execution_count": null,
   "metadata": {},
   "outputs": [],
   "source": []
  },
  {
   "cell_type": "code",
   "execution_count": 9,
   "metadata": {},
   "outputs": [],
   "source": [
    "# {スピン種類番号: {相互作用するスピンの相対位置: 相互作用}}\n",
    "interactions = {\n",
    "    0: {-3: J[3], -2: J[1], -1: J[0], 1: J[0], 2: J[1], 3: J[3]},\n",
    "    1: {-3: J[4], -2: J[5], -1: J[0], 1: J[2], 2: J[0], 4: J[5]},\n",
    "    2: {-4: J[6], -3: J[4], -2: J[1], -1: J[2], 1: J[1], 2: J[6], 3: J[4]},\n",
    "    3: {-3: J[3], -2: J[0], -1: J[1], 1: J[1], 2: J[0], 3: J[3]},\n",
    "    4: {-3: J[4], -2: J[6], -1: J[1], 1: J[2], 2: J[1], 3: J[4], 4: J[6]},\n",
    "    5: {-4: J[5], -3: J[4], -2: J[0], -1: J[2], 1: J[0], 2: J[5], 3: J[4]}\n",
    "}"
   ]
  },
  {
   "cell_type": "code",
   "execution_count": 10,
   "metadata": {},
   "outputs": [
    {
     "data": {
      "text/plain": [
       "{-3: 0, -2: 0, -1: 1, 1: 5, 2: 1, 4: 0}"
      ]
     },
     "execution_count": 10,
     "metadata": {},
     "output_type": "execute_result"
    }
   ],
   "source": [
    "interactions[1]"
   ]
  },
  {
   "cell_type": "code",
   "execution_count": 11,
   "metadata": {},
   "outputs": [],
   "source": [
    "N_SPIN = 100"
   ]
  },
  {
   "cell_type": "code",
   "execution_count": 12,
   "metadata": {},
   "outputs": [],
   "source": [
    "spins = np.random.randint(0, 2, N_SPIN) - 0.5"
   ]
  },
  {
   "cell_type": "code",
   "execution_count": 13,
   "metadata": {
    "scrolled": true
   },
   "outputs": [
    {
     "data": {
      "text/plain": [
       "array([ 0.5,  0.5, -0.5, -0.5, -0.5,  0.5,  0.5,  0.5, -0.5, -0.5, -0.5,\n",
       "        0.5, -0.5, -0.5, -0.5,  0.5,  0.5,  0.5, -0.5,  0.5, -0.5, -0.5,\n",
       "       -0.5, -0.5, -0.5, -0.5,  0.5,  0.5,  0.5,  0.5, -0.5, -0.5, -0.5,\n",
       "       -0.5, -0.5, -0.5, -0.5,  0.5,  0.5, -0.5, -0.5, -0.5,  0.5, -0.5,\n",
       "        0.5, -0.5,  0.5,  0.5,  0.5,  0.5,  0.5, -0.5,  0.5, -0.5, -0.5,\n",
       "       -0.5, -0.5,  0.5,  0.5, -0.5, -0.5, -0.5, -0.5,  0.5, -0.5,  0.5,\n",
       "        0.5,  0.5, -0.5, -0.5, -0.5,  0.5,  0.5,  0.5,  0.5, -0.5,  0.5,\n",
       "       -0.5, -0.5, -0.5, -0.5, -0.5, -0.5,  0.5,  0.5, -0.5,  0.5, -0.5,\n",
       "        0.5, -0.5,  0.5,  0.5, -0.5, -0.5,  0.5, -0.5,  0.5, -0.5, -0.5,\n",
       "        0.5])"
      ]
     },
     "execution_count": 13,
     "metadata": {},
     "output_type": "execute_result"
    }
   ],
   "source": [
    "spins"
   ]
  },
  {
   "cell_type": "code",
   "execution_count": 14,
   "metadata": {},
   "outputs": [],
   "source": [
    "def spin_hamiltonian(spins, interactions, b, h=0.0):\n",
    "    energy = 0.\n",
    "    for i, s1 in enumerate(spins):\n",
    "        spin_no = i %  6\n",
    "        for relative_no, interaction in interactions[spin_no].items():\n",
    "            s2 = spins[(i+relative_no)%N_SPIN]\n",
    "            energy += interaction*(s1*s2 - b*interaction*(s1*s2)**2)\n",
    "    energy *= 0.5\n",
    "\n",
    "    for s in spins:\n",
    "        energy -= h*s\n",
    "    return energy"
   ]
  },
  {
   "cell_type": "code",
   "execution_count": 15,
   "metadata": {},
   "outputs": [
    {
     "data": {
      "text/plain": [
       "562.0749999999999"
      ]
     },
     "execution_count": 15,
     "metadata": {},
     "output_type": "execute_result"
    }
   ],
   "source": [
    "spin_hamiltonian(spins, interactions, b, h=100.0)"
   ]
  },
  {
   "cell_type": "code",
   "execution_count": 99,
   "metadata": {},
   "outputs": [],
   "source": [
    "N_FLIP = 1000"
   ]
  },
  {
   "cell_type": "code",
   "execution_count": null,
   "metadata": {},
   "outputs": [],
   "source": []
  },
  {
   "cell_type": "code",
   "execution_count": 67,
   "metadata": {},
   "outputs": [
    {
     "name": "stdout",
     "output_type": "stream",
     "text": [
      "Wall time: 7.82 s\n"
     ]
    }
   ],
   "source": [
    "%%time\n",
    "rand_idxs = np.random.randint(0, N_SPIN, N_FLIP)\n",
    "spins = np.random.randint(0, 2, N_SPIN) - 0.5\n",
    "for idx in rand_idxs:\n",
    "    cur_energy = spin_hamiltonian(spins, interactions, b, h=10.0)\n",
    "    spins[idx] *= -1.\n",
    "    flip_energy = spin_hamiltonian(spins, interactions, b, h=10.0)\n",
    "    if 0.01 > np.random.rand():\n",
    "        pass\n",
    "    elif flip_energy > cur_energy:\n",
    "        spins[idx] *= -1."
   ]
  },
  {
   "cell_type": "code",
   "execution_count": 68,
   "metadata": {},
   "outputs": [
    {
     "name": "stdout",
     "output_type": "stream",
     "text": [
      "49.0\n"
     ]
    }
   ],
   "source": [
    "print(sum(spins))"
   ]
  },
  {
   "cell_type": "code",
   "execution_count": 71,
   "metadata": {
    "scrolled": true
   },
   "outputs": [
    {
     "name": "stdout",
     "output_type": "stream",
     "text": [
      "h :  0.0\n",
      "m :  0.02\n",
      "h :  0.12578616352201258\n",
      "m :  0.02\n",
      "h :  0.25157232704402516\n",
      "m :  0.013333333333333334\n",
      "h :  0.37735849056603776\n",
      "m :  0.02\n",
      "h :  0.5031446540880503\n",
      "m :  0.02666666666666667\n",
      "h :  0.6289308176100629\n",
      "m :  0.02666666666666667\n",
      "h :  0.7547169811320755\n",
      "m :  0.02666666666666667\n",
      "h :  0.8805031446540881\n",
      "m :  0.006666666666666667\n",
      "h :  1.0062893081761006\n",
      "m :  0.04\n",
      "h :  1.1320754716981132\n",
      "m :  0.02666666666666667\n",
      "h :  1.2578616352201257\n",
      "m :  0.02\n",
      "h :  1.3836477987421383\n",
      "m :  0.03333333333333333\n",
      "h :  1.509433962264151\n",
      "m :  0.20000000000000004\n",
      "h :  1.6352201257861636\n",
      "m :  0.20000000000000004\n",
      "h :  1.7610062893081762\n",
      "m :  0.17333333333333334\n",
      "h :  1.8867924528301887\n",
      "m :  0.22666666666666666\n",
      "h :  2.0125786163522013\n",
      "m :  0.19333333333333336\n",
      "h :  2.138364779874214\n",
      "m :  0.2333333333333333\n",
      "h :  2.2641509433962264\n",
      "m :  0.22\n",
      "h :  2.389937106918239\n",
      "m :  0.20000000000000004\n",
      "h :  2.5157232704402515\n",
      "m :  0.3333333333333333\n",
      "h :  2.641509433962264\n",
      "m :  0.32666666666666666\n",
      "h :  2.7672955974842766\n",
      "m :  0.32\n",
      "h :  2.893081761006289\n",
      "m :  0.32000000000000006\n",
      "h :  3.018867924528302\n",
      "m :  0.32666666666666666\n",
      "h :  3.1446540880503147\n",
      "m :  0.3333333333333333\n",
      "h :  3.270440251572327\n",
      "m :  0.34\n",
      "h :  3.3962264150943398\n",
      "m :  0.32\n",
      "h :  3.5220125786163523\n",
      "m :  0.32666666666666666\n",
      "h :  3.647798742138365\n",
      "m :  0.3333333333333333\n",
      "h :  3.7735849056603774\n",
      "m :  0.3466666666666667\n",
      "h :  3.89937106918239\n",
      "m :  0.35333333333333333\n",
      "h :  4.0251572327044025\n",
      "m :  0.35333333333333333\n",
      "h :  4.150943396226415\n",
      "m :  0.37333333333333335\n",
      "h :  4.276729559748428\n",
      "m :  0.36000000000000004\n",
      "h :  4.40251572327044\n",
      "m :  0.34\n",
      "h :  4.528301886792453\n",
      "m :  0.37333333333333335\n",
      "h :  4.654088050314465\n",
      "m :  0.3933333333333333\n",
      "h :  4.779874213836478\n",
      "m :  0.37333333333333335\n",
      "h :  4.90566037735849\n",
      "m :  0.36000000000000004\n",
      "h :  5.031446540880503\n",
      "m :  0.5533333333333333\n",
      "h :  5.1572327044025155\n",
      "m :  0.5533333333333333\n",
      "h :  5.283018867924528\n",
      "m :  0.5733333333333334\n",
      "h :  5.408805031446541\n",
      "m :  0.54\n",
      "h :  5.534591194968553\n",
      "m :  0.4666666666666666\n",
      "h :  5.660377358490566\n",
      "m :  0.48\n",
      "h :  5.786163522012578\n",
      "m :  0.5266666666666667\n",
      "h :  5.911949685534591\n",
      "m :  0.48\n",
      "h :  6.037735849056604\n",
      "m :  0.45999999999999996\n",
      "h :  6.163522012578617\n",
      "m :  0.5\n",
      "h :  6.289308176100629\n",
      "m :  0.4466666666666667\n",
      "h :  6.415094339622642\n",
      "m :  0.44\n",
      "h :  6.540880503144654\n",
      "m :  0.66\n",
      "h :  6.666666666666667\n",
      "m :  0.6533333333333333\n",
      "h :  6.7924528301886795\n",
      "m :  0.6733333333333333\n",
      "h :  6.918238993710692\n",
      "m :  0.6466666666666666\n",
      "h :  7.044025157232705\n",
      "m :  0.6466666666666666\n",
      "h :  7.169811320754717\n",
      "m :  0.6466666666666666\n",
      "h :  7.29559748427673\n",
      "m :  0.66\n",
      "h :  7.421383647798742\n",
      "m :  0.6333333333333333\n",
      "h :  7.547169811320755\n",
      "m :  0.6533333333333333\n",
      "h :  7.672955974842767\n",
      "m :  0.6466666666666666\n",
      "h :  7.79874213836478\n",
      "m :  0.66\n",
      "h :  7.9245283018867925\n",
      "m :  0.6466666666666666\n",
      "h :  8.050314465408805\n",
      "m :  0.7200000000000001\n",
      "h :  8.176100628930818\n",
      "m :  0.7266666666666666\n",
      "h :  8.30188679245283\n",
      "m :  0.7066666666666667\n",
      "h :  8.427672955974844\n",
      "m :  0.68\n",
      "h :  8.553459119496855\n",
      "m :  0.7066666666666667\n",
      "h :  8.679245283018869\n",
      "m :  0.7000000000000001\n",
      "h :  8.80503144654088\n",
      "m :  0.7066666666666667\n",
      "h :  8.930817610062894\n",
      "m :  0.6866666666666666\n",
      "h :  9.056603773584905\n",
      "m :  0.7266666666666666\n",
      "h :  9.182389937106919\n",
      "m :  0.7133333333333333\n",
      "h :  9.30817610062893\n",
      "m :  0.6933333333333334\n",
      "h :  9.433962264150944\n",
      "m :  0.6933333333333334\n",
      "h :  9.559748427672956\n",
      "m :  0.9866666666666667\n",
      "h :  9.685534591194969\n",
      "m :  0.9733333333333333\n",
      "h :  9.81132075471698\n",
      "m :  0.98\n",
      "h :  9.937106918238994\n",
      "m :  0.96\n",
      "h :  10.062893081761006\n",
      "m :  0.9866666666666667\n",
      "h :  10.18867924528302\n",
      "m :  0.9933333333333333\n",
      "h :  10.314465408805031\n",
      "m :  0.9933333333333333\n",
      "h :  10.440251572327044\n",
      "m :  0.9666666666666667\n",
      "h :  10.566037735849056\n",
      "m :  0.9733333333333333\n",
      "h :  10.69182389937107\n",
      "m :  0.98\n",
      "h :  10.817610062893081\n",
      "m :  0.9666666666666667\n",
      "h :  10.943396226415095\n",
      "m :  0.9866666666666667\n",
      "h :  11.069182389937106\n",
      "m :  0.98\n",
      "h :  11.19496855345912\n",
      "m :  0.9666666666666667\n",
      "h :  11.320754716981131\n",
      "m :  0.98\n",
      "h :  11.446540880503145\n",
      "m :  0.98\n",
      "h :  11.572327044025156\n",
      "m :  0.98\n",
      "h :  11.69811320754717\n",
      "m :  0.9666666666666667\n",
      "h :  11.823899371069182\n",
      "m :  0.9933333333333333\n",
      "h :  11.949685534591195\n",
      "m :  0.9933333333333333\n",
      "h :  12.075471698113208\n",
      "m :  0.96\n",
      "h :  12.20125786163522\n",
      "m :  0.98\n",
      "h :  12.327044025157234\n",
      "m :  0.98\n",
      "h :  12.452830188679245\n",
      "m :  0.9533333333333333\n",
      "h :  12.578616352201259\n",
      "m :  0.9866666666666667\n",
      "h :  12.70440251572327\n",
      "m :  0.98\n",
      "h :  12.830188679245284\n",
      "m :  0.98\n",
      "h :  12.955974842767295\n",
      "m :  0.9666666666666667\n",
      "h :  13.081761006289309\n",
      "m :  0.9666666666666667\n",
      "h :  13.20754716981132\n",
      "m :  0.9933333333333333\n",
      "h :  13.333333333333334\n",
      "m :  0.9733333333333333\n",
      "h :  13.459119496855346\n",
      "m :  0.98\n",
      "h :  13.584905660377359\n",
      "m :  0.9733333333333333\n",
      "h :  13.71069182389937\n",
      "m :  0.9733333333333333\n",
      "h :  13.836477987421384\n",
      "m :  0.9733333333333333\n",
      "h :  13.962264150943396\n",
      "m :  0.98\n",
      "h :  14.08805031446541\n",
      "m :  0.9933333333333333\n",
      "h :  14.213836477987421\n",
      "m :  0.9866666666666667\n",
      "h :  14.339622641509434\n",
      "m :  0.9866666666666667\n",
      "h :  14.465408805031446\n",
      "m :  1.0\n",
      "h :  14.59119496855346\n",
      "m :  0.9733333333333333\n",
      "h :  14.716981132075471\n",
      "m :  0.9933333333333333\n",
      "h :  14.842767295597485\n",
      "m :  0.9866666666666667\n",
      "h :  14.968553459119496\n",
      "m :  0.98\n",
      "h :  15.09433962264151\n",
      "m :  0.9866666666666667\n",
      "h :  15.220125786163521\n",
      "m :  1.0\n",
      "h :  15.345911949685535\n",
      "m :  0.98\n",
      "h :  15.471698113207546\n",
      "m :  0.98\n",
      "h :  15.59748427672956\n",
      "m :  0.9866666666666667\n",
      "h :  15.723270440251572\n",
      "m :  0.9866666666666667\n",
      "h :  15.849056603773585\n",
      "m :  0.9866666666666667\n",
      "h :  15.974842767295597\n",
      "m :  0.9866666666666667\n",
      "h :  16.10062893081761\n",
      "m :  0.9933333333333333\n",
      "h :  16.22641509433962\n",
      "m :  0.98\n",
      "h :  16.352201257861637\n",
      "m :  0.9666666666666667\n",
      "h :  16.47798742138365\n",
      "m :  0.98\n",
      "h :  16.60377358490566\n",
      "m :  0.9866666666666667\n"
     ]
    },
    {
     "ename": "KeyboardInterrupt",
     "evalue": "",
     "output_type": "error",
     "traceback": [
      "\u001b[1;31m---------------------------------------------------------------------------\u001b[0m",
      "\u001b[1;31mKeyboardInterrupt\u001b[0m                         Traceback (most recent call last)",
      "\u001b[1;32m<timed exec>\u001b[0m in \u001b[0;36m<module>\u001b[1;34m()\u001b[0m\n",
      "\u001b[1;32m<ipython-input-56-dfd0d18328cc>\u001b[0m in \u001b[0;36mspin_hamiltonian\u001b[1;34m(spins, interactions, b, h)\u001b[0m\n\u001b[0;32m      5\u001b[0m         \u001b[1;32mfor\u001b[0m \u001b[0mrelative_no\u001b[0m\u001b[1;33m,\u001b[0m \u001b[0minteraction\u001b[0m \u001b[1;32min\u001b[0m \u001b[0minteractions\u001b[0m\u001b[1;33m[\u001b[0m\u001b[0mspin_no\u001b[0m\u001b[1;33m]\u001b[0m\u001b[1;33m.\u001b[0m\u001b[0mitems\u001b[0m\u001b[1;33m(\u001b[0m\u001b[1;33m)\u001b[0m\u001b[1;33m:\u001b[0m\u001b[1;33m\u001b[0m\u001b[0m\n\u001b[0;32m      6\u001b[0m             \u001b[0ms2\u001b[0m \u001b[1;33m=\u001b[0m \u001b[0mspins\u001b[0m\u001b[1;33m[\u001b[0m\u001b[1;33m(\u001b[0m\u001b[0mi\u001b[0m\u001b[1;33m+\u001b[0m\u001b[0mrelative_no\u001b[0m\u001b[1;33m)\u001b[0m\u001b[1;33m%\u001b[0m\u001b[0mN_SPIN\u001b[0m\u001b[1;33m]\u001b[0m\u001b[1;33m\u001b[0m\u001b[0m\n\u001b[1;32m----> 7\u001b[1;33m             \u001b[0menergy\u001b[0m \u001b[1;33m+=\u001b[0m \u001b[0minteraction\u001b[0m\u001b[1;33m*\u001b[0m\u001b[1;33m(\u001b[0m\u001b[0ms1\u001b[0m\u001b[1;33m*\u001b[0m\u001b[0ms2\u001b[0m \u001b[1;33m+\u001b[0m \u001b[0mb\u001b[0m\u001b[1;33m*\u001b[0m\u001b[1;33m(\u001b[0m\u001b[0ms1\u001b[0m\u001b[1;33m*\u001b[0m\u001b[0ms2\u001b[0m\u001b[1;33m)\u001b[0m\u001b[1;33m**\u001b[0m\u001b[1;36m2\u001b[0m\u001b[1;33m)\u001b[0m\u001b[1;33m\u001b[0m\u001b[0m\n\u001b[0m\u001b[0;32m      8\u001b[0m     \u001b[0menergy\u001b[0m \u001b[1;33m*=\u001b[0m \u001b[1;36m0.5\u001b[0m\u001b[1;33m\u001b[0m\u001b[0m\n\u001b[0;32m      9\u001b[0m \u001b[1;33m\u001b[0m\u001b[0m\n",
      "\u001b[1;31mKeyboardInterrupt\u001b[0m: "
     ]
    }
   ],
   "source": [
    "%%time\n",
    "h_hist = []\n",
    "m_hist = []\n",
    "for h in np.linspace(0, 20, 160):\n",
    "    m = []\n",
    "    for i in range(3):\n",
    "        rand_idxs = np.random.randint(0, N_SPIN, N_FLIP)\n",
    "        spins = np.random.randint(0, 2, N_SPIN) - 0.5\n",
    "        for idx in rand_idxs:\n",
    "            cur_energy = spin_hamiltonian(spins, interactions, b, h=h)\n",
    "            spins[idx] *= -1.\n",
    "            flip_energy = spin_hamiltonian(spins, interactions, b, h=h)\n",
    "            if 0.01 > np.random.rand():\n",
    "                pass\n",
    "            elif flip_energy > cur_energy:\n",
    "                spins[idx] *= -1.\n",
    "        m.append(abs(sum(spins))/(len(spins)*0.5))\n",
    "    print('h : ', h)\n",
    "    print('m : ', sum(m)/len(m))\n",
    "    h_hist.append(h)\n",
    "    m_hist.append(sum(m)/len(m))"
   ]
  },
  {
   "cell_type": "code",
   "execution_count": 72,
   "metadata": {},
   "outputs": [
    {
     "data": {
      "text/plain": [
       "[<matplotlib.lines.Line2D at 0x2694edad898>]"
      ]
     },
     "execution_count": 72,
     "metadata": {},
     "output_type": "execute_result"
    },
    {
     "data": {
      "image/png": "[encoded data removed]",
      "text/plain": [
       "<Figure size 432x288 with 1 Axes>"
      ]
     },
     "metadata": {},
     "output_type": "display_data"
    }
   ],
   "source": [
    "plt.xlabel('Magnetic Field')\n",
    "plt.ylabel('Magnetization')\n",
    "plt.plot(h_hist, m_hist)"
   ]
  },
  {
   "cell_type": "code",
   "execution_count": null,
   "metadata": {},
   "outputs": [],
   "source": []
  },
  {
   "cell_type": "code",
   "execution_count": 85,
   "metadata": {},
   "outputs": [
    {
     "name": "stdout",
     "output_type": "stream",
     "text": [
      "h :  0.0\n",
      "m :  0.006666666666666667\n",
      "h :  0.10062893081761007\n",
      "m :  0.0\n",
      "h :  0.20125786163522014\n",
      "m :  0.013333333333333334\n",
      "h :  0.30188679245283023\n",
      "m :  0.013333333333333334\n",
      "h :  0.4025157232704403\n",
      "m :  0.02666666666666667\n",
      "h :  0.5031446540880503\n",
      "m :  0.013333333333333334\n",
      "h :  0.6037735849056605\n",
      "m :  0.02666666666666667\n",
      "h :  0.7044025157232705\n",
      "m :  0.02\n",
      "h :  0.8050314465408805\n",
      "m :  0.02666666666666667\n",
      "h :  0.9056603773584906\n",
      "m :  0.04666666666666667\n",
      "h :  1.0062893081761006\n",
      "m :  0.03333333333333333\n",
      "h :  1.1069182389937107\n",
      "m :  0.05333333333333334\n",
      "h :  1.207547169811321\n",
      "m :  0.08666666666666667\n",
      "h :  1.308176100628931\n",
      "m :  0.06666666666666667\n",
      "h :  1.408805031446541\n",
      "m :  0.04666666666666667\n",
      "h :  1.509433962264151\n",
      "m :  0.17333333333333334\n",
      "h :  1.610062893081761\n",
      "m :  0.1466666666666667\n",
      "h :  1.7106918238993711\n",
      "m :  0.12666666666666668\n",
      "h :  1.8113207547169812\n",
      "m :  0.12\n",
      "h :  1.9119496855345912\n",
      "m :  0.12\n",
      "h :  2.0125786163522013\n",
      "m :  0.09333333333333334\n",
      "h :  2.1132075471698113\n",
      "m :  0.08666666666666667\n",
      "h :  2.2138364779874213\n",
      "m :  0.07333333333333335\n",
      "h :  2.3144654088050314\n",
      "m :  0.10000000000000002\n",
      "h :  2.415094339622642\n",
      "m :  0.12666666666666668\n",
      "h :  2.515723270440252\n",
      "m :  0.3133333333333333\n",
      "h :  2.616352201257862\n",
      "m :  0.3\n",
      "h :  2.716981132075472\n",
      "m :  0.30666666666666664\n",
      "h :  2.817610062893082\n",
      "m :  0.3133333333333333\n",
      "h :  2.918238993710692\n",
      "m :  0.3133333333333333\n",
      "h :  3.018867924528302\n",
      "m :  0.32\n",
      "h :  3.119496855345912\n",
      "m :  0.3133333333333333\n",
      "h :  3.220125786163522\n",
      "m :  0.3133333333333333\n",
      "h :  3.3207547169811322\n",
      "m :  0.2933333333333334\n",
      "h :  3.4213836477987423\n",
      "m :  0.30000000000000004\n",
      "h :  3.5220125786163523\n",
      "m :  0.3133333333333333\n",
      "h :  3.6226415094339623\n",
      "m :  0.32666666666666666\n",
      "h :  3.7232704402515724\n",
      "m :  0.34\n",
      "h :  3.8238993710691824\n",
      "m :  0.3333333333333333\n",
      "h :  3.9245283018867925\n",
      "m :  0.32\n",
      "h :  4.0251572327044025\n",
      "m :  0.3866666666666667\n",
      "h :  4.1257861635220126\n",
      "m :  0.40666666666666673\n",
      "h :  4.226415094339623\n",
      "m :  0.41333333333333333\n",
      "h :  4.327044025157233\n",
      "m :  0.41333333333333333\n",
      "h :  4.427672955974843\n",
      "m :  0.42\n",
      "h :  4.528301886792453\n",
      "m :  0.41333333333333333\n",
      "h :  4.628930817610063\n",
      "m :  0.4000000000000001\n",
      "h :  4.729559748427673\n",
      "m :  0.3866666666666667\n",
      "h :  4.830188679245284\n",
      "m :  0.38000000000000006\n",
      "h :  4.930817610062894\n",
      "m :  0.39333333333333337\n",
      "h :  5.031446540880504\n",
      "m :  0.6133333333333333\n",
      "h :  5.132075471698114\n",
      "m :  0.5933333333333333\n",
      "h :  5.232704402515724\n",
      "m :  0.58\n",
      "h :  5.333333333333334\n",
      "m :  0.5733333333333334\n",
      "h :  5.433962264150944\n",
      "m :  0.5733333333333334\n",
      "h :  5.534591194968554\n",
      "m :  0.5733333333333334\n",
      "h :  5.635220125786164\n",
      "m :  0.58\n",
      "h :  5.735849056603774\n",
      "m :  0.5933333333333333\n",
      "h :  5.836477987421384\n",
      "m :  0.5800000000000001\n",
      "h :  5.937106918238994\n",
      "m :  0.6133333333333333\n",
      "h :  6.037735849056604\n",
      "m :  0.6066666666666666\n",
      "h :  6.138364779874214\n",
      "m :  0.6\n",
      "h :  6.238993710691824\n",
      "m :  0.6133333333333333\n",
      "h :  6.339622641509434\n",
      "m :  0.5933333333333333\n",
      "h :  6.440251572327044\n",
      "m :  0.5933333333333333\n",
      "h :  6.540880503144654\n",
      "m :  0.6533333333333333\n",
      "h :  6.6415094339622645\n",
      "m :  0.66\n",
      "h :  6.7421383647798745\n",
      "m :  0.66\n",
      "h :  6.8427672955974845\n",
      "m :  0.6466666666666666\n",
      "h :  6.943396226415095\n",
      "m :  0.66\n",
      "h :  7.044025157232705\n",
      "m :  0.6666666666666666\n",
      "h :  7.144654088050315\n",
      "m :  0.6666666666666666\n",
      "h :  7.245283018867925\n",
      "m :  0.66\n",
      "h :  7.345911949685535\n",
      "m :  0.66\n",
      "h :  7.446540880503145\n",
      "m :  0.66\n",
      "h :  7.547169811320755\n",
      "m :  0.66\n",
      "h :  7.647798742138365\n",
      "m :  0.66\n",
      "h :  7.748427672955975\n",
      "m :  0.66\n",
      "h :  7.849056603773585\n",
      "m :  0.6466666666666666\n",
      "h :  7.949685534591195\n",
      "m :  0.6533333333333333\n",
      "h :  8.050314465408805\n",
      "m :  0.68\n",
      "h :  8.150943396226415\n",
      "m :  0.6999999999999998\n",
      "h :  8.251572327044025\n",
      "m :  0.6999999999999998\n",
      "h :  8.352201257861635\n",
      "m :  0.6999999999999998\n",
      "h :  8.452830188679245\n",
      "m :  0.6999999999999998\n",
      "h :  8.553459119496855\n",
      "m :  0.7133333333333333\n",
      "h :  8.654088050314465\n",
      "m :  0.7200000000000001\n",
      "h :  8.754716981132075\n",
      "m :  0.7200000000000001\n",
      "h :  8.855345911949685\n",
      "m :  0.7200000000000001\n",
      "h :  8.955974842767295\n",
      "m :  0.7200000000000001\n",
      "h :  9.056603773584905\n",
      "m :  0.7266666666666666\n",
      "h :  9.157232704402515\n",
      "m :  0.7333333333333334\n",
      "h :  9.257861635220126\n",
      "m :  0.7200000000000001\n",
      "h :  9.358490566037736\n",
      "m :  0.7133333333333333\n",
      "h :  9.459119496855346\n",
      "m :  0.7266666666666666\n",
      "h :  9.559748427672956\n",
      "m :  0.7399999999999999\n",
      "h :  9.660377358490567\n",
      "m :  0.7200000000000001\n",
      "h :  9.761006289308177\n",
      "m :  0.7200000000000001\n",
      "h :  9.861635220125788\n",
      "m :  0.7200000000000001\n",
      "h :  9.962264150943398\n",
      "m :  0.7399999999999999\n",
      "h :  10.062893081761008\n",
      "m :  0.7466666666666667\n",
      "h :  10.163522012578618\n",
      "m :  0.7333333333333334\n",
      "h :  10.264150943396228\n",
      "m :  0.7399999999999999\n",
      "h :  10.364779874213838\n",
      "m :  0.7200000000000001\n",
      "h :  10.465408805031448\n",
      "m :  0.7200000000000001\n",
      "h :  10.566037735849058\n",
      "m :  0.7200000000000001\n",
      "h :  10.666666666666668\n",
      "m :  0.7200000000000001\n",
      "h :  10.767295597484278\n",
      "m :  0.7200000000000001\n",
      "h :  10.867924528301888\n",
      "m :  0.7266666666666666\n",
      "h :  10.968553459119498\n",
      "m :  0.7200000000000001\n",
      "h :  11.069182389937108\n",
      "m :  1.0\n",
      "h :  11.169811320754718\n",
      "m :  0.9933333333333333\n",
      "h :  11.270440251572328\n",
      "m :  0.9933333333333333\n",
      "h :  11.371069182389938\n",
      "m :  0.9866666666666667\n",
      "h :  11.471698113207548\n",
      "m :  1.0\n",
      "h :  11.572327044025158\n",
      "m :  1.0\n",
      "h :  11.672955974842768\n",
      "m :  0.9933333333333333\n",
      "h :  11.773584905660378\n",
      "m :  0.9933333333333333\n",
      "h :  11.874213836477988\n",
      "m :  0.9866666666666667\n",
      "h :  11.974842767295598\n",
      "m :  1.0\n",
      "h :  12.075471698113208\n",
      "m :  0.9933333333333333\n",
      "h :  12.176100628930818\n",
      "m :  1.0\n",
      "h :  12.276729559748428\n",
      "m :  0.98\n",
      "h :  12.377358490566039\n",
      "m :  0.9866666666666667\n",
      "h :  12.477987421383649\n",
      "m :  0.9933333333333333\n",
      "h :  12.578616352201259\n",
      "m :  0.9933333333333333\n",
      "h :  12.679245283018869\n",
      "m :  1.0\n",
      "h :  12.779874213836479\n",
      "m :  1.0\n",
      "h :  12.880503144654089\n",
      "m :  1.0\n",
      "h :  12.981132075471699\n",
      "m :  0.9933333333333333\n",
      "h :  13.081761006289309\n",
      "m :  0.9933333333333333\n"
     ]
    },
    {
     "ename": "KeyboardInterrupt",
     "evalue": "",
     "output_type": "error",
     "traceback": [
      "\u001b[1;31m---------------------------------------------------------------------------\u001b[0m",
      "\u001b[1;31mKeyboardInterrupt\u001b[0m                         Traceback (most recent call last)",
      "\u001b[1;32m<timed exec>\u001b[0m in \u001b[0;36m<module>\u001b[1;34m()\u001b[0m\n",
      "\u001b[1;32m<ipython-input-56-dfd0d18328cc>\u001b[0m in \u001b[0;36mspin_hamiltonian\u001b[1;34m(spins, interactions, b, h)\u001b[0m\n\u001b[0;32m      5\u001b[0m         \u001b[1;32mfor\u001b[0m \u001b[0mrelative_no\u001b[0m\u001b[1;33m,\u001b[0m \u001b[0minteraction\u001b[0m \u001b[1;32min\u001b[0m \u001b[0minteractions\u001b[0m\u001b[1;33m[\u001b[0m\u001b[0mspin_no\u001b[0m\u001b[1;33m]\u001b[0m\u001b[1;33m.\u001b[0m\u001b[0mitems\u001b[0m\u001b[1;33m(\u001b[0m\u001b[1;33m)\u001b[0m\u001b[1;33m:\u001b[0m\u001b[1;33m\u001b[0m\u001b[0m\n\u001b[0;32m      6\u001b[0m             \u001b[0ms2\u001b[0m \u001b[1;33m=\u001b[0m \u001b[0mspins\u001b[0m\u001b[1;33m[\u001b[0m\u001b[1;33m(\u001b[0m\u001b[0mi\u001b[0m\u001b[1;33m+\u001b[0m\u001b[0mrelative_no\u001b[0m\u001b[1;33m)\u001b[0m\u001b[1;33m%\u001b[0m\u001b[0mN_SPIN\u001b[0m\u001b[1;33m]\u001b[0m\u001b[1;33m\u001b[0m\u001b[0m\n\u001b[1;32m----> 7\u001b[1;33m             \u001b[0menergy\u001b[0m \u001b[1;33m+=\u001b[0m \u001b[0minteraction\u001b[0m\u001b[1;33m*\u001b[0m\u001b[1;33m(\u001b[0m\u001b[0ms1\u001b[0m\u001b[1;33m*\u001b[0m\u001b[0ms2\u001b[0m \u001b[1;33m+\u001b[0m \u001b[0mb\u001b[0m\u001b[1;33m*\u001b[0m\u001b[1;33m(\u001b[0m\u001b[0ms1\u001b[0m\u001b[1;33m*\u001b[0m\u001b[0ms2\u001b[0m\u001b[1;33m)\u001b[0m\u001b[1;33m**\u001b[0m\u001b[1;36m2\u001b[0m\u001b[1;33m)\u001b[0m\u001b[1;33m\u001b[0m\u001b[0m\n\u001b[0m\u001b[0;32m      8\u001b[0m     \u001b[0menergy\u001b[0m \u001b[1;33m*=\u001b[0m \u001b[1;36m0.5\u001b[0m\u001b[1;33m\u001b[0m\u001b[0m\n\u001b[0;32m      9\u001b[0m \u001b[1;33m\u001b[0m\u001b[0m\n",
      "\u001b[1;31mKeyboardInterrupt\u001b[0m: "
     ]
    }
   ],
   "source": [
    "%%time\n",
    "h_hist = []\n",
    "m_hist = []\n",
    "spins = np.random.randint(0, 2, N_SPIN) - 0.5\n",
    "for h in np.linspace(0, 16, 160):\n",
    "    m = []\n",
    "    for i in range(3):\n",
    "        rand_idxs = np.random.randint(0, N_SPIN, N_FLIP)\n",
    "        # spins = np.random.randint(0, 2, N_SPIN) - 0.5\n",
    "        for idx in rand_idxs:\n",
    "            cur_energy = spin_hamiltonian(spins, interactions, b, h=h)\n",
    "            spins[idx] *= -1.\n",
    "            flip_energy = spin_hamiltonian(spins, interactions, b, h=h)\n",
    "\n",
    "            if flip_energy < cur_energy:\n",
    "                pass\n",
    "            elif 0.003 > np.random.rand():\n",
    "                pass\n",
    "            else:\n",
    "                spins[idx] *= -1.\n",
    "        m.append(abs(sum(spins))/(len(spins)*0.5))\n",
    "    print('h : ', h)\n",
    "    print('m : ', sum(m)/len(m))\n",
    "    h_hist.append(h)\n",
    "    m_hist.append(sum(m)/len(m))"
   ]
  },
  {
   "cell_type": "code",
   "execution_count": 86,
   "metadata": {},
   "outputs": [
    {
     "data": {
      "text/plain": [
       "[<matplotlib.lines.Line2D at 0x2694ef021d0>]"
      ]
     },
     "execution_count": 86,
     "metadata": {},
     "output_type": "execute_result"
    },
    {
     "data": {
      "image/png": "[encoded data removed]",
      "text/plain": [
       "<Figure size 432x288 with 1 Axes>"
      ]
     },
     "metadata": {},
     "output_type": "display_data"
    }
   ],
   "source": [
    "plt.xlabel('Magnetic Field')\n",
    "plt.ylabel('Magnetization')\n",
    "plt.plot(h_hist, m_hist)"
   ]
  },
  {
   "cell_type": "code",
   "execution_count": null,
   "metadata": {},
   "outputs": [],
   "source": []
  },
  {
   "cell_type": "code",
   "execution_count": null,
   "metadata": {},
   "outputs": [],
   "source": [
    "# ↓相互作用とハミルトニアンが間違っていた"
   ]
  },
  {
   "cell_type": "code",
   "execution_count": 88,
   "metadata": {},
   "outputs": [],
   "source": [
    "N_FLIP = 10000"
   ]
  },
  {
   "cell_type": "code",
   "execution_count": 89,
   "metadata": {},
   "outputs": [
    {
     "name": "stdout",
     "output_type": "stream",
     "text": [
      "h :  0.0\n",
      "m :  0.006666666666666667\n",
      "h :  0.10062893081761007\n",
      "m :  0.04\n",
      "h :  0.20125786163522014\n",
      "m :  0.02\n",
      "h :  0.30188679245283023\n",
      "m :  0.04666666666666667\n",
      "h :  0.4025157232704403\n",
      "m :  0.03333333333333333\n",
      "h :  0.5031446540880503\n",
      "m :  0.04\n",
      "h :  0.6037735849056605\n",
      "m :  0.04666666666666667\n",
      "h :  0.7044025157232705\n",
      "m :  0.05333333333333334\n",
      "h :  0.8050314465408805\n",
      "m :  0.04\n",
      "h :  0.9056603773584906\n",
      "m :  0.04\n",
      "h :  1.0062893081761006\n",
      "m :  0.006666666666666667\n",
      "h :  1.1069182389937107\n",
      "m :  0.02666666666666667\n",
      "h :  1.207547169811321\n",
      "m :  0.02666666666666667\n",
      "h :  1.308176100628931\n",
      "m :  0.04\n",
      "h :  1.408805031446541\n",
      "m :  0.03333333333333333\n",
      "h :  1.509433962264151\n",
      "m :  0.18666666666666668\n",
      "h :  1.610062893081761\n",
      "m :  0.1466666666666667\n",
      "h :  1.7106918238993711\n",
      "m :  0.16666666666666666\n",
      "h :  1.8113207547169812\n",
      "m :  0.18666666666666668\n",
      "h :  1.9119496855345912\n",
      "m :  0.18666666666666668\n",
      "h :  2.0125786163522013\n",
      "m :  0.13333333333333333\n",
      "h :  2.1132075471698113\n",
      "m :  0.10000000000000002\n",
      "h :  2.2138364779874213\n",
      "m :  0.12666666666666668\n",
      "h :  2.3144654088050314\n",
      "m :  0.10666666666666667\n",
      "h :  2.415094339622642\n",
      "m :  0.06666666666666667\n",
      "h :  2.515723270440252\n",
      "m :  0.30666666666666664\n",
      "h :  2.616352201257862\n",
      "m :  0.32\n",
      "h :  2.716981132075472\n",
      "m :  0.32\n",
      "h :  2.817610062893082\n",
      "m :  0.3133333333333333\n",
      "h :  2.918238993710692\n",
      "m :  0.3066666666666667\n",
      "h :  3.018867924528302\n",
      "m :  0.32666666666666666\n",
      "h :  3.119496855345912\n",
      "m :  0.3333333333333333\n",
      "h :  3.220125786163522\n",
      "m :  0.32666666666666666\n",
      "h :  3.3207547169811322\n",
      "m :  0.3333333333333333\n",
      "h :  3.4213836477987423\n",
      "m :  0.32\n",
      "h :  3.5220125786163523\n",
      "m :  0.32666666666666666\n",
      "h :  3.6226415094339623\n",
      "m :  0.3333333333333333\n",
      "h :  3.7232704402515724\n",
      "m :  0.32666666666666666\n",
      "h :  3.8238993710691824\n",
      "m :  0.32666666666666666\n",
      "h :  3.9245283018867925\n",
      "m :  0.34\n",
      "h :  4.0251572327044025\n",
      "m :  0.38000000000000006\n",
      "h :  4.1257861635220126\n",
      "m :  0.37333333333333335\n",
      "h :  4.226415094339623\n",
      "m :  0.38000000000000006\n",
      "h :  4.327044025157233\n",
      "m :  0.38000000000000006\n",
      "h :  4.427672955974843\n",
      "m :  0.37333333333333335\n",
      "h :  4.528301886792453\n",
      "m :  0.3666666666666667\n",
      "h :  4.628930817610063\n",
      "m :  0.39333333333333337\n",
      "h :  4.729559748427673\n",
      "m :  0.39999999999999997\n",
      "h :  4.830188679245284\n",
      "m :  0.3933333333333333\n",
      "h :  4.930817610062894\n",
      "m :  0.4000000000000001\n",
      "h :  5.031446540880504\n",
      "m :  0.6133333333333333\n",
      "h :  5.132075471698114\n",
      "m :  0.6066666666666666\n",
      "h :  5.232704402515724\n",
      "m :  0.6066666666666666\n",
      "h :  5.333333333333334\n",
      "m :  0.5866666666666666\n",
      "h :  5.433962264150944\n",
      "m :  0.5866666666666668\n",
      "h :  5.534591194968554\n",
      "m :  0.5800000000000001\n",
      "h :  5.635220125786164\n",
      "m :  0.5733333333333334\n",
      "h :  5.735849056603774\n",
      "m :  0.6\n",
      "h :  5.836477987421384\n",
      "m :  0.6066666666666666\n",
      "h :  5.937106918238994\n",
      "m :  0.6066666666666666\n",
      "h :  6.037735849056604\n",
      "m :  0.5800000000000001\n",
      "h :  6.138364779874214\n",
      "m :  0.5866666666666666\n",
      "h :  6.238993710691824\n",
      "m :  0.5666666666666668\n",
      "h :  6.339622641509434\n",
      "m :  0.6\n",
      "h :  6.440251572327044\n",
      "m :  0.5933333333333333\n",
      "h :  6.540880503144654\n",
      "m :  0.66\n",
      "h :  6.6415094339622645\n",
      "m :  0.66\n",
      "h :  6.7421383647798745\n",
      "m :  0.6466666666666666\n",
      "h :  6.8427672955974845\n",
      "m :  0.66\n",
      "h :  6.943396226415095\n",
      "m :  0.6466666666666666\n",
      "h :  7.044025157232705\n",
      "m :  0.66\n",
      "h :  7.144654088050315\n",
      "m :  0.6533333333333333\n",
      "h :  7.245283018867925\n",
      "m :  0.6733333333333333\n",
      "h :  7.345911949685535\n",
      "m :  0.66\n",
      "h :  7.446540880503145\n",
      "m :  0.66\n",
      "h :  7.547169811320755\n",
      "m :  0.64\n",
      "h :  7.647798742138365\n",
      "m :  0.66\n",
      "h :  7.748427672955975\n",
      "m :  0.66\n",
      "h :  7.849056603773585\n",
      "m :  0.6733333333333333\n",
      "h :  7.949685534591195\n",
      "m :  0.66\n",
      "h :  8.050314465408805\n",
      "m :  0.6999999999999998\n",
      "h :  8.150943396226415\n",
      "m :  0.6866666666666666\n",
      "h :  8.251572327044025\n",
      "m :  0.6733333333333333\n",
      "h :  8.352201257861635\n",
      "m :  0.6933333333333334\n",
      "h :  8.452830188679245\n",
      "m :  0.6866666666666666\n",
      "h :  8.553459119496855\n",
      "m :  0.6733333333333333\n",
      "h :  8.654088050314465\n",
      "m :  0.6999999999999998\n",
      "h :  8.754716981132075\n",
      "m :  0.6733333333333333\n",
      "h :  8.855345911949685\n",
      "m :  0.6666666666666666\n",
      "h :  8.955974842767295\n",
      "m :  0.68\n",
      "h :  9.056603773584905\n",
      "m :  0.7133333333333333\n",
      "h :  9.157232704402515\n",
      "m :  0.6999999999999998\n",
      "h :  9.257861635220126\n",
      "m :  0.6999999999999998\n",
      "h :  9.358490566037736\n",
      "m :  0.7200000000000001\n",
      "h :  9.459119496855346\n",
      "m :  0.7066666666666667\n",
      "h :  9.559748427672956\n",
      "m :  0.6866666666666666\n",
      "h :  9.660377358490567\n",
      "m :  0.6933333333333334\n",
      "h :  9.761006289308177\n",
      "m :  0.7066666666666667\n",
      "h :  9.861635220125788\n",
      "m :  0.6866666666666666\n",
      "h :  9.962264150943398\n",
      "m :  0.6999999999999998\n",
      "h :  10.062893081761008\n",
      "m :  0.6933333333333334\n",
      "h :  10.163522012578618\n",
      "m :  0.6999999999999998\n",
      "h :  10.264150943396228\n",
      "m :  0.7200000000000001\n",
      "h :  10.364779874213838\n",
      "m :  0.7000000000000001\n",
      "h :  10.465408805031448\n",
      "m :  0.7133333333333333\n",
      "h :  10.566037735849058\n",
      "m :  0.6999999999999998\n",
      "h :  10.666666666666668\n",
      "m :  0.7066666666666667\n",
      "h :  10.767295597484278\n",
      "m :  0.7066666666666667\n",
      "h :  10.867924528301888\n",
      "m :  0.7066666666666667\n",
      "h :  10.968553459119498\n",
      "m :  0.7066666666666667\n",
      "h :  11.069182389937108\n",
      "m :  0.9866666666666667\n",
      "h :  11.169811320754718\n",
      "m :  1.0\n",
      "h :  11.270440251572328\n",
      "m :  0.9933333333333333\n",
      "h :  11.371069182389938\n",
      "m :  0.9866666666666667\n",
      "h :  11.471698113207548\n",
      "m :  0.9933333333333333\n",
      "h :  11.572327044025158\n",
      "m :  0.9866666666666667\n",
      "h :  11.672955974842768\n",
      "m :  1.0\n",
      "h :  11.773584905660378\n",
      "m :  1.0\n",
      "h :  11.874213836477988\n",
      "m :  0.9933333333333333\n",
      "h :  11.974842767295598\n",
      "m :  0.98\n",
      "h :  12.075471698113208\n",
      "m :  1.0\n",
      "h :  12.176100628930818\n",
      "m :  0.9866666666666667\n",
      "h :  12.276729559748428\n",
      "m :  0.98\n",
      "h :  12.377358490566039\n",
      "m :  1.0\n",
      "h :  12.477987421383649\n",
      "m :  0.9933333333333333\n",
      "h :  12.578616352201259\n",
      "m :  1.0\n",
      "h :  12.679245283018869\n",
      "m :  1.0\n",
      "h :  12.779874213836479\n",
      "m :  1.0\n",
      "h :  12.880503144654089\n",
      "m :  0.9933333333333333\n",
      "h :  12.981132075471699\n",
      "m :  0.9933333333333333\n",
      "h :  13.081761006289309\n",
      "m :  0.9933333333333333\n",
      "h :  13.182389937106919\n",
      "m :  1.0\n",
      "h :  13.283018867924529\n",
      "m :  0.98\n",
      "h :  13.383647798742139\n",
      "m :  1.0\n",
      "h :  13.484276729559749\n",
      "m :  1.0\n",
      "h :  13.584905660377359\n",
      "m :  1.0\n",
      "h :  13.685534591194969\n",
      "m :  0.9933333333333333\n",
      "h :  13.786163522012579\n",
      "m :  1.0\n",
      "h :  13.88679245283019\n",
      "m :  1.0\n",
      "h :  13.9874213836478\n",
      "m :  0.9933333333333333\n",
      "h :  14.08805031446541\n",
      "m :  0.96\n",
      "h :  14.18867924528302\n",
      "m :  0.9933333333333333\n",
      "h :  14.28930817610063\n",
      "m :  1.0\n",
      "h :  14.38993710691824\n",
      "m :  0.9933333333333333\n",
      "h :  14.49056603773585\n",
      "m :  1.0\n",
      "h :  14.59119496855346\n",
      "m :  1.0\n",
      "h :  14.69182389937107\n",
      "m :  1.0\n",
      "h :  14.79245283018868\n",
      "m :  1.0\n",
      "h :  14.89308176100629\n",
      "m :  1.0\n",
      "h :  14.9937106918239\n",
      "m :  0.9933333333333333\n",
      "h :  15.09433962264151\n",
      "m :  0.9866666666666667\n",
      "h :  15.19496855345912\n",
      "m :  0.9933333333333333\n",
      "h :  15.29559748427673\n",
      "m :  0.9933333333333333\n",
      "h :  15.39622641509434\n",
      "m :  0.9866666666666667\n",
      "h :  15.49685534591195\n",
      "m :  0.9933333333333333\n",
      "h :  15.59748427672956\n",
      "m :  0.9866666666666667\n",
      "h :  15.69811320754717\n",
      "m :  0.9933333333333333\n",
      "h :  15.79874213836478\n",
      "m :  1.0\n",
      "h :  15.89937106918239\n",
      "m :  0.9866666666666667\n",
      "h :  16.0\n",
      "m :  0.9933333333333333\n",
      "Wall time: 5h 50min 30s\n"
     ]
    }
   ],
   "source": [
    "%%time\n",
    "h_hist = []\n",
    "m_hist = []\n",
    "spins = np.random.randint(0, 2, N_SPIN) - 0.5\n",
    "for h in np.linspace(0, 16, 160):\n",
    "    m = []\n",
    "    for i in range(3):\n",
    "        rand_idxs = np.random.randint(0, N_SPIN, N_FLIP)\n",
    "        # spins = np.random.randint(0, 2, N_SPIN) - 0.5\n",
    "        for idx in rand_idxs:\n",
    "            cur_energy = spin_hamiltonian(spins, interactions, b, h=h)\n",
    "            spins[idx] *= -1.\n",
    "            flip_energy = spin_hamiltonian(spins, interactions, b, h=h)\n",
    "\n",
    "            if flip_energy < cur_energy:\n",
    "                pass\n",
    "            elif 0.003 > np.random.rand():\n",
    "                pass\n",
    "            else:\n",
    "                spins[idx] *= -1.\n",
    "        m.append(abs(sum(spins))/(len(spins)*0.5))\n",
    "    print('h : ', h)\n",
    "    print('m : ', sum(m)/len(m))\n",
    "    h_hist.append(h)\n",
    "    m_hist.append(sum(m)/len(m))"
   ]
  },
  {
   "cell_type": "code",
   "execution_count": 90,
   "metadata": {},
   "outputs": [
    {
     "data": {
      "text/plain": [
       "[<matplotlib.lines.Line2D at 0x2694ef20f28>]"
      ]
     },
     "execution_count": 90,
     "metadata": {},
     "output_type": "execute_result"
    },
    {
     "data": {
      "image/png": "[encoded data removed]",
      "text/plain": [
       "<Figure size 432x288 with 1 Axes>"
      ]
     },
     "metadata": {},
     "output_type": "display_data"
    }
   ],
   "source": [
    "plt.xlabel('Magnetic Field')\n",
    "plt.ylabel('Magnetization')\n",
    "plt.plot(h_hist, m_hist)"
   ]
  },
  {
   "cell_type": "code",
   "execution_count": null,
   "metadata": {},
   "outputs": [],
   "source": [
    "\n"
   ]
  },
  {
   "cell_type": "code",
   "execution_count": 106,
   "metadata": {},
   "outputs": [],
   "source": [
    "N_FLIP = 1000\n"
   ]
  },
  {
   "cell_type": "code",
   "execution_count": 107,
   "metadata": {},
   "outputs": [
    {
     "name": "stdout",
     "output_type": "stream",
     "text": [
      "h :  0.0\n",
      "m :  0.006666666666666667\n",
      "h :  0.10062893081761007\n",
      "m :  0.02666666666666667\n",
      "h :  0.20125786163522014\n",
      "m :  0.013333333333333334\n",
      "h :  0.30188679245283023\n",
      "m :  0.013333333333333334\n",
      "h :  0.4025157232704403\n",
      "m :  0.02\n",
      "h :  0.5031446540880503\n",
      "m :  0.02\n",
      "h :  0.6037735849056605\n",
      "m :  0.013333333333333334\n",
      "h :  0.7044025157232705\n",
      "m :  0.02\n",
      "h :  0.8050314465408805\n",
      "m :  0.02666666666666667\n",
      "h :  0.9056603773584906\n",
      "m :  0.03333333333333333\n",
      "h :  1.0062893081761006\n",
      "m :  0.05333333333333334\n",
      "h :  1.1069182389937107\n",
      "m :  0.05333333333333334\n",
      "h :  1.207547169811321\n",
      "m :  0.04666666666666667\n",
      "h :  1.308176100628931\n",
      "m :  0.04\n",
      "h :  1.408805031446541\n",
      "m :  0.04\n",
      "h :  1.509433962264151\n",
      "m :  0.04\n",
      "h :  1.610062893081761\n",
      "m :  0.04\n",
      "h :  1.7106918238993711\n",
      "m :  0.03333333333333333\n",
      "h :  1.8113207547169812\n",
      "m :  0.04666666666666667\n",
      "h :  1.9119496855345912\n",
      "m :  0.04666666666666667\n",
      "h :  2.0125786163522013\n",
      "m :  0.04\n",
      "h :  2.1132075471698113\n",
      "m :  0.04\n",
      "h :  2.2138364779874213\n",
      "m :  0.06\n",
      "h :  2.3144654088050314\n",
      "m :  0.06\n",
      "h :  2.415094339622642\n",
      "m :  0.06\n",
      "h :  2.515723270440252\n",
      "m :  0.6\n",
      "h :  2.616352201257862\n",
      "m :  0.6\n",
      "h :  2.716981132075472\n",
      "m :  0.6\n",
      "h :  2.817610062893082\n",
      "m :  0.5933333333333333\n",
      "h :  2.918238993710692\n",
      "m :  0.5800000000000001\n",
      "h :  3.018867924528302\n",
      "m :  0.5733333333333334\n",
      "h :  3.119496855345912\n",
      "m :  0.5733333333333334\n",
      "h :  3.220125786163522\n",
      "m :  0.58\n",
      "h :  3.3207547169811322\n",
      "m :  0.5666666666666668\n",
      "h :  3.4213836477987423\n",
      "m :  0.5933333333333333\n",
      "h :  3.5220125786163523\n",
      "m :  0.6\n",
      "h :  3.6226415094339623\n",
      "m :  0.6\n",
      "h :  3.7232704402515724\n",
      "m :  0.5866666666666666\n",
      "h :  3.8238993710691824\n",
      "m :  0.5933333333333334\n",
      "h :  3.9245283018867925\n",
      "m :  0.6066666666666666\n",
      "h :  4.0251572327044025\n",
      "m :  0.62\n",
      "h :  4.1257861635220126\n",
      "m :  0.5866666666666666\n",
      "h :  4.226415094339623\n",
      "m :  0.62\n",
      "h :  4.327044025157233\n",
      "m :  0.64\n",
      "h :  4.427672955974843\n",
      "m :  0.64\n",
      "h :  4.528301886792453\n",
      "m :  0.6266666666666666\n",
      "h :  4.628930817610063\n",
      "m :  0.6133333333333333\n",
      "h :  4.729559748427673\n",
      "m :  0.6\n",
      "h :  4.830188679245284\n",
      "m :  0.6066666666666666\n",
      "h :  4.930817610062894\n",
      "m :  0.6133333333333333\n",
      "h :  5.031446540880504\n",
      "m :  0.6133333333333333\n",
      "h :  5.132075471698114\n",
      "m :  0.6066666666666666\n",
      "h :  5.232704402515724\n",
      "m :  0.5933333333333333\n",
      "h :  5.333333333333334\n",
      "m :  0.62\n",
      "h :  5.433962264150944\n",
      "m :  0.6133333333333333\n",
      "h :  5.534591194968554\n",
      "m :  0.62\n",
      "h :  5.635220125786164\n",
      "m :  0.6\n",
      "h :  5.735849056603774\n",
      "m :  0.6\n",
      "h :  5.836477987421384\n",
      "m :  0.5866666666666666\n",
      "h :  5.937106918238994\n",
      "m :  0.5733333333333334\n",
      "h :  6.037735849056604\n",
      "m :  0.5933333333333333\n",
      "h :  6.138364779874214\n",
      "m :  0.5866666666666666\n",
      "h :  6.238993710691824\n",
      "m :  0.5933333333333333\n",
      "h :  6.339622641509434\n",
      "m :  0.5866666666666668\n",
      "h :  6.440251572327044\n",
      "m :  0.5800000000000001\n",
      "h :  6.540880503144654\n",
      "m :  0.6933333333333334\n",
      "h :  6.6415094339622645\n",
      "m :  0.6999999999999998\n",
      "h :  6.7421383647798745\n",
      "m :  0.6933333333333334\n",
      "h :  6.8427672955974845\n",
      "m :  0.6733333333333333\n",
      "h :  6.943396226415095\n",
      "m :  0.68\n",
      "h :  7.044025157232705\n",
      "m :  0.6866666666666666\n",
      "h :  7.144654088050315\n",
      "m :  0.6733333333333333\n",
      "h :  7.245283018867925\n",
      "m :  0.6866666666666665\n",
      "h :  7.345911949685535\n",
      "m :  0.6999999999999998\n",
      "h :  7.446540880503145\n",
      "m :  0.6866666666666666\n",
      "h :  7.547169811320755\n",
      "m :  0.6733333333333333\n",
      "h :  7.647798742138365\n",
      "m :  0.68\n",
      "h :  7.748427672955975\n",
      "m :  0.6733333333333333\n",
      "h :  7.849056603773585\n",
      "m :  0.68\n",
      "h :  7.949685534591195\n",
      "m :  0.6933333333333334\n",
      "h :  8.050314465408805\n",
      "m :  0.6866666666666665\n",
      "h :  8.150943396226415\n",
      "m :  0.6999999999999998\n",
      "h :  8.251572327044025\n",
      "m :  0.6999999999999998\n",
      "h :  8.352201257861635\n",
      "m :  0.7066666666666667\n",
      "h :  8.452830188679245\n",
      "m :  0.6866666666666666\n",
      "h :  8.553459119496855\n",
      "m :  0.6999999999999998\n",
      "h :  8.654088050314465\n",
      "m :  0.6999999999999998\n",
      "h :  8.754716981132075\n",
      "m :  0.6933333333333334\n",
      "h :  8.855345911949685\n",
      "m :  0.6866666666666666\n",
      "h :  8.955974842767295\n",
      "m :  0.6999999999999998\n",
      "h :  9.056603773584905\n",
      "m :  0.6933333333333334\n",
      "h :  9.157232704402515\n",
      "m :  0.7066666666666667\n",
      "h :  9.257861635220126\n",
      "m :  0.7200000000000001\n",
      "h :  9.358490566037736\n",
      "m :  0.7200000000000001\n",
      "h :  9.459119496855346\n",
      "m :  0.6999999999999998\n",
      "h :  9.559748427672956\n",
      "m :  0.6999999999999998\n",
      "h :  9.660377358490567\n",
      "m :  0.6999999999999998\n",
      "h :  9.761006289308177\n",
      "m :  0.7133333333333333\n",
      "h :  9.861635220125788\n",
      "m :  0.6933333333333334\n",
      "h :  9.962264150943398\n",
      "m :  0.68\n",
      "h :  10.062893081761008\n",
      "m :  0.6666666666666666\n",
      "h :  10.163522012578618\n",
      "m :  0.68\n",
      "h :  10.264150943396228\n",
      "m :  0.6999999999999998\n",
      "h :  10.364779874213838\n",
      "m :  0.6933333333333334\n",
      "h :  10.465408805031448\n",
      "m :  0.6999999999999998\n",
      "h :  10.566037735849058\n",
      "m :  0.6999999999999998\n",
      "h :  10.666666666666668\n",
      "m :  0.6999999999999998\n",
      "h :  10.767295597484278\n",
      "m :  0.6866666666666666\n",
      "h :  10.867924528301888\n",
      "m :  0.6999999999999998\n",
      "h :  10.968553459119498\n",
      "m :  0.7133333333333333\n",
      "h :  11.069182389937108\n",
      "m :  0.9933333333333333\n",
      "h :  11.169811320754718\n",
      "m :  0.9933333333333333\n",
      "h :  11.270440251572328\n",
      "m :  0.9933333333333333\n",
      "h :  11.371069182389938\n",
      "m :  1.0\n",
      "h :  11.471698113207548\n",
      "m :  0.9933333333333333\n",
      "h :  11.572327044025158\n",
      "m :  0.9933333333333333\n",
      "h :  11.672955974842768\n",
      "m :  1.0\n",
      "h :  11.773584905660378\n",
      "m :  0.9866666666666667\n",
      "h :  11.874213836477988\n",
      "m :  0.98\n",
      "h :  11.974842767295598\n",
      "m :  1.0\n",
      "h :  12.075471698113208\n",
      "m :  0.98\n",
      "h :  12.176100628930818\n",
      "m :  0.9933333333333333\n",
      "h :  12.276729559748428\n",
      "m :  0.9933333333333333\n",
      "h :  12.377358490566039\n",
      "m :  0.9866666666666667\n",
      "h :  12.477987421383649\n",
      "m :  0.9933333333333333\n",
      "h :  12.578616352201259\n",
      "m :  1.0\n",
      "h :  12.679245283018869\n",
      "m :  1.0\n",
      "h :  12.779874213836479\n",
      "m :  0.9866666666666667\n",
      "h :  12.880503144654089\n",
      "m :  1.0\n",
      "h :  12.981132075471699\n",
      "m :  1.0\n",
      "h :  13.081761006289309\n",
      "m :  0.9933333333333333\n",
      "h :  13.182389937106919\n",
      "m :  0.9933333333333333\n",
      "h :  13.283018867924529\n",
      "m :  0.9933333333333333\n",
      "h :  13.383647798742139\n",
      "m :  1.0\n",
      "h :  13.484276729559749\n",
      "m :  0.9933333333333333\n",
      "h :  13.584905660377359\n",
      "m :  0.9866666666666667\n",
      "h :  13.685534591194969\n",
      "m :  0.9933333333333333\n",
      "h :  13.786163522012579\n",
      "m :  1.0\n",
      "h :  13.88679245283019\n",
      "m :  1.0\n",
      "h :  13.9874213836478\n",
      "m :  1.0\n",
      "h :  14.08805031446541\n",
      "m :  0.9933333333333333\n",
      "h :  14.18867924528302\n",
      "m :  1.0\n",
      "h :  14.28930817610063\n",
      "m :  0.9933333333333333\n",
      "h :  14.38993710691824\n",
      "m :  1.0\n",
      "h :  14.49056603773585\n",
      "m :  1.0\n",
      "h :  14.59119496855346\n",
      "m :  0.9933333333333333\n",
      "h :  14.69182389937107\n",
      "m :  0.9933333333333333\n",
      "h :  14.79245283018868\n",
      "m :  0.9866666666666667\n",
      "h :  14.89308176100629\n",
      "m :  0.9933333333333333\n",
      "h :  14.9937106918239\n",
      "m :  0.9933333333333333\n",
      "h :  15.09433962264151\n",
      "m :  0.9933333333333333\n",
      "h :  15.19496855345912\n",
      "m :  0.9933333333333333\n",
      "h :  15.29559748427673\n",
      "m :  1.0\n",
      "h :  15.39622641509434\n",
      "m :  0.9866666666666667\n",
      "h :  15.49685534591195\n",
      "m :  0.9933333333333333\n",
      "h :  15.59748427672956\n",
      "m :  0.9866666666666667\n",
      "h :  15.69811320754717\n",
      "m :  0.9933333333333333\n",
      "h :  15.79874213836478\n",
      "m :  1.0\n",
      "h :  15.89937106918239\n",
      "m :  0.9933333333333333\n",
      "h :  16.0\n",
      "m :  0.9933333333333333\n",
      "Wall time: 55min 9s\n"
     ]
    }
   ],
   "source": [
    "%%time\n",
    "h_hist = []\n",
    "m_hist = []\n",
    "spins = np.random.randint(0, 2, N_SPIN) - 0.5\n",
    "for h in np.linspace(0, 16, 160):\n",
    "    m = []\n",
    "    for i in range(3):\n",
    "        rand_idxs = np.random.randint(0, N_SPIN, N_FLIP)\n",
    "        # spins = np.random.randint(0, 2, N_SPIN) - 0.5\n",
    "        for idx in rand_idxs:\n",
    "            cur_energy = spin_hamiltonian(spins, interactions, b, h=h)\n",
    "            spins[idx] *= -1.\n",
    "            flip_energy = spin_hamiltonian(spins, interactions, b, h=h)\n",
    "\n",
    "            if flip_energy < cur_energy:\n",
    "                pass\n",
    "            elif 0.003 > np.random.rand():\n",
    "                pass\n",
    "            else:\n",
    "                spins[idx] *= -1.\n",
    "        m.append(abs(sum(spins))/(len(spins)*0.5))\n",
    "    print('h : ', h)\n",
    "    print('m : ', sum(m)/len(m))\n",
    "    h_hist.append(h)\n",
    "    m_hist.append(sum(m)/len(m))"
   ]
  },
  {
   "cell_type": "code",
   "execution_count": 108,
   "metadata": {},
   "outputs": [
    {
     "data": {
      "text/plain": [
       "[<matplotlib.lines.Line2D at 0x2694ef66e48>]"
      ]
     },
     "execution_count": 108,
     "metadata": {},
     "output_type": "execute_result"
    },
    {
     "data": {
      "image/png": "[encoded data removed]",
      "text/plain": [
       "<Figure size 432x288 with 1 Axes>"
      ]
     },
     "metadata": {},
     "output_type": "display_data"
    }
   ],
   "source": [
    "plt.xlabel('Magnetic Field')\n",
    "plt.ylabel('Magnetization')\n",
    "plt.plot(h_hist, m_hist)"
   ]
  },
  {
   "cell_type": "code",
   "execution_count": 111,
   "metadata": {},
   "outputs": [
    {
     "name": "stdout",
     "output_type": "stream",
     "text": [
      "h :  0.0\n",
      "m :  0.08\n",
      "h :  0.10062893081761007\n",
      "m :  0.05333333333333332\n",
      "h :  0.20125786163522014\n",
      "m :  0.08666666666666667\n",
      "h :  0.30188679245283023\n",
      "m :  0.09333333333333334\n",
      "h :  0.4025157232704403\n",
      "m :  0.02\n",
      "h :  0.5031446540880503\n",
      "m :  0.08\n",
      "h :  0.6037735849056605\n",
      "m :  0.06666666666666667\n",
      "h :  0.7044025157232705\n",
      "m :  0.04666666666666666\n",
      "h :  0.8050314465408805\n",
      "m :  0.06\n",
      "h :  0.9056603773584906\n",
      "m :  0.09333333333333334\n",
      "h :  1.0062893081761006\n",
      "m :  0.05333333333333334\n",
      "h :  1.1069182389937107\n",
      "m :  0.07333333333333333\n",
      "h :  1.207547169811321\n",
      "m :  0.08666666666666667\n",
      "h :  1.308176100628931\n",
      "m :  0.06666666666666667\n",
      "h :  1.408805031446541\n",
      "m :  0.05333333333333334\n",
      "h :  1.509433962264151\n",
      "m :  0.11333333333333333\n",
      "h :  1.610062893081761\n",
      "m :  0.04\n",
      "h :  1.7106918238993711\n",
      "m :  0.04\n",
      "h :  1.8113207547169812\n",
      "m :  0.1466666666666667\n",
      "h :  1.9119496855345912\n",
      "m :  0.04666666666666667\n",
      "h :  2.0125786163522013\n",
      "m :  0.08\n",
      "h :  2.1132075471698113\n",
      "m :  0.16\n",
      "h :  2.2138364779874213\n",
      "m :  0.15333333333333332\n",
      "h :  2.3144654088050314\n",
      "m :  0.04\n",
      "h :  2.415094339622642\n",
      "m :  0.18666666666666668\n",
      "h :  2.515723270440252\n",
      "m :  0.06666666666666667\n",
      "h :  2.616352201257862\n",
      "m :  0.08666666666666667\n",
      "h :  2.716981132075472\n",
      "m :  0.20666666666666667\n",
      "h :  2.817610062893082\n",
      "m :  0.08\n",
      "h :  2.918238993710692\n",
      "m :  0.14\n",
      "h :  3.018867924528302\n",
      "m :  0.14\n",
      "h :  3.119496855345912\n",
      "m :  0.11333333333333334\n",
      "h :  3.220125786163522\n",
      "m :  0.09333333333333334\n",
      "h :  3.3207547169811322\n",
      "m :  0.09333333333333332\n",
      "h :  3.4213836477987423\n",
      "m :  0.17333333333333334\n",
      "h :  3.5220125786163523\n",
      "m :  0.13333333333333333\n",
      "h :  3.6226415094339623\n",
      "m :  0.06666666666666667\n",
      "h :  3.7232704402515724\n",
      "m :  0.12\n",
      "h :  3.8238993710691824\n",
      "m :  0.09333333333333334\n",
      "h :  3.9245283018867925\n",
      "m :  0.10000000000000002\n",
      "h :  4.0251572327044025\n",
      "m :  0.12666666666666668\n",
      "h :  4.1257861635220126\n",
      "m :  0.16\n",
      "h :  4.226415094339623\n",
      "m :  0.16\n",
      "h :  4.327044025157233\n",
      "m :  0.17333333333333334\n",
      "h :  4.427672955974843\n",
      "m :  0.11333333333333334\n",
      "h :  4.528301886792453\n",
      "m :  0.19333333333333336\n",
      "h :  4.628930817610063\n",
      "m :  0.18666666666666665\n",
      "h :  4.729559748427673\n",
      "m :  0.15333333333333335\n",
      "h :  4.830188679245284\n",
      "m :  0.19999999999999998\n",
      "h :  4.930817610062894\n",
      "m :  0.13999999999999999\n",
      "h :  5.031446540880504\n",
      "m :  0.2733333333333334\n",
      "h :  5.132075471698114\n",
      "m :  0.16666666666666666\n",
      "h :  5.232704402515724\n",
      "m :  0.22\n",
      "h :  5.333333333333334\n",
      "m :  0.18000000000000002\n",
      "h :  5.433962264150944\n",
      "m :  0.18000000000000002\n",
      "h :  5.534591194968554\n",
      "m :  0.21333333333333335\n",
      "h :  5.635220125786164\n",
      "m :  0.2066666666666667\n",
      "h :  5.735849056603774\n",
      "m :  0.24666666666666667\n",
      "h :  5.836477987421384\n",
      "m :  0.32\n",
      "h :  5.937106918238994\n",
      "m :  0.25333333333333335\n",
      "h :  6.037735849056604\n",
      "m :  0.2466666666666667\n",
      "h :  6.138364779874214\n",
      "m :  0.24666666666666667\n",
      "h :  6.238993710691824\n",
      "m :  0.24666666666666667\n",
      "h :  6.339622641509434\n",
      "m :  0.09333333333333332\n",
      "h :  6.440251572327044\n",
      "m :  0.25333333333333335\n",
      "h :  6.540880503144654\n",
      "m :  0.28\n",
      "h :  6.6415094339622645\n",
      "m :  0.25333333333333335\n",
      "h :  6.7421383647798745\n",
      "m :  0.26666666666666666\n",
      "h :  6.8427672955974845\n",
      "m :  0.18000000000000002\n",
      "h :  6.943396226415095\n",
      "m :  0.2866666666666667\n",
      "h :  7.044025157232705\n",
      "m :  0.18666666666666668\n",
      "h :  7.144654088050315\n",
      "m :  0.26\n",
      "h :  7.245283018867925\n",
      "m :  0.21333333333333335\n",
      "h :  7.345911949685535\n",
      "m :  0.24000000000000002\n",
      "h :  7.446540880503145\n",
      "m :  0.24666666666666667\n",
      "h :  7.547169811320755\n",
      "m :  0.20000000000000004\n",
      "h :  7.647798742138365\n",
      "m :  0.30666666666666664\n",
      "h :  7.748427672955975\n",
      "m :  0.3066666666666667\n",
      "h :  7.849056603773585\n",
      "m :  0.32\n",
      "h :  7.949685534591195\n",
      "m :  0.2866666666666667\n",
      "h :  8.050314465408805\n",
      "m :  0.26\n",
      "h :  8.150943396226415\n",
      "m :  0.3\n",
      "h :  8.251572327044025\n",
      "m :  0.26\n",
      "h :  8.352201257861635\n",
      "m :  0.24666666666666667\n",
      "h :  8.452830188679245\n",
      "m :  0.30666666666666664\n",
      "h :  8.553459119496855\n",
      "m :  0.26\n",
      "h :  8.654088050314465\n",
      "m :  0.3133333333333333\n",
      "h :  8.754716981132075\n",
      "m :  0.3333333333333333\n",
      "h :  8.855345911949685\n",
      "m :  0.2733333333333333\n",
      "h :  8.955974842767295\n",
      "m :  0.32\n",
      "h :  9.056603773584905\n",
      "m :  0.3066666666666667\n",
      "h :  9.157232704402515\n",
      "m :  0.3\n",
      "h :  9.257861635220126\n",
      "m :  0.3466666666666667\n",
      "h :  9.358490566037736\n",
      "m :  0.3133333333333333\n",
      "h :  9.459119496855346\n",
      "m :  0.3466666666666667\n",
      "h :  9.559748427672956\n",
      "m :  0.31333333333333335\n",
      "h :  9.660377358490567\n",
      "m :  0.38666666666666666\n",
      "h :  9.761006289308177\n",
      "m :  0.34\n",
      "h :  9.861635220125788\n",
      "m :  0.3866666666666667\n",
      "h :  9.962264150943398\n",
      "m :  0.32\n",
      "h :  10.062893081761008\n",
      "m :  0.38000000000000006\n",
      "h :  10.163522012578618\n",
      "m :  0.3133333333333333\n",
      "h :  10.264150943396228\n",
      "m :  0.3333333333333333\n",
      "h :  10.364779874213838\n",
      "m :  0.3066666666666667\n",
      "h :  10.465408805031448\n",
      "m :  0.37333333333333335\n",
      "h :  10.566037735849058\n",
      "m :  0.39333333333333337\n",
      "h :  10.666666666666668\n",
      "m :  0.4466666666666667\n",
      "h :  10.767295597484278\n",
      "m :  0.41333333333333333\n",
      "h :  10.867924528301888\n",
      "m :  0.4000000000000001\n",
      "h :  10.968553459119498\n",
      "m :  0.39999999999999997\n",
      "h :  11.069182389937108\n",
      "m :  0.5\n",
      "h :  11.169811320754718\n",
      "m :  0.3466666666666667\n",
      "h :  11.270440251572328\n",
      "m :  0.4266666666666667\n",
      "h :  11.371069182389938\n",
      "m :  0.4266666666666667\n",
      "h :  11.471698113207548\n",
      "m :  0.34\n",
      "h :  11.572327044025158\n",
      "m :  0.3466666666666667\n",
      "h :  11.672955974842768\n",
      "m :  0.42\n",
      "h :  11.773584905660378\n",
      "m :  0.3866666666666667\n",
      "h :  11.874213836477988\n",
      "m :  0.44\n",
      "h :  11.974842767295598\n",
      "m :  0.36000000000000004\n",
      "h :  12.075471698113208\n",
      "m :  0.48666666666666664\n",
      "h :  12.176100628930818\n",
      "m :  0.4066666666666667\n",
      "h :  12.276729559748428\n",
      "m :  0.42\n",
      "h :  12.377358490566039\n",
      "m :  0.4533333333333333\n",
      "h :  12.477987421383649\n",
      "m :  0.41333333333333333\n",
      "h :  12.578616352201259\n",
      "m :  0.49333333333333335\n",
      "h :  12.679245283018869\n",
      "m :  0.4533333333333333\n",
      "h :  12.779874213836479\n",
      "m :  0.4666666666666666\n",
      "h :  12.880503144654089\n",
      "m :  0.49333333333333335\n",
      "h :  12.981132075471699\n",
      "m :  0.48\n",
      "h :  13.081761006289309\n",
      "m :  0.4533333333333333\n",
      "h :  13.182389937106919\n",
      "m :  0.52\n",
      "h :  13.283018867924529\n",
      "m :  0.44\n",
      "h :  13.383647798742139\n",
      "m :  0.4000000000000001\n",
      "h :  13.484276729559749\n",
      "m :  0.41333333333333333\n",
      "h :  13.584905660377359\n",
      "m :  0.5\n",
      "h :  13.685534591194969\n",
      "m :  0.46666666666666673\n",
      "h :  13.786163522012579\n",
      "m :  0.4533333333333333\n",
      "h :  13.88679245283019\n",
      "m :  0.41999999999999993\n",
      "h :  13.9874213836478\n",
      "m :  0.45333333333333337\n",
      "h :  14.08805031446541\n",
      "m :  0.5666666666666668\n",
      "h :  14.18867924528302\n",
      "m :  0.48\n",
      "h :  14.28930817610063\n",
      "m :  0.49333333333333335\n",
      "h :  14.38993710691824\n",
      "m :  0.47333333333333333\n",
      "h :  14.49056603773585\n",
      "m :  0.5733333333333334\n",
      "h :  14.59119496855346\n",
      "m :  0.5266666666666667\n",
      "h :  14.69182389937107\n",
      "m :  0.54\n",
      "h :  14.79245283018868\n",
      "m :  0.5066666666666667\n",
      "h :  14.89308176100629\n",
      "m :  0.5866666666666667\n",
      "h :  14.9937106918239\n",
      "m :  0.5333333333333333\n",
      "h :  15.09433962264151\n",
      "m :  0.5066666666666667\n",
      "h :  15.19496855345912\n",
      "m :  0.5533333333333333\n",
      "h :  15.29559748427673\n",
      "m :  0.5666666666666668\n",
      "h :  15.39622641509434\n",
      "m :  0.5733333333333334\n",
      "h :  15.49685534591195\n",
      "m :  0.5266666666666667\n",
      "h :  15.59748427672956\n",
      "m :  0.54\n",
      "h :  15.69811320754717\n",
      "m :  0.5533333333333333\n",
      "h :  15.79874213836478\n",
      "m :  0.5733333333333334\n",
      "h :  15.89937106918239\n",
      "m :  0.6000000000000001\n",
      "h :  16.0\n",
      "m :  0.62\n",
      "Wall time: 56min 15s\n"
     ]
    }
   ],
   "source": [
    "%%time\n",
    "\n",
    "T = 10\n",
    "\n",
    "h_hist = []\n",
    "m_hist = []\n",
    "spins = np.random.randint(0, 2, N_SPIN) - 0.5\n",
    "for h in np.linspace(0, 16, 160):\n",
    "    m = []\n",
    "    for i in range(3):\n",
    "        rand_idxs = np.random.randint(0, N_SPIN, N_FLIP)\n",
    "        # spins = np.random.randint(0, 2, N_SPIN) - 0.5\n",
    "        for idx in rand_idxs:\n",
    "            cur_energy = spin_hamiltonian(spins, interactions, b, h=h)\n",
    "            spins[idx] *= -1.\n",
    "            flip_energy = spin_hamiltonian(spins, interactions, b, h=h)\n",
    "\n",
    "            if min(1.0, np.exp(-(flip_energy-cur_energy)/T)) > np.random.rand():\n",
    "                pass\n",
    "            else:\n",
    "                spins[idx] *= -1.\n",
    "        m.append(abs(sum(spins))/(len(spins)*0.5))\n",
    "    print('h : ', h)\n",
    "    print('m : ', sum(m)/len(m))\n",
    "    h_hist.append(h)\n",
    "    m_hist.append(sum(m)/len(m))"
   ]
  },
  {
   "cell_type": "code",
   "execution_count": 112,
   "metadata": {},
   "outputs": [
    {
     "data": {
      "text/plain": [
       "[<matplotlib.lines.Line2D at 0x2694edbc400>]"
      ]
     },
     "execution_count": 112,
     "metadata": {},
     "output_type": "execute_result"
    },
    {
     "data": {
      "image/png": "[encoded data removed]",
      "text/plain": [
       "<Figure size 432x288 with 1 Axes>"
      ]
     },
     "metadata": {},
     "output_type": "display_data"
    }
   ],
   "source": [
    "plt.xlabel('Magnetic Field')\n",
    "plt.ylabel('Magnetization')\n",
    "plt.plot(h_hist, m_hist)"
   ]
  },
  {
   "cell_type": "code",
   "execution_count": 160,
   "metadata": {},
   "outputs": [],
   "source": [
    "T = 0.1"
   ]
  },
  {
   "cell_type": "code",
   "execution_count": 154,
   "metadata": {},
   "outputs": [],
   "source": [
    "def partition_func(spin_configurations, interactions, temperature, b, h=0.0):\n",
    "    z = 0.\n",
    "    for sc in spin_configurations:\n",
    "        energy = spin_hamiltonian(sc, interactions, b, h)\n",
    "        z += np.exp(-energy/temperature)\n",
    "    return z"
   ]
  },
  {
   "cell_type": "code",
   "execution_count": 155,
   "metadata": {},
   "outputs": [],
   "source": [
    "def mean_magnetization(spin_configurations, interactions, temperature, b, h=0.0):\n",
    "    z = partition_func(spin_configurations, interactions, temperature, b, h)\n",
    "    mean_m = 0.\n",
    "    for sc in spin_configurations:\n",
    "        m = abs(sum(sc))/(len(sc)*0.5)\n",
    "        energy = spin_hamiltonian(sc, interactions, b, h)\n",
    "        mean_m += m * np.exp(-energy/temperature)\n",
    "    return mean_m/z"
   ]
  },
  {
   "cell_type": "code",
   "execution_count": 156,
   "metadata": {},
   "outputs": [],
   "source": [
    "N_SPIN_CONFIGURATIONS = 1000"
   ]
  },
  {
   "cell_type": "code",
   "execution_count": 157,
   "metadata": {},
   "outputs": [],
   "source": [
    "spin_configurations = [np.random.randint(0, 2, N_SPIN) - 0.5 for _ in range(N_SPIN_CONFIGURATIONS)]"
   ]
  },
  {
   "cell_type": "code",
   "execution_count": 158,
   "metadata": {},
   "outputs": [
    {
     "data": {
      "text/plain": [
       "1.9045954286650212e+273"
      ]
     },
     "execution_count": 158,
     "metadata": {},
     "output_type": "execute_result"
    }
   ],
   "source": [
    "partition_func(spin_configurations, interactions, temperature=T, b=b, h=0.0)"
   ]
  },
  {
   "cell_type": "code",
   "execution_count": 159,
   "metadata": {},
   "outputs": [
    {
     "name": "stderr",
     "output_type": "stream",
     "text": [
      "c:\\users\\user\\appdata\\local\\programs\\python\\python35\\lib\\site-packages\\ipykernel_launcher.py:5: RuntimeWarning: overflow encountered in exp\n",
      "  \"\"\"\n",
      "c:\\users\\user\\appdata\\local\\programs\\python\\python35\\lib\\site-packages\\ipykernel_launcher.py:7: RuntimeWarning: overflow encountered in exp\n",
      "  import sys\n",
      "c:\\users\\user\\appdata\\local\\programs\\python\\python35\\lib\\site-packages\\ipykernel_launcher.py:8: RuntimeWarning: invalid value encountered in double_scalars\n",
      "  \n"
     ]
    },
    {
     "data": {
      "text/plain": [
       "nan"
      ]
     },
     "execution_count": 159,
     "metadata": {},
     "output_type": "execute_result"
    }
   ],
   "source": [
    "mean_magnetization(spin_configurations, interactions, temperature=T, b=b, h=30.0)"
   ]
  },
  {
   "cell_type": "code",
   "execution_count": 165,
   "metadata": {
    "scrolled": true
   },
   "outputs": [
    {
     "name": "stdout",
     "output_type": "stream",
     "text": [
      "h :  0\n",
      "m :  0.002883412059963551\n",
      "h :  1\n",
      "m :  0.030219476428239498\n",
      "h :  2\n",
      "m :  0.06323814451057268\n",
      "h :  3\n",
      "m :  0.11005264028477815\n",
      "h :  4\n",
      "m :  0.16332326786950646\n",
      "h :  5\n",
      "m :  0.2573008202592756\n",
      "h :  6\n",
      "m :  0.33330199227810625\n",
      "h :  7\n",
      "m :  0.33987782213647616\n",
      "h :  8\n",
      "m :  0.33999778992759827\n",
      "h :  9\n",
      "m :  0.3399999596205578\n",
      "h :  10\n",
      "m :  0.33999999926083285\n",
      "h :  11\n",
      "m :  0.33999999998646385\n",
      "h :  12\n",
      "m :  0.33999999999975206\n",
      "h :  13\n",
      "m :  0.3399999999999955\n",
      "h :  14\n",
      "m :  0.3399999999999999\n",
      "h :  15\n",
      "m :  0.34\n",
      "h :  16\n",
      "m :  0.34\n",
      "h :  17\n",
      "m :  0.34\n",
      "h :  18\n",
      "m :  0.34\n",
      "h :  19\n",
      "m :  0.34\n",
      "h :  20\n",
      "m :  0.34\n",
      "h :  21\n",
      "m :  0.34\n",
      "h :  22\n",
      "m :  0.34\n",
      "h :  23\n",
      "m :  0.34\n",
      "h :  24\n",
      "m :  0.34\n",
      "h :  25\n",
      "m :  0.34\n",
      "h :  26\n",
      "m :  0.34\n",
      "h :  27\n",
      "m :  0.34\n",
      "h :  28\n",
      "m :  0.34\n",
      "h :  29\n",
      "m :  0.34\n",
      "h :  30\n",
      "m :  0.34\n",
      "h :  31\n",
      "m :  0.34\n",
      "h :  32\n",
      "m :  0.34\n",
      "h :  33\n",
      "m :  0.34\n",
      "h :  34\n",
      "m :  0.34\n",
      "h :  35\n",
      "m :  0.34\n",
      "h :  36\n",
      "m :  0.34\n",
      "h :  37\n",
      "m :  0.34\n",
      "h :  38\n"
     ]
    },
    {
     "ename": "KeyboardInterrupt",
     "evalue": "",
     "output_type": "error",
     "traceback": [
      "\u001b[1;31m---------------------------------------------------------------------------\u001b[0m",
      "\u001b[1;31mKeyboardInterrupt\u001b[0m                         Traceback (most recent call last)",
      "\u001b[1;32m<ipython-input-165-277f19588d6f>\u001b[0m in \u001b[0;36m<module>\u001b[1;34m()\u001b[0m\n\u001b[0;32m      3\u001b[0m \u001b[1;32mfor\u001b[0m \u001b[0mh\u001b[0m \u001b[1;32min\u001b[0m \u001b[0mrange\u001b[0m\u001b[1;33m(\u001b[0m\u001b[1;36m100\u001b[0m\u001b[1;33m)\u001b[0m\u001b[1;33m:\u001b[0m\u001b[1;33m\u001b[0m\u001b[0m\n\u001b[0;32m      4\u001b[0m     \u001b[0mprint\u001b[0m\u001b[1;33m(\u001b[0m\u001b[1;34m'h : '\u001b[0m\u001b[1;33m,\u001b[0m \u001b[0mh\u001b[0m\u001b[1;33m)\u001b[0m\u001b[1;33m\u001b[0m\u001b[0m\n\u001b[1;32m----> 5\u001b[1;33m     \u001b[0mm\u001b[0m \u001b[1;33m=\u001b[0m \u001b[0mmean_magnetization\u001b[0m\u001b[1;33m(\u001b[0m\u001b[0mspin_configurations\u001b[0m\u001b[1;33m,\u001b[0m \u001b[0minteractions\u001b[0m\u001b[1;33m,\u001b[0m \u001b[0mtemperature\u001b[0m\u001b[1;33m=\u001b[0m\u001b[1;36m1\u001b[0m\u001b[1;33m,\u001b[0m \u001b[0mb\u001b[0m\u001b[1;33m=\u001b[0m\u001b[0mb\u001b[0m\u001b[1;33m,\u001b[0m \u001b[0mh\u001b[0m\u001b[1;33m=\u001b[0m\u001b[0mh\u001b[0m\u001b[1;33m)\u001b[0m\u001b[1;33m\u001b[0m\u001b[0m\n\u001b[0m\u001b[0;32m      6\u001b[0m     \u001b[0mprint\u001b[0m\u001b[1;33m(\u001b[0m\u001b[1;34m'm : '\u001b[0m\u001b[1;33m,\u001b[0m \u001b[0mm\u001b[0m\u001b[1;33m)\u001b[0m\u001b[1;33m\u001b[0m\u001b[0m\n\u001b[0;32m      7\u001b[0m     \u001b[0mh_hist\u001b[0m\u001b[1;33m.\u001b[0m\u001b[0mappend\u001b[0m\u001b[1;33m(\u001b[0m\u001b[0mh\u001b[0m\u001b[1;33m)\u001b[0m\u001b[1;33m\u001b[0m\u001b[0m\n",
      "\u001b[1;32m<ipython-input-155-ba3ed6c8dfac>\u001b[0m in \u001b[0;36mmean_magnetization\u001b[1;34m(spin_configurations, interactions, temperature, b, h)\u001b[0m\n\u001b[0;32m      4\u001b[0m     \u001b[1;32mfor\u001b[0m \u001b[0msc\u001b[0m \u001b[1;32min\u001b[0m \u001b[0mspin_configurations\u001b[0m\u001b[1;33m:\u001b[0m\u001b[1;33m\u001b[0m\u001b[0m\n\u001b[0;32m      5\u001b[0m         \u001b[0mm\u001b[0m \u001b[1;33m=\u001b[0m \u001b[0mabs\u001b[0m\u001b[1;33m(\u001b[0m\u001b[0msum\u001b[0m\u001b[1;33m(\u001b[0m\u001b[0msc\u001b[0m\u001b[1;33m)\u001b[0m\u001b[1;33m)\u001b[0m\u001b[1;33m/\u001b[0m\u001b[1;33m(\u001b[0m\u001b[0mlen\u001b[0m\u001b[1;33m(\u001b[0m\u001b[0msc\u001b[0m\u001b[1;33m)\u001b[0m\u001b[1;33m*\u001b[0m\u001b[1;36m0.5\u001b[0m\u001b[1;33m)\u001b[0m\u001b[1;33m\u001b[0m\u001b[0m\n\u001b[1;32m----> 6\u001b[1;33m         \u001b[0menergy\u001b[0m \u001b[1;33m=\u001b[0m \u001b[0mspin_hamiltonian\u001b[0m\u001b[1;33m(\u001b[0m\u001b[0msc\u001b[0m\u001b[1;33m,\u001b[0m \u001b[0minteractions\u001b[0m\u001b[1;33m,\u001b[0m \u001b[0mb\u001b[0m\u001b[1;33m,\u001b[0m \u001b[0mh\u001b[0m\u001b[1;33m)\u001b[0m\u001b[1;33m\u001b[0m\u001b[0m\n\u001b[0m\u001b[0;32m      7\u001b[0m         \u001b[0mmean_m\u001b[0m \u001b[1;33m+=\u001b[0m \u001b[0mm\u001b[0m \u001b[1;33m*\u001b[0m \u001b[0mnp\u001b[0m\u001b[1;33m.\u001b[0m\u001b[0mexp\u001b[0m\u001b[1;33m(\u001b[0m\u001b[1;33m-\u001b[0m\u001b[0menergy\u001b[0m\u001b[1;33m/\u001b[0m\u001b[0mtemperature\u001b[0m\u001b[1;33m)\u001b[0m\u001b[1;33m\u001b[0m\u001b[0m\n\u001b[0;32m      8\u001b[0m     \u001b[1;32mreturn\u001b[0m \u001b[0mmean_m\u001b[0m\u001b[1;33m/\u001b[0m\u001b[0mz\u001b[0m\u001b[1;33m\u001b[0m\u001b[0m\n",
      "\u001b[1;32m<ipython-input-104-afbec4df752e>\u001b[0m in \u001b[0;36mspin_hamiltonian\u001b[1;34m(spins, interactions, b, h)\u001b[0m\n\u001b[0;32m      5\u001b[0m         \u001b[1;32mfor\u001b[0m \u001b[0mrelative_no\u001b[0m\u001b[1;33m,\u001b[0m \u001b[0minteraction\u001b[0m \u001b[1;32min\u001b[0m \u001b[0minteractions\u001b[0m\u001b[1;33m[\u001b[0m\u001b[0mspin_no\u001b[0m\u001b[1;33m]\u001b[0m\u001b[1;33m.\u001b[0m\u001b[0mitems\u001b[0m\u001b[1;33m(\u001b[0m\u001b[1;33m)\u001b[0m\u001b[1;33m:\u001b[0m\u001b[1;33m\u001b[0m\u001b[0m\n\u001b[0;32m      6\u001b[0m             \u001b[0ms2\u001b[0m \u001b[1;33m=\u001b[0m \u001b[0mspins\u001b[0m\u001b[1;33m[\u001b[0m\u001b[1;33m(\u001b[0m\u001b[0mi\u001b[0m\u001b[1;33m+\u001b[0m\u001b[0mrelative_no\u001b[0m\u001b[1;33m)\u001b[0m\u001b[1;33m%\u001b[0m\u001b[0mN_SPIN\u001b[0m\u001b[1;33m]\u001b[0m\u001b[1;33m\u001b[0m\u001b[0m\n\u001b[1;32m----> 7\u001b[1;33m             \u001b[0menergy\u001b[0m \u001b[1;33m+=\u001b[0m \u001b[0minteraction\u001b[0m\u001b[1;33m*\u001b[0m\u001b[1;33m(\u001b[0m\u001b[0ms1\u001b[0m\u001b[1;33m*\u001b[0m\u001b[0ms2\u001b[0m \u001b[1;33m-\u001b[0m \u001b[0mb\u001b[0m\u001b[1;33m*\u001b[0m\u001b[0minteraction\u001b[0m\u001b[1;33m*\u001b[0m\u001b[1;33m(\u001b[0m\u001b[0ms1\u001b[0m\u001b[1;33m*\u001b[0m\u001b[0ms2\u001b[0m\u001b[1;33m)\u001b[0m\u001b[1;33m**\u001b[0m\u001b[1;36m2\u001b[0m\u001b[1;33m)\u001b[0m\u001b[1;33m\u001b[0m\u001b[0m\n\u001b[0m\u001b[0;32m      8\u001b[0m     \u001b[0menergy\u001b[0m \u001b[1;33m*=\u001b[0m \u001b[1;36m0.5\u001b[0m\u001b[1;33m\u001b[0m\u001b[0m\n\u001b[0;32m      9\u001b[0m \u001b[1;33m\u001b[0m\u001b[0m\n",
      "\u001b[1;31mKeyboardInterrupt\u001b[0m: "
     ]
    }
   ],
   "source": [
    "h_hist = []\n",
    "m_hist = []\n",
    "for h in range(100):\n",
    "    print('h : ', h)\n",
    "    m = mean_magnetization(spin_configurations, interactions, temperature=1, b=b, h=h)\n",
    "    print('m : ', m)\n",
    "    h_hist.append(h)\n",
    "    m_hist.append(m)"
   ]
  },
  {
   "cell_type": "code",
   "execution_count": 166,
   "metadata": {},
   "outputs": [
    {
     "data": {
      "text/plain": [
       "[<matplotlib.lines.Line2D at 0x2694f04ab70>]"
      ]
     },
     "execution_count": 166,
     "metadata": {},
     "output_type": "execute_result"
    },
    {
     "data": {
      "image/png": "[encoded data removed]",
      "text/plain": [
       "<Figure size 432x288 with 1 Axes>"
      ]
     },
     "metadata": {},
     "output_type": "display_data"
    }
   ],
   "source": [
    "plt.xlabel('Magnetic Field')\n",
    "plt.ylabel('Magnetization')\n",
    "plt.plot(h_hist, m_hist)"
   ]
  },
  {
   "cell_type": "code",
   "execution_count": null,
   "metadata": {},
   "outputs": [],
   "source": []
  },
  {
   "cell_type": "code",
   "execution_count": 167,
   "metadata": {},
   "outputs": [],
   "source": [
    "spin_configurations = [np.random.randint(0, 2, N_SPIN) - 0.5 for _ in range(N_SPIN_CONFIGURATIONS)]"
   ]
  },
  {
   "cell_type": "code",
   "execution_count": 168,
   "metadata": {},
   "outputs": [],
   "source": [
    "spin_configurations.append(np.ones(N_SPIN)-0.5)"
   ]
  },
  {
   "cell_type": "code",
   "execution_count": 169,
   "metadata": {},
   "outputs": [
    {
     "data": {
      "text/plain": [
       "array([0.5, 0.5, 0.5, 0.5, 0.5, 0.5, 0.5, 0.5, 0.5, 0.5, 0.5, 0.5, 0.5,\n",
       "       0.5, 0.5, 0.5, 0.5, 0.5, 0.5, 0.5, 0.5, 0.5, 0.5, 0.5, 0.5, 0.5,\n",
       "       0.5, 0.5, 0.5, 0.5, 0.5, 0.5, 0.5, 0.5, 0.5, 0.5, 0.5, 0.5, 0.5,\n",
       "       0.5, 0.5, 0.5, 0.5, 0.5, 0.5, 0.5, 0.5, 0.5, 0.5, 0.5, 0.5, 0.5,\n",
       "       0.5, 0.5, 0.5, 0.5, 0.5, 0.5, 0.5, 0.5, 0.5, 0.5, 0.5, 0.5, 0.5,\n",
       "       0.5, 0.5, 0.5, 0.5, 0.5, 0.5, 0.5, 0.5, 0.5, 0.5, 0.5, 0.5, 0.5,\n",
       "       0.5, 0.5, 0.5, 0.5, 0.5, 0.5, 0.5, 0.5, 0.5, 0.5, 0.5, 0.5, 0.5,\n",
       "       0.5, 0.5, 0.5, 0.5, 0.5, 0.5, 0.5, 0.5, 0.5])"
      ]
     },
     "execution_count": 169,
     "metadata": {},
     "output_type": "execute_result"
    }
   ],
   "source": [
    "spin_configurations[-1]"
   ]
  },
  {
   "cell_type": "code",
   "execution_count": 170,
   "metadata": {},
   "outputs": [
    {
     "name": "stdout",
     "output_type": "stream",
     "text": [
      "h :  0\n",
      "m :  0.03587370698944474\n",
      "h :  1\n",
      "m :  0.03939883082557348\n",
      "h :  2\n",
      "m :  0.05670906323084499\n",
      "h :  3\n",
      "m :  0.2201387789100562\n",
      "h :  4\n",
      "m :  0.2877957611413629\n",
      "h :  5\n",
      "m :  0.320300300593281\n",
      "h :  6\n",
      "m :  0.9999999999987219\n",
      "h :  7\n",
      "m :  1.0\n",
      "h :  8\n",
      "m :  1.0\n",
      "h :  9\n",
      "m :  1.0\n",
      "h :  10\n",
      "m :  1.0\n",
      "h :  11\n",
      "m :  1.0\n",
      "h :  12\n",
      "m :  1.0\n",
      "h :  13\n"
     ]
    },
    {
     "ename": "KeyboardInterrupt",
     "evalue": "",
     "output_type": "error",
     "traceback": [
      "\u001b[1;31m---------------------------------------------------------------------------\u001b[0m",
      "\u001b[1;31mKeyboardInterrupt\u001b[0m                         Traceback (most recent call last)",
      "\u001b[1;32m<ipython-input-170-277f19588d6f>\u001b[0m in \u001b[0;36m<module>\u001b[1;34m()\u001b[0m\n\u001b[0;32m      3\u001b[0m \u001b[1;32mfor\u001b[0m \u001b[0mh\u001b[0m \u001b[1;32min\u001b[0m \u001b[0mrange\u001b[0m\u001b[1;33m(\u001b[0m\u001b[1;36m100\u001b[0m\u001b[1;33m)\u001b[0m\u001b[1;33m:\u001b[0m\u001b[1;33m\u001b[0m\u001b[0m\n\u001b[0;32m      4\u001b[0m     \u001b[0mprint\u001b[0m\u001b[1;33m(\u001b[0m\u001b[1;34m'h : '\u001b[0m\u001b[1;33m,\u001b[0m \u001b[0mh\u001b[0m\u001b[1;33m)\u001b[0m\u001b[1;33m\u001b[0m\u001b[0m\n\u001b[1;32m----> 5\u001b[1;33m     \u001b[0mm\u001b[0m \u001b[1;33m=\u001b[0m \u001b[0mmean_magnetization\u001b[0m\u001b[1;33m(\u001b[0m\u001b[0mspin_configurations\u001b[0m\u001b[1;33m,\u001b[0m \u001b[0minteractions\u001b[0m\u001b[1;33m,\u001b[0m \u001b[0mtemperature\u001b[0m\u001b[1;33m=\u001b[0m\u001b[1;36m1\u001b[0m\u001b[1;33m,\u001b[0m \u001b[0mb\u001b[0m\u001b[1;33m=\u001b[0m\u001b[0mb\u001b[0m\u001b[1;33m,\u001b[0m \u001b[0mh\u001b[0m\u001b[1;33m=\u001b[0m\u001b[0mh\u001b[0m\u001b[1;33m)\u001b[0m\u001b[1;33m\u001b[0m\u001b[0m\n\u001b[0m\u001b[0;32m      6\u001b[0m     \u001b[0mprint\u001b[0m\u001b[1;33m(\u001b[0m\u001b[1;34m'm : '\u001b[0m\u001b[1;33m,\u001b[0m \u001b[0mm\u001b[0m\u001b[1;33m)\u001b[0m\u001b[1;33m\u001b[0m\u001b[0m\n\u001b[0;32m      7\u001b[0m     \u001b[0mh_hist\u001b[0m\u001b[1;33m.\u001b[0m\u001b[0mappend\u001b[0m\u001b[1;33m(\u001b[0m\u001b[0mh\u001b[0m\u001b[1;33m)\u001b[0m\u001b[1;33m\u001b[0m\u001b[0m\n",
      "\u001b[1;32m<ipython-input-155-ba3ed6c8dfac>\u001b[0m in \u001b[0;36mmean_magnetization\u001b[1;34m(spin_configurations, interactions, temperature, b, h)\u001b[0m\n\u001b[0;32m      1\u001b[0m \u001b[1;32mdef\u001b[0m \u001b[0mmean_magnetization\u001b[0m\u001b[1;33m(\u001b[0m\u001b[0mspin_configurations\u001b[0m\u001b[1;33m,\u001b[0m \u001b[0minteractions\u001b[0m\u001b[1;33m,\u001b[0m \u001b[0mtemperature\u001b[0m\u001b[1;33m,\u001b[0m \u001b[0mb\u001b[0m\u001b[1;33m,\u001b[0m \u001b[0mh\u001b[0m\u001b[1;33m=\u001b[0m\u001b[1;36m0.0\u001b[0m\u001b[1;33m)\u001b[0m\u001b[1;33m:\u001b[0m\u001b[1;33m\u001b[0m\u001b[0m\n\u001b[1;32m----> 2\u001b[1;33m     \u001b[0mz\u001b[0m \u001b[1;33m=\u001b[0m \u001b[0mpartition_func\u001b[0m\u001b[1;33m(\u001b[0m\u001b[0mspin_configurations\u001b[0m\u001b[1;33m,\u001b[0m \u001b[0minteractions\u001b[0m\u001b[1;33m,\u001b[0m \u001b[0mtemperature\u001b[0m\u001b[1;33m,\u001b[0m \u001b[0mb\u001b[0m\u001b[1;33m,\u001b[0m \u001b[0mh\u001b[0m\u001b[1;33m)\u001b[0m\u001b[1;33m\u001b[0m\u001b[0m\n\u001b[0m\u001b[0;32m      3\u001b[0m     \u001b[0mmean_m\u001b[0m \u001b[1;33m=\u001b[0m \u001b[1;36m0.\u001b[0m\u001b[1;33m\u001b[0m\u001b[0m\n\u001b[0;32m      4\u001b[0m     \u001b[1;32mfor\u001b[0m \u001b[0msc\u001b[0m \u001b[1;32min\u001b[0m \u001b[0mspin_configurations\u001b[0m\u001b[1;33m:\u001b[0m\u001b[1;33m\u001b[0m\u001b[0m\n\u001b[0;32m      5\u001b[0m         \u001b[0mm\u001b[0m \u001b[1;33m=\u001b[0m \u001b[0mabs\u001b[0m\u001b[1;33m(\u001b[0m\u001b[0msum\u001b[0m\u001b[1;33m(\u001b[0m\u001b[0msc\u001b[0m\u001b[1;33m)\u001b[0m\u001b[1;33m)\u001b[0m\u001b[1;33m/\u001b[0m\u001b[1;33m(\u001b[0m\u001b[0mlen\u001b[0m\u001b[1;33m(\u001b[0m\u001b[0msc\u001b[0m\u001b[1;33m)\u001b[0m\u001b[1;33m*\u001b[0m\u001b[1;36m0.5\u001b[0m\u001b[1;33m)\u001b[0m\u001b[1;33m\u001b[0m\u001b[0m\n",
      "\u001b[1;32m<ipython-input-154-a74c36136a29>\u001b[0m in \u001b[0;36mpartition_func\u001b[1;34m(spin_configurations, interactions, temperature, b, h)\u001b[0m\n\u001b[0;32m      2\u001b[0m     \u001b[0mz\u001b[0m \u001b[1;33m=\u001b[0m \u001b[1;36m0.\u001b[0m\u001b[1;33m\u001b[0m\u001b[0m\n\u001b[0;32m      3\u001b[0m     \u001b[1;32mfor\u001b[0m \u001b[0msc\u001b[0m \u001b[1;32min\u001b[0m \u001b[0mspin_configurations\u001b[0m\u001b[1;33m:\u001b[0m\u001b[1;33m\u001b[0m\u001b[0m\n\u001b[1;32m----> 4\u001b[1;33m         \u001b[0menergy\u001b[0m \u001b[1;33m=\u001b[0m \u001b[0mspin_hamiltonian\u001b[0m\u001b[1;33m(\u001b[0m\u001b[0msc\u001b[0m\u001b[1;33m,\u001b[0m \u001b[0minteractions\u001b[0m\u001b[1;33m,\u001b[0m \u001b[0mb\u001b[0m\u001b[1;33m,\u001b[0m \u001b[0mh\u001b[0m\u001b[1;33m)\u001b[0m\u001b[1;33m\u001b[0m\u001b[0m\n\u001b[0m\u001b[0;32m      5\u001b[0m         \u001b[0mz\u001b[0m \u001b[1;33m+=\u001b[0m \u001b[0mnp\u001b[0m\u001b[1;33m.\u001b[0m\u001b[0mexp\u001b[0m\u001b[1;33m(\u001b[0m\u001b[1;33m-\u001b[0m\u001b[0menergy\u001b[0m\u001b[1;33m/\u001b[0m\u001b[0mtemperature\u001b[0m\u001b[1;33m)\u001b[0m\u001b[1;33m\u001b[0m\u001b[0m\n\u001b[0;32m      6\u001b[0m     \u001b[1;32mreturn\u001b[0m \u001b[0mz\u001b[0m\u001b[1;33m\u001b[0m\u001b[0m\n",
      "\u001b[1;32m<ipython-input-104-afbec4df752e>\u001b[0m in \u001b[0;36mspin_hamiltonian\u001b[1;34m(spins, interactions, b, h)\u001b[0m\n\u001b[0;32m      5\u001b[0m         \u001b[1;32mfor\u001b[0m \u001b[0mrelative_no\u001b[0m\u001b[1;33m,\u001b[0m \u001b[0minteraction\u001b[0m \u001b[1;32min\u001b[0m \u001b[0minteractions\u001b[0m\u001b[1;33m[\u001b[0m\u001b[0mspin_no\u001b[0m\u001b[1;33m]\u001b[0m\u001b[1;33m.\u001b[0m\u001b[0mitems\u001b[0m\u001b[1;33m(\u001b[0m\u001b[1;33m)\u001b[0m\u001b[1;33m:\u001b[0m\u001b[1;33m\u001b[0m\u001b[0m\n\u001b[0;32m      6\u001b[0m             \u001b[0ms2\u001b[0m \u001b[1;33m=\u001b[0m \u001b[0mspins\u001b[0m\u001b[1;33m[\u001b[0m\u001b[1;33m(\u001b[0m\u001b[0mi\u001b[0m\u001b[1;33m+\u001b[0m\u001b[0mrelative_no\u001b[0m\u001b[1;33m)\u001b[0m\u001b[1;33m%\u001b[0m\u001b[0mN_SPIN\u001b[0m\u001b[1;33m]\u001b[0m\u001b[1;33m\u001b[0m\u001b[0m\n\u001b[1;32m----> 7\u001b[1;33m             \u001b[0menergy\u001b[0m \u001b[1;33m+=\u001b[0m \u001b[0minteraction\u001b[0m\u001b[1;33m*\u001b[0m\u001b[1;33m(\u001b[0m\u001b[0ms1\u001b[0m\u001b[1;33m*\u001b[0m\u001b[0ms2\u001b[0m \u001b[1;33m-\u001b[0m \u001b[0mb\u001b[0m\u001b[1;33m*\u001b[0m\u001b[0minteraction\u001b[0m\u001b[1;33m*\u001b[0m\u001b[1;33m(\u001b[0m\u001b[0ms1\u001b[0m\u001b[1;33m*\u001b[0m\u001b[0ms2\u001b[0m\u001b[1;33m)\u001b[0m\u001b[1;33m**\u001b[0m\u001b[1;36m2\u001b[0m\u001b[1;33m)\u001b[0m\u001b[1;33m\u001b[0m\u001b[0m\n\u001b[0m\u001b[0;32m      8\u001b[0m     \u001b[0menergy\u001b[0m \u001b[1;33m*=\u001b[0m \u001b[1;36m0.5\u001b[0m\u001b[1;33m\u001b[0m\u001b[0m\n\u001b[0;32m      9\u001b[0m \u001b[1;33m\u001b[0m\u001b[0m\n",
      "\u001b[1;31mKeyboardInterrupt\u001b[0m: "
     ]
    }
   ],
   "source": [
    "h_hist = []\n",
    "m_hist = []\n",
    "for h in range(100):\n",
    "    print('h : ', h)\n",
    "    m = mean_magnetization(spin_configurations, interactions, temperature=1, b=b, h=h)\n",
    "    print('m : ', m)\n",
    "    h_hist.append(h)\n",
    "    m_hist.append(m)"
   ]
  },
  {
   "cell_type": "code",
   "execution_count": 171,
   "metadata": {},
   "outputs": [
    {
     "data": {
      "text/plain": [
       "[<matplotlib.lines.Line2D at 0x2694f131b70>]"
      ]
     },
     "execution_count": 171,
     "metadata": {},
     "output_type": "execute_result"
    },
    {
     "data": {
      "image/png": "[encoded data removed]",
      "text/plain": [
       "<Figure size 432x288 with 1 Axes>"
      ]
     },
     "metadata": {},
     "output_type": "display_data"
    }
   ],
   "source": [
    "plt.xlabel('Magnetic Field')\n",
    "plt.ylabel('Magnetization')\n",
    "plt.plot(h_hist, m_hist)"
   ]
  },
  {
   "cell_type": "code",
   "execution_count": null,
   "metadata": {},
   "outputs": [],
   "source": []
  },
  {
   "cell_type": "code",
   "execution_count": 172,
   "metadata": {},
   "outputs": [],
   "source": [
    "N_SPIN_CONFIGURATIONS = 50000"
   ]
  },
  {
   "cell_type": "code",
   "execution_count": 173,
   "metadata": {},
   "outputs": [],
   "source": [
    "spin_configurations = [np.random.randint(0, 2, N_SPIN) - 0.5 for _ in range(N_SPIN_CONFIGURATIONS)]"
   ]
  },
  {
   "cell_type": "code",
   "execution_count": 174,
   "metadata": {},
   "outputs": [
    {
     "name": "stdout",
     "output_type": "stream",
     "text": [
      "h :  0\n",
      "m :  0.059945944589537115\n",
      "h :  1\n",
      "m :  0.0655577864750059\n",
      "h :  2\n",
      "m :  0.15193777039222334\n",
      "h :  3\n",
      "m :  0.16495130972969885\n",
      "h :  4\n",
      "m :  0.2698834617361824\n",
      "h :  5\n",
      "m :  0.30519691126077486\n",
      "h :  6\n",
      "m :  0.3302463408390741\n",
      "h :  7\n",
      "m :  0.35311749569734585\n",
      "h :  8\n",
      "m :  0.35811793231465266\n",
      "h :  9\n",
      "m :  0.36134658059383384\n",
      "h :  10\n",
      "m :  0.38500801572939886\n",
      "h :  11\n",
      "m :  0.4161548733949555\n",
      "h :  12\n",
      "m :  0.4197970108807088\n",
      "h :  13\n",
      "m :  0.4199898766634674\n",
      "h :  14\n",
      "m :  0.4199994961913379\n",
      "h :  15\n",
      "m :  0.41999997492183366\n",
      "h :  16\n",
      "m :  0.4199999987515261\n",
      "h :  17\n",
      "m :  0.41999999993784376\n",
      "h :  18\n",
      "m :  0.4199999999969055\n",
      "h :  19\n",
      "m :  0.41999999999984594\n",
      "h :  20\n",
      "m :  0.4199999999999923\n",
      "h :  21\n",
      "m :  0.4199999999999996\n",
      "h :  22\n",
      "m :  0.41999999999999993\n",
      "h :  23\n",
      "m :  0.42\n",
      "h :  24\n",
      "m :  0.42\n",
      "h :  25\n",
      "m :  0.42\n",
      "h :  26\n",
      "m :  0.41999999999999993\n",
      "h :  27\n",
      "m :  0.42\n",
      "h :  28\n",
      "m :  0.42\n",
      "h :  29\n"
     ]
    },
    {
     "ename": "KeyboardInterrupt",
     "evalue": "",
     "output_type": "error",
     "traceback": [
      "\u001b[1;31m---------------------------------------------------------------------------\u001b[0m",
      "\u001b[1;31mKeyboardInterrupt\u001b[0m                         Traceback (most recent call last)",
      "\u001b[1;32m<ipython-input-174-277f19588d6f>\u001b[0m in \u001b[0;36m<module>\u001b[1;34m()\u001b[0m\n\u001b[0;32m      3\u001b[0m \u001b[1;32mfor\u001b[0m \u001b[0mh\u001b[0m \u001b[1;32min\u001b[0m \u001b[0mrange\u001b[0m\u001b[1;33m(\u001b[0m\u001b[1;36m100\u001b[0m\u001b[1;33m)\u001b[0m\u001b[1;33m:\u001b[0m\u001b[1;33m\u001b[0m\u001b[0m\n\u001b[0;32m      4\u001b[0m     \u001b[0mprint\u001b[0m\u001b[1;33m(\u001b[0m\u001b[1;34m'h : '\u001b[0m\u001b[1;33m,\u001b[0m \u001b[0mh\u001b[0m\u001b[1;33m)\u001b[0m\u001b[1;33m\u001b[0m\u001b[0m\n\u001b[1;32m----> 5\u001b[1;33m     \u001b[0mm\u001b[0m \u001b[1;33m=\u001b[0m \u001b[0mmean_magnetization\u001b[0m\u001b[1;33m(\u001b[0m\u001b[0mspin_configurations\u001b[0m\u001b[1;33m,\u001b[0m \u001b[0minteractions\u001b[0m\u001b[1;33m,\u001b[0m \u001b[0mtemperature\u001b[0m\u001b[1;33m=\u001b[0m\u001b[1;36m1\u001b[0m\u001b[1;33m,\u001b[0m \u001b[0mb\u001b[0m\u001b[1;33m=\u001b[0m\u001b[0mb\u001b[0m\u001b[1;33m,\u001b[0m \u001b[0mh\u001b[0m\u001b[1;33m=\u001b[0m\u001b[0mh\u001b[0m\u001b[1;33m)\u001b[0m\u001b[1;33m\u001b[0m\u001b[0m\n\u001b[0m\u001b[0;32m      6\u001b[0m     \u001b[0mprint\u001b[0m\u001b[1;33m(\u001b[0m\u001b[1;34m'm : '\u001b[0m\u001b[1;33m,\u001b[0m \u001b[0mm\u001b[0m\u001b[1;33m)\u001b[0m\u001b[1;33m\u001b[0m\u001b[0m\n\u001b[0;32m      7\u001b[0m     \u001b[0mh_hist\u001b[0m\u001b[1;33m.\u001b[0m\u001b[0mappend\u001b[0m\u001b[1;33m(\u001b[0m\u001b[0mh\u001b[0m\u001b[1;33m)\u001b[0m\u001b[1;33m\u001b[0m\u001b[0m\n",
      "\u001b[1;32m<ipython-input-155-ba3ed6c8dfac>\u001b[0m in \u001b[0;36mmean_magnetization\u001b[1;34m(spin_configurations, interactions, temperature, b, h)\u001b[0m\n\u001b[0;32m      4\u001b[0m     \u001b[1;32mfor\u001b[0m \u001b[0msc\u001b[0m \u001b[1;32min\u001b[0m \u001b[0mspin_configurations\u001b[0m\u001b[1;33m:\u001b[0m\u001b[1;33m\u001b[0m\u001b[0m\n\u001b[0;32m      5\u001b[0m         \u001b[0mm\u001b[0m \u001b[1;33m=\u001b[0m \u001b[0mabs\u001b[0m\u001b[1;33m(\u001b[0m\u001b[0msum\u001b[0m\u001b[1;33m(\u001b[0m\u001b[0msc\u001b[0m\u001b[1;33m)\u001b[0m\u001b[1;33m)\u001b[0m\u001b[1;33m/\u001b[0m\u001b[1;33m(\u001b[0m\u001b[0mlen\u001b[0m\u001b[1;33m(\u001b[0m\u001b[0msc\u001b[0m\u001b[1;33m)\u001b[0m\u001b[1;33m*\u001b[0m\u001b[1;36m0.5\u001b[0m\u001b[1;33m)\u001b[0m\u001b[1;33m\u001b[0m\u001b[0m\n\u001b[1;32m----> 6\u001b[1;33m         \u001b[0menergy\u001b[0m \u001b[1;33m=\u001b[0m \u001b[0mspin_hamiltonian\u001b[0m\u001b[1;33m(\u001b[0m\u001b[0msc\u001b[0m\u001b[1;33m,\u001b[0m \u001b[0minteractions\u001b[0m\u001b[1;33m,\u001b[0m \u001b[0mb\u001b[0m\u001b[1;33m,\u001b[0m \u001b[0mh\u001b[0m\u001b[1;33m)\u001b[0m\u001b[1;33m\u001b[0m\u001b[0m\n\u001b[0m\u001b[0;32m      7\u001b[0m         \u001b[0mmean_m\u001b[0m \u001b[1;33m+=\u001b[0m \u001b[0mm\u001b[0m \u001b[1;33m*\u001b[0m \u001b[0mnp\u001b[0m\u001b[1;33m.\u001b[0m\u001b[0mexp\u001b[0m\u001b[1;33m(\u001b[0m\u001b[1;33m-\u001b[0m\u001b[0menergy\u001b[0m\u001b[1;33m/\u001b[0m\u001b[0mtemperature\u001b[0m\u001b[1;33m)\u001b[0m\u001b[1;33m\u001b[0m\u001b[0m\n\u001b[0;32m      8\u001b[0m     \u001b[1;32mreturn\u001b[0m \u001b[0mmean_m\u001b[0m\u001b[1;33m/\u001b[0m\u001b[0mz\u001b[0m\u001b[1;33m\u001b[0m\u001b[0m\n",
      "\u001b[1;32m<ipython-input-104-afbec4df752e>\u001b[0m in \u001b[0;36mspin_hamiltonian\u001b[1;34m(spins, interactions, b, h)\u001b[0m\n\u001b[0;32m      5\u001b[0m         \u001b[1;32mfor\u001b[0m \u001b[0mrelative_no\u001b[0m\u001b[1;33m,\u001b[0m \u001b[0minteraction\u001b[0m \u001b[1;32min\u001b[0m \u001b[0minteractions\u001b[0m\u001b[1;33m[\u001b[0m\u001b[0mspin_no\u001b[0m\u001b[1;33m]\u001b[0m\u001b[1;33m.\u001b[0m\u001b[0mitems\u001b[0m\u001b[1;33m(\u001b[0m\u001b[1;33m)\u001b[0m\u001b[1;33m:\u001b[0m\u001b[1;33m\u001b[0m\u001b[0m\n\u001b[0;32m      6\u001b[0m             \u001b[0ms2\u001b[0m \u001b[1;33m=\u001b[0m \u001b[0mspins\u001b[0m\u001b[1;33m[\u001b[0m\u001b[1;33m(\u001b[0m\u001b[0mi\u001b[0m\u001b[1;33m+\u001b[0m\u001b[0mrelative_no\u001b[0m\u001b[1;33m)\u001b[0m\u001b[1;33m%\u001b[0m\u001b[0mN_SPIN\u001b[0m\u001b[1;33m]\u001b[0m\u001b[1;33m\u001b[0m\u001b[0m\n\u001b[1;32m----> 7\u001b[1;33m             \u001b[0menergy\u001b[0m \u001b[1;33m+=\u001b[0m \u001b[0minteraction\u001b[0m\u001b[1;33m*\u001b[0m\u001b[1;33m(\u001b[0m\u001b[0ms1\u001b[0m\u001b[1;33m*\u001b[0m\u001b[0ms2\u001b[0m \u001b[1;33m-\u001b[0m \u001b[0mb\u001b[0m\u001b[1;33m*\u001b[0m\u001b[0minteraction\u001b[0m\u001b[1;33m*\u001b[0m\u001b[1;33m(\u001b[0m\u001b[0ms1\u001b[0m\u001b[1;33m*\u001b[0m\u001b[0ms2\u001b[0m\u001b[1;33m)\u001b[0m\u001b[1;33m**\u001b[0m\u001b[1;36m2\u001b[0m\u001b[1;33m)\u001b[0m\u001b[1;33m\u001b[0m\u001b[0m\n\u001b[0m\u001b[0;32m      8\u001b[0m     \u001b[0menergy\u001b[0m \u001b[1;33m*=\u001b[0m \u001b[1;36m0.5\u001b[0m\u001b[1;33m\u001b[0m\u001b[0m\n\u001b[0;32m      9\u001b[0m \u001b[1;33m\u001b[0m\u001b[0m\n",
      "\u001b[1;31mKeyboardInterrupt\u001b[0m: "
     ]
    }
   ],
   "source": [
    "h_hist = []\n",
    "m_hist = []\n",
    "for h in range(100):\n",
    "    print('h : ', h)\n",
    "    m = mean_magnetization(spin_configurations, interactions, temperature=1, b=b, h=h)\n",
    "    print('m : ', m)\n",
    "    h_hist.append(h)\n",
    "    m_hist.append(m)"
   ]
  },
  {
   "cell_type": "code",
   "execution_count": 175,
   "metadata": {},
   "outputs": [
    {
     "data": {
      "text/plain": [
       "[<matplotlib.lines.Line2D at 0x2694f131ba8>]"
      ]
     },
     "execution_count": 175,
     "metadata": {},
     "output_type": "execute_result"
    },
    {
     "data": {
      "image/png": "[encoded data removed]",
      "text/plain": [
       "<Figure size 432x288 with 1 Axes>"
      ]
     },
     "metadata": {},
     "output_type": "display_data"
    }
   ],
   "source": [
    "plt.xlabel('Magnetic Field')\n",
    "plt.ylabel('Magnetization')\n",
    "plt.plot(h_hist, m_hist)"
   ]
  },
  {
   "cell_type": "code",
   "execution_count": null,
   "metadata": {},
   "outputs": [],
   "source": []
  },
  {
   "cell_type": "code",
   "execution_count": 176,
   "metadata": {},
   "outputs": [],
   "source": [
    "spin_configurations.append(np.ones(N_SPIN)-0.5)"
   ]
  },
  {
   "cell_type": "code",
   "execution_count": 177,
   "metadata": {},
   "outputs": [
    {
     "name": "stdout",
     "output_type": "stream",
     "text": [
      "h :  0\n",
      "m :  0.059945944589537115\n",
      "h :  1\n",
      "m :  0.0655577864750059\n",
      "h :  2\n",
      "m :  0.15193777039222334\n",
      "h :  3\n",
      "m :  0.16495130972969885\n",
      "h :  4\n",
      "m :  0.2698834617361824\n",
      "h :  5\n",
      "m :  0.3051969113642761\n",
      "h :  6\n",
      "m :  0.99999384542837\n",
      "h :  7\n",
      "m :  1.0\n",
      "h :  8\n"
     ]
    },
    {
     "ename": "KeyboardInterrupt",
     "evalue": "",
     "output_type": "error",
     "traceback": [
      "\u001b[1;31m---------------------------------------------------------------------------\u001b[0m",
      "\u001b[1;31mKeyboardInterrupt\u001b[0m                         Traceback (most recent call last)",
      "\u001b[1;32m<ipython-input-177-277f19588d6f>\u001b[0m in \u001b[0;36m<module>\u001b[1;34m()\u001b[0m\n\u001b[0;32m      3\u001b[0m \u001b[1;32mfor\u001b[0m \u001b[0mh\u001b[0m \u001b[1;32min\u001b[0m \u001b[0mrange\u001b[0m\u001b[1;33m(\u001b[0m\u001b[1;36m100\u001b[0m\u001b[1;33m)\u001b[0m\u001b[1;33m:\u001b[0m\u001b[1;33m\u001b[0m\u001b[0m\n\u001b[0;32m      4\u001b[0m     \u001b[0mprint\u001b[0m\u001b[1;33m(\u001b[0m\u001b[1;34m'h : '\u001b[0m\u001b[1;33m,\u001b[0m \u001b[0mh\u001b[0m\u001b[1;33m)\u001b[0m\u001b[1;33m\u001b[0m\u001b[0m\n\u001b[1;32m----> 5\u001b[1;33m     \u001b[0mm\u001b[0m \u001b[1;33m=\u001b[0m \u001b[0mmean_magnetization\u001b[0m\u001b[1;33m(\u001b[0m\u001b[0mspin_configurations\u001b[0m\u001b[1;33m,\u001b[0m \u001b[0minteractions\u001b[0m\u001b[1;33m,\u001b[0m \u001b[0mtemperature\u001b[0m\u001b[1;33m=\u001b[0m\u001b[1;36m1\u001b[0m\u001b[1;33m,\u001b[0m \u001b[0mb\u001b[0m\u001b[1;33m=\u001b[0m\u001b[0mb\u001b[0m\u001b[1;33m,\u001b[0m \u001b[0mh\u001b[0m\u001b[1;33m=\u001b[0m\u001b[0mh\u001b[0m\u001b[1;33m)\u001b[0m\u001b[1;33m\u001b[0m\u001b[0m\n\u001b[0m\u001b[0;32m      6\u001b[0m     \u001b[0mprint\u001b[0m\u001b[1;33m(\u001b[0m\u001b[1;34m'm : '\u001b[0m\u001b[1;33m,\u001b[0m \u001b[0mm\u001b[0m\u001b[1;33m)\u001b[0m\u001b[1;33m\u001b[0m\u001b[0m\n\u001b[0;32m      7\u001b[0m     \u001b[0mh_hist\u001b[0m\u001b[1;33m.\u001b[0m\u001b[0mappend\u001b[0m\u001b[1;33m(\u001b[0m\u001b[0mh\u001b[0m\u001b[1;33m)\u001b[0m\u001b[1;33m\u001b[0m\u001b[0m\n",
      "\u001b[1;32m<ipython-input-155-ba3ed6c8dfac>\u001b[0m in \u001b[0;36mmean_magnetization\u001b[1;34m(spin_configurations, interactions, temperature, b, h)\u001b[0m\n\u001b[0;32m      1\u001b[0m \u001b[1;32mdef\u001b[0m \u001b[0mmean_magnetization\u001b[0m\u001b[1;33m(\u001b[0m\u001b[0mspin_configurations\u001b[0m\u001b[1;33m,\u001b[0m \u001b[0minteractions\u001b[0m\u001b[1;33m,\u001b[0m \u001b[0mtemperature\u001b[0m\u001b[1;33m,\u001b[0m \u001b[0mb\u001b[0m\u001b[1;33m,\u001b[0m \u001b[0mh\u001b[0m\u001b[1;33m=\u001b[0m\u001b[1;36m0.0\u001b[0m\u001b[1;33m)\u001b[0m\u001b[1;33m:\u001b[0m\u001b[1;33m\u001b[0m\u001b[0m\n\u001b[1;32m----> 2\u001b[1;33m     \u001b[0mz\u001b[0m \u001b[1;33m=\u001b[0m \u001b[0mpartition_func\u001b[0m\u001b[1;33m(\u001b[0m\u001b[0mspin_configurations\u001b[0m\u001b[1;33m,\u001b[0m \u001b[0minteractions\u001b[0m\u001b[1;33m,\u001b[0m \u001b[0mtemperature\u001b[0m\u001b[1;33m,\u001b[0m \u001b[0mb\u001b[0m\u001b[1;33m,\u001b[0m \u001b[0mh\u001b[0m\u001b[1;33m)\u001b[0m\u001b[1;33m\u001b[0m\u001b[0m\n\u001b[0m\u001b[0;32m      3\u001b[0m     \u001b[0mmean_m\u001b[0m \u001b[1;33m=\u001b[0m \u001b[1;36m0.\u001b[0m\u001b[1;33m\u001b[0m\u001b[0m\n\u001b[0;32m      4\u001b[0m     \u001b[1;32mfor\u001b[0m \u001b[0msc\u001b[0m \u001b[1;32min\u001b[0m \u001b[0mspin_configurations\u001b[0m\u001b[1;33m:\u001b[0m\u001b[1;33m\u001b[0m\u001b[0m\n\u001b[0;32m      5\u001b[0m         \u001b[0mm\u001b[0m \u001b[1;33m=\u001b[0m \u001b[0mabs\u001b[0m\u001b[1;33m(\u001b[0m\u001b[0msum\u001b[0m\u001b[1;33m(\u001b[0m\u001b[0msc\u001b[0m\u001b[1;33m)\u001b[0m\u001b[1;33m)\u001b[0m\u001b[1;33m/\u001b[0m\u001b[1;33m(\u001b[0m\u001b[0mlen\u001b[0m\u001b[1;33m(\u001b[0m\u001b[0msc\u001b[0m\u001b[1;33m)\u001b[0m\u001b[1;33m*\u001b[0m\u001b[1;36m0.5\u001b[0m\u001b[1;33m)\u001b[0m\u001b[1;33m\u001b[0m\u001b[0m\n",
      "\u001b[1;32m<ipython-input-154-a74c36136a29>\u001b[0m in \u001b[0;36mpartition_func\u001b[1;34m(spin_configurations, interactions, temperature, b, h)\u001b[0m\n\u001b[0;32m      2\u001b[0m     \u001b[0mz\u001b[0m \u001b[1;33m=\u001b[0m \u001b[1;36m0.\u001b[0m\u001b[1;33m\u001b[0m\u001b[0m\n\u001b[0;32m      3\u001b[0m     \u001b[1;32mfor\u001b[0m \u001b[0msc\u001b[0m \u001b[1;32min\u001b[0m \u001b[0mspin_configurations\u001b[0m\u001b[1;33m:\u001b[0m\u001b[1;33m\u001b[0m\u001b[0m\n\u001b[1;32m----> 4\u001b[1;33m         \u001b[0menergy\u001b[0m \u001b[1;33m=\u001b[0m \u001b[0mspin_hamiltonian\u001b[0m\u001b[1;33m(\u001b[0m\u001b[0msc\u001b[0m\u001b[1;33m,\u001b[0m \u001b[0minteractions\u001b[0m\u001b[1;33m,\u001b[0m \u001b[0mb\u001b[0m\u001b[1;33m,\u001b[0m \u001b[0mh\u001b[0m\u001b[1;33m)\u001b[0m\u001b[1;33m\u001b[0m\u001b[0m\n\u001b[0m\u001b[0;32m      5\u001b[0m         \u001b[0mz\u001b[0m \u001b[1;33m+=\u001b[0m \u001b[0mnp\u001b[0m\u001b[1;33m.\u001b[0m\u001b[0mexp\u001b[0m\u001b[1;33m(\u001b[0m\u001b[1;33m-\u001b[0m\u001b[0menergy\u001b[0m\u001b[1;33m/\u001b[0m\u001b[0mtemperature\u001b[0m\u001b[1;33m)\u001b[0m\u001b[1;33m\u001b[0m\u001b[0m\n\u001b[0;32m      6\u001b[0m     \u001b[1;32mreturn\u001b[0m \u001b[0mz\u001b[0m\u001b[1;33m\u001b[0m\u001b[0m\n",
      "\u001b[1;32m<ipython-input-104-afbec4df752e>\u001b[0m in \u001b[0;36mspin_hamiltonian\u001b[1;34m(spins, interactions, b, h)\u001b[0m\n\u001b[0;32m      5\u001b[0m         \u001b[1;32mfor\u001b[0m \u001b[0mrelative_no\u001b[0m\u001b[1;33m,\u001b[0m \u001b[0minteraction\u001b[0m \u001b[1;32min\u001b[0m \u001b[0minteractions\u001b[0m\u001b[1;33m[\u001b[0m\u001b[0mspin_no\u001b[0m\u001b[1;33m]\u001b[0m\u001b[1;33m.\u001b[0m\u001b[0mitems\u001b[0m\u001b[1;33m(\u001b[0m\u001b[1;33m)\u001b[0m\u001b[1;33m:\u001b[0m\u001b[1;33m\u001b[0m\u001b[0m\n\u001b[0;32m      6\u001b[0m             \u001b[0ms2\u001b[0m \u001b[1;33m=\u001b[0m \u001b[0mspins\u001b[0m\u001b[1;33m[\u001b[0m\u001b[1;33m(\u001b[0m\u001b[0mi\u001b[0m\u001b[1;33m+\u001b[0m\u001b[0mrelative_no\u001b[0m\u001b[1;33m)\u001b[0m\u001b[1;33m%\u001b[0m\u001b[0mN_SPIN\u001b[0m\u001b[1;33m]\u001b[0m\u001b[1;33m\u001b[0m\u001b[0m\n\u001b[1;32m----> 7\u001b[1;33m             \u001b[0menergy\u001b[0m \u001b[1;33m+=\u001b[0m \u001b[0minteraction\u001b[0m\u001b[1;33m*\u001b[0m\u001b[1;33m(\u001b[0m\u001b[0ms1\u001b[0m\u001b[1;33m*\u001b[0m\u001b[0ms2\u001b[0m \u001b[1;33m-\u001b[0m \u001b[0mb\u001b[0m\u001b[1;33m*\u001b[0m\u001b[0minteraction\u001b[0m\u001b[1;33m*\u001b[0m\u001b[1;33m(\u001b[0m\u001b[0ms1\u001b[0m\u001b[1;33m*\u001b[0m\u001b[0ms2\u001b[0m\u001b[1;33m)\u001b[0m\u001b[1;33m**\u001b[0m\u001b[1;36m2\u001b[0m\u001b[1;33m)\u001b[0m\u001b[1;33m\u001b[0m\u001b[0m\n\u001b[0m\u001b[0;32m      8\u001b[0m     \u001b[0menergy\u001b[0m \u001b[1;33m*=\u001b[0m \u001b[1;36m0.5\u001b[0m\u001b[1;33m\u001b[0m\u001b[0m\n\u001b[0;32m      9\u001b[0m \u001b[1;33m\u001b[0m\u001b[0m\n",
      "\u001b[1;31mKeyboardInterrupt\u001b[0m: "
     ]
    }
   ],
   "source": [
    "h_hist = []\n",
    "m_hist = []\n",
    "for h in range(100):\n",
    "    print('h : ', h)\n",
    "    m = mean_magnetization(spin_configurations, interactions, temperature=1, b=b, h=h)\n",
    "    print('m : ', m)\n",
    "    h_hist.append(h)\n",
    "    m_hist.append(m)"
   ]
  },
  {
   "cell_type": "code",
   "execution_count": 178,
   "metadata": {},
   "outputs": [
    {
     "data": {
      "text/plain": [
       "[<matplotlib.lines.Line2D at 0x26953476710>]"
      ]
     },
     "execution_count": 178,
     "metadata": {},
     "output_type": "execute_result"
    },
    {
     "data": {
      "image/png": "[encoded data removed]",
      "text/plain": [
       "<Figure size 432x288 with 1 Axes>"
      ]
     },
     "metadata": {},
     "output_type": "display_data"
    }
   ],
   "source": [
    "plt.xlabel('Magnetic Field')\n",
    "plt.ylabel('Magnetization')\n",
    "plt.plot(h_hist, m_hist)"
   ]
  },
  {
   "cell_type": "code",
   "execution_count": null,
   "metadata": {},
   "outputs": [],
   "source": []
  },
  {
   "cell_type": "code",
   "execution_count": 181,
   "metadata": {},
   "outputs": [
    {
     "data": {
      "text/plain": [
       "(array([1.1772e+04, 7.4370e+03, 6.6470e+03, 5.8720e+03, 8.7360e+03,\n",
       "        2.9400e+03, 2.2310e+03, 1.5970e+03, 1.7800e+03, 4.2300e+02,\n",
       "        2.5900e+02, 2.3200e+02, 3.4000e+01, 2.4000e+01, 9.0000e+00,\n",
       "        4.0000e+00, 2.0000e+00, 0.0000e+00, 1.0000e+00, 0.0000e+00,\n",
       "        0.0000e+00, 0.0000e+00, 0.0000e+00, 0.0000e+00, 0.0000e+00,\n",
       "        0.0000e+00, 0.0000e+00, 0.0000e+00, 0.0000e+00, 0.0000e+00,\n",
       "        0.0000e+00, 0.0000e+00, 0.0000e+00, 0.0000e+00, 0.0000e+00,\n",
       "        0.0000e+00, 0.0000e+00, 0.0000e+00, 0.0000e+00, 1.0000e+00]),\n",
       " array([0.   , 0.025, 0.05 , 0.075, 0.1  , 0.125, 0.15 , 0.175, 0.2  ,\n",
       "        0.225, 0.25 , 0.275, 0.3  , 0.325, 0.35 , 0.375, 0.4  , 0.425,\n",
       "        0.45 , 0.475, 0.5  , 0.525, 0.55 , 0.575, 0.6  , 0.625, 0.65 ,\n",
       "        0.675, 0.7  , 0.725, 0.75 , 0.775, 0.8  , 0.825, 0.85 , 0.875,\n",
       "        0.9  , 0.925, 0.95 , 0.975, 1.   ]),\n",
       " <a list of 40 Patch objects>)"
      ]
     },
     "execution_count": 181,
     "metadata": {},
     "output_type": "execute_result"
    },
    {
     "data": {
      "image/png": "[encoded data removed]",
      "text/plain": [
       "<Figure size 432x288 with 1 Axes>"
      ]
     },
     "metadata": {},
     "output_type": "display_data"
    }
   ],
   "source": [
    "m = []\n",
    "for sc in spin_configurations:\n",
    "    m.append(abs(sum(sc))/(len(sc)*0.5))\n",
    "plt.hist(m, bins=40)"
   ]
  },
  {
   "cell_type": "code",
   "execution_count": 183,
   "metadata": {},
   "outputs": [
    {
     "name": "stdout",
     "output_type": "stream",
     "text": [
      "1000\n"
     ]
    },
    {
     "data": {
      "image/png": "[encoded data removed]",
      "text/plain": [
       "<Figure size 432x288 with 1 Axes>"
      ]
     },
     "metadata": {},
     "output_type": "display_data"
    },
    {
     "name": "stdout",
     "output_type": "stream",
     "text": [
      "10000\n"
     ]
    },
    {
     "data": {
      "image/png": "[encoded data removed]",
      "text/plain": [
       "<Figure size 432x288 with 1 Axes>"
      ]
     },
     "metadata": {},
     "output_type": "display_data"
    },
    {
     "name": "stdout",
     "output_type": "stream",
     "text": [
      "100000\n"
     ]
    },
    {
     "data": {
      "image/png": "[encoded data removed]",
      "text/plain": [
       "<Figure size 432x288 with 1 Axes>"
      ]
     },
     "metadata": {},
     "output_type": "display_data"
    },
    {
     "name": "stdout",
     "output_type": "stream",
     "text": [
      "500000\n"
     ]
    },
    {
     "data": {
      "image/png": "[encoded data removed]",
      "text/plain": [
       "<Figure size 432x288 with 1 Axes>"
      ]
     },
     "metadata": {},
     "output_type": "display_data"
    },
    {
     "name": "stdout",
     "output_type": "stream",
     "text": [
      "1000000\n"
     ]
    },
    {
     "data": {
      "image/png": "[encoded data removed]",
      "text/plain": [
       "<Figure size 432x288 with 1 Axes>"
      ]
     },
     "metadata": {},
     "output_type": "display_data"
    }
   ],
   "source": [
    "for n in (1000, 10000, 100000, 500000, 1000000):\n",
    "    print(n)\n",
    "    spin_configurations = [np.random.randint(0, 2, N_SPIN) - 0.5 for _ in range(n)]\n",
    "    m = []\n",
    "    for sc in spin_configurations:\n",
    "        m.append(abs(sum(sc))/(len(sc)*0.5))\n",
    "    plt.xlim([0,1])\n",
    "    plt.hist(m, bins=40)\n",
    "    plt.show()"
   ]
  },
  {
   "cell_type": "code",
   "execution_count": null,
   "metadata": {},
   "outputs": [],
   "source": []
  },
  {
   "cell_type": "code",
   "execution_count": 21,
   "metadata": {},
   "outputs": [],
   "source": [
    "J = 5.0*np.random.rand(7)"
   ]
  },
  {
   "cell_type": "code",
   "execution_count": 22,
   "metadata": {},
   "outputs": [
    {
     "data": {
      "text/plain": [
       "array([0.21136733, 2.42065159, 0.1273134 , 1.2195474 , 4.54583879,\n",
       "       1.25806279, 1.87964668])"
      ]
     },
     "execution_count": 22,
     "metadata": {},
     "output_type": "execute_result"
    }
   ],
   "source": [
    "J"
   ]
  },
  {
   "cell_type": "code",
   "execution_count": 25,
   "metadata": {},
   "outputs": [],
   "source": [
    "def calc_magnetization(interactions, b, h_range=np.linspace(0, 16, 160)):\n",
    "    h_hist = []\n",
    "    m_hist = []\n",
    "    spins = np.random.randint(0, 2, N_SPIN) - 0.5\n",
    "    #for h in np.linspace(0, 16, 160):\n",
    "    for h in h_range:\n",
    "        m = []\n",
    "        for i in range(3):\n",
    "            rand_idxs = np.random.randint(0, N_SPIN, N_FLIP)\n",
    "            # spins = np.random.randint(0, 2, N_SPIN) - 0.5\n",
    "            for idx in rand_idxs:\n",
    "                cur_energy = spin_hamiltonian(spins, interactions, b, h=h)\n",
    "                spins[idx] *= -1.\n",
    "                flip_energy = spin_hamiltonian(spins, interactions, b, h=h)\n",
    "\n",
    "                if flip_energy < cur_energy:\n",
    "                    pass\n",
    "                elif 0.003 > np.random.rand():\n",
    "                    pass\n",
    "                else:\n",
    "                    spins[idx] *= -1.\n",
    "            m.append(abs(sum(spins))/(len(spins)*0.5))\n",
    "        print('h : ', h)\n",
    "        print('m : ', sum(m)/len(m))\n",
    "        h_hist.append(h)\n",
    "        m_hist.append(sum(m)/len(m))\n",
    "    return m_hist, h_hist"
   ]
  },
  {
   "cell_type": "code",
   "execution_count": 29,
   "metadata": {},
   "outputs": [],
   "source": [
    "def calc_loss(J, interactions, b, teacher_magnetization, h_range=np.linspace(0, 16, 160), reg=0.1):\n",
    "    calculated_magnetization = calc_magnetization(interactions, b, h_range)\n",
    "    loss = 0.\n",
    "    for cm, tm in zip(calculated_magnetization, teacher_magnetization):\n",
    "        loss += abs(cm-tm)\n",
    "    loss += reg*sum([abs(j) for j in J])\n",
    "    return loss"
   ]
  },
  {
   "cell_type": "code",
   "execution_count": 28,
   "metadata": {},
   "outputs": [],
   "source": [
    "def calc_grad_loss_respect_to_J(J, b, h_range=np.linspace(0, 16, 160), DELTA_J=0.1, reg=0.1):\n",
    "\n",
    "    grad_J = []\n",
    "    for i, j in enumerate(J):\n",
    "        J_bak = J.copy()\n",
    "        J[i] -= DELTA_J\n",
    "\n",
    "        interactions = {\n",
    "            0: {-3: J[3], -2: J[1], -1: J[0], 1: J[0], 2: J[1], 3: J[3]},\n",
    "            1: {-3: J[4], -2: J[5], -1: J[0], 1: J[2], 2: J[0], 4: J[5]},\n",
    "            2: {-4: J[6], -3: J[4], -2: J[1], -1: J[2], 1: J[1], 2: J[6], 3: J[4]},\n",
    "            3: {-3: J[3], -2: J[0], -1: J[1], 1: J[1], 2: J[0], 3: J[3]},\n",
    "            4: {-3: J[4], -2: J[6], -1: J[1], 1: J[2], 2: J[1], 3: J[4], 4: J[6]},\n",
    "            5: {-4: J[5], -3: J[4], -2: J[0], -1: J[2], 1: J[0], 2: J[5], 3: J[4]}\n",
    "        }\n",
    "        backword_loss = calc_loss(J, interactions, b, teacher_magnetization, h_range)\n",
    "        \n",
    "        J = J_bak.copy()\n",
    "        \n",
    "        J[i] += DELTA_J\n",
    "        interactions = {\n",
    "            0: {-3: J[3], -2: J[1], -1: J[0], 1: J[0], 2: J[1], 3: J[3]},\n",
    "            1: {-3: J[4], -2: J[5], -1: J[0], 1: J[2], 2: J[0], 4: J[5]},\n",
    "            2: {-4: J[6], -3: J[4], -2: J[1], -1: J[2], 1: J[1], 2: J[6], 3: J[4]},\n",
    "            3: {-3: J[3], -2: J[0], -1: J[1], 1: J[1], 2: J[0], 3: J[3]},\n",
    "            4: {-3: J[4], -2: J[6], -1: J[1], 1: J[2], 2: J[1], 3: J[4], 4: J[6]},\n",
    "            5: {-4: J[5], -3: J[4], -2: J[0], -1: J[2], 1: J[0], 2: J[5], 3: J[4]}\n",
    "        }\n",
    "        forword_loss = calc_loss(J, interactions, b, teacher_magnetization, h_range)\n",
    "        grad_J.append((forword_loss-backword_loss)/(2*DELTA_J))\n",
    "        \n",
    "        J = J_bak.copy()\n",
    "    \n",
    "    return grad_J"
   ]
  },
  {
   "cell_type": "code",
   "execution_count": null,
   "metadata": {},
   "outputs": [],
   "source": []
  }
 ],
 "metadata": {
  "kernelspec": {
   "display_name": "Python 3",
   "language": "python",
   "name": "python3"
  },
  "language_info": {
   "codemirror_mode": {
    "name": "ipython",
    "version": 3
   },
   "file_extension": ".py",
   "mimetype": "text/x-python",
   "name": "python",
   "nbconvert_exporter": "python",
   "pygments_lexer": "ipython3",
   "version": "3.5.0"
  }
 },
 "nbformat": 4,
 "nbformat_minor": 2
}
